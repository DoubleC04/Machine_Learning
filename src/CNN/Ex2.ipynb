{
  "nbformat": 4,
  "nbformat_minor": 0,
  "metadata": {
    "colab": {
      "provenance": []
    },
    "kernelspec": {
      "name": "python3",
      "display_name": "Python 3"
    },
    "language_info": {
      "name": "python"
    }
  },
  "cells": [
    {
      "cell_type": "code",
      "execution_count": null,
      "metadata": {
        "id": "SkKtmejtw1SA"
      },
      "outputs": [],
      "source": [
        "#!pip install tensorflow_datasets\n",
        "import os\n",
        "import numpy as np # linear algebra\n",
        "import matplotlib.pyplot as plt\n",
        "from sklearn.model_selection import train_test_split\n",
        "from sklearn.metrics import accuracy_score\n",
        "import pandas as pd # data processing, CSV file I/O (e.g. pd.read_csv)\n",
        "import tensorflow as tf\n",
        "import PIL\n",
        "import PIL.Image\n",
        "from tensorflow import keras\n",
        "import tensorflow_datasets as tfds\n",
        "\n",
        "import warnings\n",
        "warnings.filterwarnings('ignore')"
      ]
    },
    {
      "cell_type": "code",
      "source": [
        "import kagglehub\n",
        "\n",
        "# Download latest version\n",
        "path = kagglehub.dataset_download(\"ashishsaxena2209/animal-image-datasetdog-cat-and-panda\")\n",
        "\n",
        "print(\"Path to dataset files:\", path)"
      ],
      "metadata": {
        "colab": {
          "base_uri": "https://localhost:8080/"
        },
        "id": "dkYu1G4s521a",
        "outputId": "09c293e7-e22a-4fa1-fef0-aa36cc4a8d17"
      },
      "execution_count": null,
      "outputs": [
        {
          "output_type": "stream",
          "name": "stdout",
          "text": [
            "Path to dataset files: /kaggle/input/animal-image-datasetdog-cat-and-panda\n"
          ]
        }
      ]
    },
    {
      "cell_type": "code",
      "source": [
        "import shutil\n",
        "import os\n",
        "\n",
        "src_dir = path\n",
        "dest_dir = \"/content/my_dataset\"\n",
        "\n",
        "shutil.copytree(src_dir, dest_dir)"
      ],
      "metadata": {
        "id": "xqUfA1SsA0Fd",
        "colab": {
          "base_uri": "https://localhost:8080/",
          "height": 35
        },
        "outputId": "affcf384-3d3c-40a2-8f96-3229f20a6a4e"
      },
      "execution_count": null,
      "outputs": [
        {
          "output_type": "execute_result",
          "data": {
            "text/plain": [
              "'/content/my_dataset'"
            ],
            "application/vnd.google.colaboratory.intrinsic+json": {
              "type": "string"
            }
          },
          "metadata": {},
          "execution_count": 5
        }
      ]
    },
    {
      "cell_type": "code",
      "source": [
        "import os\n",
        "\n",
        "files = os.listdir('my_dataset/images')\n",
        "print(files)"
      ],
      "metadata": {
        "colab": {
          "base_uri": "https://localhost:8080/"
        },
        "id": "NbdNlFIe6AFn",
        "outputId": "ec8933e2-9f93-4c92-9e97-b260ea58058a"
      },
      "execution_count": null,
      "outputs": [
        {
          "output_type": "stream",
          "name": "stdout",
          "text": [
            "['.ipynb_checkpoints', 'dogs', 'panda', 'cats']\n"
          ]
        }
      ]
    },
    {
      "cell_type": "code",
      "source": [
        "def gen_model():\n",
        "  # Defines & compiles the model\n",
        "  model = tf.keras.models.Sequential([\n",
        "      tf.keras.layers.Conv2D(16, (3,3), activation='relu', input_shape=(150, 150, 3)),\n",
        "      tf.keras.layers.MaxPooling2D(2, 2),\n",
        "      keras.layers.Dropout(rate=0.15), #adding dropout regularization throughout the model to deal with overfitting\n",
        "\n",
        "      # The second convolution\n",
        "      tf.keras.layers.Conv2D(32, (3,3), activation='relu'),\n",
        "      tf.keras.layers.MaxPooling2D(2,2),\n",
        "      keras.layers.Dropout(rate=0.1),\n",
        "      # The third convolution\n",
        "      tf.keras.layers.Conv2D(64, (3,3), activation='relu'),\n",
        "      tf.keras.layers.MaxPooling2D(2,2),\n",
        "      keras.layers.Dropout(rate=0.10),\n",
        "      # Flatten the results to feed into a DNN\n",
        "      tf.keras.layers.Flatten(),\n",
        "      # 512 neuron hidden layer\n",
        "      tf.keras.layers.Dense(512, activation='relu'),\n",
        "      # 3 output neuron for the 3 classes of Animal Images\n",
        "      tf.keras.layers.Dense(3, activation='softmax')\n",
        "  ])\n",
        "\n",
        "  from tensorflow.keras.optimizers import RMSprop\n",
        "  model.compile(loss='categorical_crossentropy',\n",
        "                optimizer=\"adam\",\n",
        "                metrics=['acc'])\n",
        "  return model"
      ],
      "metadata": {
        "id": "1w8mMzQ5xRBp"
      },
      "execution_count": null,
      "outputs": []
    },
    {
      "cell_type": "code",
      "source": [
        "checkpoint_path = \"my_dataset/images/.ipynb_checkpoints\"\n",
        "if os.path.exists(checkpoint_path):\n",
        "    shutil.rmtree(checkpoint_path)\n",
        "    print(\"Đã xóa thư mục .ipynb_checkpoints\")"
      ],
      "metadata": {
        "colab": {
          "base_uri": "https://localhost:8080/"
        },
        "id": "WSQPLZNaFRE9",
        "outputId": "662969b1-3bc8-463c-ef39-1c5dc20b1b10"
      },
      "execution_count": null,
      "outputs": [
        {
          "output_type": "stream",
          "name": "stdout",
          "text": [
            "Đã xóa thư mục .ipynb_checkpoints\n"
          ]
        }
      ]
    },
    {
      "cell_type": "code",
      "source": [
        "# Trains a model to classify images of 3 classes: cat, dog, and panda\n",
        "def train_test_animals():\n",
        "    # Creates an instance of an ImageDataGenerator called train_datagen, and a train_generator, train_datagen.flow_from_directory\n",
        "    from tensorflow.keras.preprocessing.image import ImageDataGenerator\n",
        "\n",
        "    #splits data into training and testing(validation) sets\n",
        "    train_datagen =ImageDataGenerator(rescale=1./255, validation_split=0.25)\n",
        "\n",
        "    import matplotlib.pyplot as plt\n",
        "\n",
        "    #training data\n",
        "    train_generator = train_datagen.flow_from_directory(\n",
        "        \"my_dataset/animals/animals\",    # Source directory\n",
        "        target_size=(150, 150), # Resizes images\n",
        "        batch_size=15,\n",
        "        class_mode='categorical',\n",
        "        subset = 'training')\n",
        "\n",
        "    epochs = 2\n",
        "    #Testing data\n",
        "    validation_generator = train_datagen.flow_from_directory(\n",
        "        \"my_dataset/animals/animals\",\n",
        "        target_size=(150, 150),\n",
        "        batch_size=15,\n",
        "        class_mode='categorical',\n",
        "        subset='validation') # set as validation data\n",
        "\n",
        "    model = gen_model()\n",
        "    #Model fitting for a number of epochs\n",
        "    history = model.fit(\n",
        "        train_generator,\n",
        "        steps_per_epoch=150,\n",
        "        epochs=epochs,\n",
        "        validation_data = validation_generator,\n",
        "        validation_steps = 50,\n",
        "        verbose=1\n",
        "    )\n",
        "\n",
        "    acc = history.history['acc']\n",
        "    val_acc = history.history['val_acc']\n",
        "    loss = history.history['loss']\n",
        "    val_loss = history.history['val_loss']\n",
        "\n",
        "    #This code is used to plot the training and validation accuracy\n",
        "    epochs_range = range(epochs)\n",
        "    plt.figure(figsize=(8, 8))\n",
        "    plt.subplot(1, 2, 1)\n",
        "    plt.plot(epochs_range, acc, label='Training Accuracy')\n",
        "    plt.plot(epochs_range, val_acc, label='Validation Accuracy')\n",
        "    plt.legend(loc='lower right')\n",
        "    plt.title('Training and Validation Accuracy')\n",
        "    plt.subplot(1, 2, 2)\n",
        "    plt.plot(epochs_range, loss, label='Training Loss')\n",
        "    plt.plot(epochs_range, val_loss, label='Validation Loss')\n",
        "    plt.legend(loc='upper right')\n",
        "    plt.title('Training and Validation Loss')\n",
        "    plt.show()\n",
        "\n",
        "    # returns accuracy of training\n",
        "    print(\"Training Accuracy:\"), print(history.history['acc'][-1])\n",
        "    print(\"Testing Accuracy:\"), print (history.history['val_acc'][-1])"
      ],
      "metadata": {
        "id": "uQUofD6mx2bN"
      },
      "execution_count": null,
      "outputs": []
    },
    {
      "cell_type": "code",
      "source": [
        "train_test_animals()"
      ],
      "metadata": {
        "colab": {
          "base_uri": "https://localhost:8080/",
          "height": 873
        },
        "id": "S7q2fSok8jYW",
        "outputId": "3a63fd18-b80e-4c41-982b-b8e0f0e52af8"
      },
      "execution_count": null,
      "outputs": [
        {
          "output_type": "stream",
          "name": "stdout",
          "text": [
            "Found 2250 images belonging to 3 classes.\n",
            "Found 750 images belonging to 3 classes.\n",
            "Epoch 1/2\n",
            "\u001b[1m150/150\u001b[0m \u001b[32m━━━━━━━━━━━━━━━━━━━━\u001b[0m\u001b[37m\u001b[0m \u001b[1m81s\u001b[0m 526ms/step - acc: 0.4677 - loss: 1.3986 - val_acc: 0.6227 - val_loss: 0.8041\n",
            "Epoch 2/2\n",
            "\u001b[1m150/150\u001b[0m \u001b[32m━━━━━━━━━━━━━━━━━━━━\u001b[0m\u001b[37m\u001b[0m \u001b[1m80s\u001b[0m 534ms/step - acc: 0.6470 - loss: 0.6995 - val_acc: 0.6373 - val_loss: 0.7673\n"
          ]
        },
        {
          "output_type": "display_data",
          "data": {
            "text/plain": [
              "<Figure size 800x800 with 2 Axes>"
            ],
            "image/png": "[encoded data removed]"
          },
          "metadata": {}
        },
        {
          "output_type": "stream",
          "name": "stdout",
          "text": [
            "Training Accuracy:\n",
            "0.656000018119812\n",
            "Testing Accuracy:\n",
            "0.637333333492279\n"
          ]
        }
      ]
    },
    {
      "cell_type": "markdown",
      "source": [
        "Đưa kích thước ảnh về 150x150 và chuyển thành vector"
      ],
      "metadata": {
        "id": "sg6TrSBZIa2G"
      }
    },
    {
      "cell_type": "code",
      "source": [
        "import numpy as np\n",
        "from PIL import Image\n",
        "import os\n",
        "from sklearn.linear_model import LogisticRegression\n",
        "from sklearn.metrics import accuracy_score, precision_score, recall_score\n",
        "import matplotlib.pyplot as plt\n",
        "\n",
        "dir = 'my_dataset/animals/animals'\n",
        "\n",
        "image_size = (150, 150)\n",
        "\n",
        "def load_images_from_directory(directory):\n",
        "    images = []\n",
        "    labels = []\n",
        "    label_map_local = {}\n",
        "    label_counter_local = 0\n",
        "    for label_name in os.listdir(directory):\n",
        "        label_path = os.path.join(directory, label_name)\n",
        "        if os.path.isdir(label_path):\n",
        "            if label_name not in label_map_local:\n",
        "                label_map_local[label_name] = label_counter_local\n",
        "                label_counter_local += 1\n",
        "            current_label = label_map_local[label_name]\n",
        "            for image_file in os.listdir(label_path):\n",
        "                image_path = os.path.join(label_path, image_file)\n",
        "                try:\n",
        "                    img = Image.open(image_path).convert('RGB').resize(image_size)\n",
        "                    img_array = np.array(img).flatten()\n",
        "                    images.append(img_array)\n",
        "                    labels.append(current_label)\n",
        "                except Exception as e:\n",
        "                    print(f\"Error whem process image: {image_path} - {e}\")\n",
        "    return np.array(images), np.array(labels)\n",
        "\n",
        "X, y = load_images_from_directory(dir)\n",
        "\n",
        "\n"
      ],
      "metadata": {
        "id": "J_87owejINzs"
      },
      "execution_count": null,
      "outputs": []
    },
    {
      "cell_type": "code",
      "source": [
        "y"
      ],
      "metadata": {
        "colab": {
          "base_uri": "https://localhost:8080/"
        },
        "id": "rP4P9PDnIuVj",
        "outputId": "e30ead44-258d-4bec-baf0-439796ce2ec5"
      },
      "execution_count": null,
      "outputs": [
        {
          "output_type": "execute_result",
          "data": {
            "text/plain": [
              "array([0, 0, 0, ..., 2, 2, 2])"
            ]
          },
          "metadata": {},
          "execution_count": 24
        }
      ]
    },
    {
      "cell_type": "code",
      "source": [
        "from sklearn.model_selection import train_test_split\n",
        "from sklearn.linear_model import LogisticRegression\n",
        "\n",
        "X_train, X_test, y_train, y_test = train_test_split(X, y, test_size=0.25, random_state=42)\n",
        "\n",
        "logR = LogisticRegression(multi_class='multinomial')\n",
        "logR.fit(X_train, y_train)\n",
        "y_pred = logR.predict(X_test)\n"
      ],
      "metadata": {
        "id": "qonwxERkIzm2"
      },
      "execution_count": null,
      "outputs": []
    },
    {
      "cell_type": "code",
      "source": [
        "accuracy = accuracy_score(y_test, y_pred)\n",
        "precision = precision_score(y_test, y_pred, average='weighted')\n",
        "recall = recall_score(y_test, y_pred, average='weighted')\n",
        "\n",
        "print(f\"Accuracy: {accuracy}\")\n",
        "print(f\"Precision: {precision}\")\n",
        "print(f\"Recall: {recall}\")"
      ],
      "metadata": {
        "colab": {
          "base_uri": "https://localhost:8080/"
        },
        "id": "sEBKKiHdJgQH",
        "outputId": "ea96fb67-17d8-4402-decf-ca19483a5449"
      },
      "execution_count": null,
      "outputs": [
        {
          "output_type": "stream",
          "name": "stdout",
          "text": [
            "Accuracy: 0.532\n",
            "Precision: 0.5384738466554366\n",
            "Recall: 0.532\n"
          ]
        }
      ]
    },
    {
      "cell_type": "markdown",
      "source": [
        "Dùng PCA giảm số chiều về 255. Sau đó sử dụng mô hình ANN để phân loại."
      ],
      "metadata": {
        "id": "h_j4XckyJo3I"
      }
    },
    {
      "cell_type": "code",
      "source": [
        "from sklearn.decomposition import PCA\n",
        "\n",
        "pca = PCA(n_components=255)\n",
        "\n",
        "X_train_pca = pca.fit_transform(X_train)\n",
        "X_test_pca = pca.fit_transform(X_test)"
      ],
      "metadata": {
        "id": "1QivDm4rJp8d"
      },
      "execution_count": null,
      "outputs": []
    },
    {
      "cell_type": "code",
      "source": [
        "from scipy import sparse\n",
        "\n",
        "def ReLU(Z):\n",
        "    return np.maximum(0, Z)\n",
        "\n",
        "def softmax(Z):\n",
        "    expZ = np.exp(Z - np.max(Z, axis=0, keepdims=True))\n",
        "    return expZ / np.sum(expZ, axis=0, keepdims=True)\n",
        "\n",
        "def cost(Y, Yhat):\n",
        "    m = Y.shape[1]\n",
        "    loss = -np.sum(Y * np.log(Yhat)) / m\n",
        "    return loss\n",
        "\n",
        "def convert_labels(y, C):\n",
        "    Y = sparse.coo_matrix((np.ones_like(y),\n",
        "        (y, np.arange(len(y)))), shape = (C, len(y))).toarray()\n",
        "    return Y"
      ],
      "metadata": {
        "id": "_DrFe8mRJvf7"
      },
      "execution_count": null,
      "outputs": []
    },
    {
      "cell_type": "code",
      "source": [
        "# Gradient Descent Loop\n",
        "# To use this code easily, we put it to a method\n",
        "\n",
        "def ANN_3layer_SolveClassification(X_train, Y_train, eta, max_count, num):\n",
        "    X, Y = X_train, Y_train\n",
        "    d, N = X_train.shape\n",
        "    C = Y_train.shape[0]\n",
        "    d1, d2 = num, C\n",
        "    # make random data\n",
        "    W1 = 0.01*np.random.randn(d, d1)\n",
        "    b1 = np.zeros((d1, 1))\n",
        "    W2 = 0.01*np.random.randn(d1, d2)\n",
        "    b2 = np.zeros((d2, 1))\n",
        "\n",
        "    for i in range(max_count + 1):\n",
        "        ## Feedforward\n",
        "        Z1 = np.dot(W1.T, X) + b1\n",
        "        A1 = ReLU(Z1)\n",
        "        Z2 = np.dot(W2.T, A1) + b2\n",
        "        Yhat = softmax(Z2)\n",
        "\n",
        "\n",
        "        # print loss after each 10 iterations\n",
        "        if i % 100 == 0:\n",
        "            loss = cost(Y, Yhat)\n",
        "            print(\"iter %d, loss: %f\" %(i, loss))\n",
        "            #print(i)\n",
        "        # backpropagation\n",
        "        E2 = (Yhat - Y )/N\n",
        "        dW2 = np.dot(A1, E2.T)\n",
        "        db2 = np.sum(E2, axis = 1, keepdims = True)\n",
        "        E1 = np.dot(W2, E2)\n",
        "        E1[Z1 <= 0] = 0 # gradient of ReLU\n",
        "        dW1 = np.dot(X, E1.T)\n",
        "        db1 = np.sum(E1, axis = 1, keepdims = True)\n",
        "\n",
        "        # Gradient Descent update\n",
        "        W1 += -eta*dW1\n",
        "        b1 += -eta*db1\n",
        "        W2 += -eta*dW2\n",
        "        b2 += -eta*db2\n",
        "\n",
        "    return W1, W2, b1, b2\n",
        "\n",
        "\n",
        "def predict(W1, W2, b1, b2, images):\n",
        "    Z1 = np.dot(W1.T, images) + b1\n",
        "    A1 = ReLU(Z1)\n",
        "    Z2 = np.dot(W2.T, A1) + b2\n",
        "    a = softmax(Z2)\n",
        "    #return  np.argmax(Z2, axis=0) #\n",
        "    return np.argmax(a, axis=0)"
      ],
      "metadata": {
        "id": "j47v8iQNJxf3"
      },
      "execution_count": null,
      "outputs": []
    },
    {
      "cell_type": "code",
      "source": [
        "Y_train = convert_labels(y_train, 3)\n",
        "\n",
        "print(X_train_pca.T.shape)\n",
        "print(Y_train.shape)\n",
        "\n",
        "W1, W2, b1, b2 = ANN_3layer_SolveClassification(X_train_pca.T, Y_train, 1e-6,4000, num = 400)"
      ],
      "metadata": {
        "colab": {
          "base_uri": "https://localhost:8080/"
        },
        "id": "8V_UlI1SJz9b",
        "outputId": "db3b52a3-2146-4d81-e420-c424c6e8549f"
      },
      "execution_count": null,
      "outputs": [
        {
          "output_type": "stream",
          "name": "stdout",
          "text": [
            "(255, 2250)\n",
            "(3, 2250)\n",
            "iter 0, loss: 16.907769\n",
            "iter 100, loss: 8.839891\n",
            "iter 200, loss: 7.498804\n",
            "iter 300, loss: 6.677316\n",
            "iter 400, loss: 6.059699\n",
            "iter 500, loss: 5.573177\n",
            "iter 600, loss: 5.172920\n",
            "iter 700, loss: 4.833923\n",
            "iter 800, loss: 4.541716\n",
            "iter 900, loss: 4.285997\n",
            "iter 1000, loss: 4.057834\n",
            "iter 1100, loss: 3.851881\n",
            "iter 1200, loss: 3.665037\n",
            "iter 1300, loss: 3.494272\n",
            "iter 1400, loss: 3.337479\n",
            "iter 1500, loss: 3.193049\n",
            "iter 1600, loss: 3.059653\n",
            "iter 1700, loss: 2.936072\n",
            "iter 1800, loss: 2.821125\n",
            "iter 1900, loss: 2.713480\n",
            "iter 2000, loss: 2.612605\n",
            "iter 2100, loss: 2.518251\n",
            "iter 2200, loss: 2.429719\n",
            "iter 2300, loss: 2.346631\n",
            "iter 2400, loss: 2.268433\n",
            "iter 2500, loss: 2.194511\n",
            "iter 2600, loss: 2.124527\n",
            "iter 2700, loss: 2.058088\n",
            "iter 2800, loss: 1.994725\n",
            "iter 2900, loss: 1.934389\n",
            "iter 3000, loss: 1.876900\n",
            "iter 3100, loss: 1.822080\n",
            "iter 3200, loss: 1.769659\n",
            "iter 3300, loss: 1.719566\n",
            "iter 3400, loss: 1.671706\n",
            "iter 3500, loss: 1.625968\n",
            "iter 3600, loss: 1.582269\n",
            "iter 3700, loss: 1.540424\n",
            "iter 3800, loss: 1.500302\n",
            "iter 3900, loss: 1.461799\n",
            "iter 4000, loss: 1.424842\n"
          ]
        }
      ]
    },
    {
      "cell_type": "code",
      "source": [
        "Y_pred_train = predict(W1, W2, b1, b2, X_train_pca.T)\n",
        "print('accuracy training data: ', accuracy_score(y_train, Y_pred_train))\n",
        "\n",
        "Y_test = convert_labels(y_test, 3)\n",
        "\n",
        "\n",
        "Y_pred_val = predict(W1, W2, b1, b2, X_test_pca.T)\n",
        "print(X_test_pca.T.shape, Y_pred_val.shape, 'accuracy validation data: ', accuracy_score(y_test, Y_pred_val))\n",
        "print(y_test)\n",
        "print(Y_pred_val)"
      ],
      "metadata": {
        "colab": {
          "base_uri": "https://localhost:8080/"
        },
        "id": "1h52-72bJ3D-",
        "outputId": "5c12eca7-0214-4c7b-c00f-0d40684a0009"
      },
      "execution_count": null,
      "outputs": [
        {
          "output_type": "stream",
          "name": "stdout",
          "text": [
            "accuracy training data:  0.7275555555555555\n",
            "(255, 750) (750,) accuracy validation data:  0.492\n",
            "[1 1 1 0 2 1 1 2 0 2 2 0 0 1 2 0 1 0 2 2 0 0 0 2 1 2 2 1 0 1 1 1 0 2 0 0 2\n",
            " 0 0 1 0 0 0 0 1 1 2 0 2 1 1 2 0 2 0 2 1 0 2 1 0 0 0 0 0 1 1 1 1 0 1 2 2 1\n",
            " 0 0 2 2 2 2 1 1 0 1 2 0 2 1 2 2 0 1 2 1 1 0 2 2 0 1 2 0 0 1 1 0 1 0 0 1 2\n",
            " 0 2 2 0 2 0 0 1 1 2 1 0 1 1 2 1 0 0 0 2 1 1 1 0 0 0 1 1 2 2 1 2 2 2 0 2 2\n",
            " 2 0 1 2 0 2 0 1 0 2 1 2 1 1 0 0 1 1 0 2 2 0 2 2 1 0 2 1 2 1 0 1 0 2 1 2 0\n",
            " 0 0 2 1 1 0 1 1 0 1 2 0 2 0 0 1 1 0 2 1 1 2 2 0 2 2 1 1 2 0 0 0 0 1 2 1 1\n",
            " 0 2 1 0 0 2 1 0 1 1 2 0 0 1 0 1 2 0 2 0 2 1 0 0 1 0 0 2 1 1 0 1 2 2 1 2 2\n",
            " 2 1 1 0 1 0 2 2 2 2 0 1 1 2 0 1 1 2 1 0 0 1 0 0 0 0 1 0 2 0 0 2 2 1 1 1 2\n",
            " 0 2 2 0 0 1 0 1 2 0 1 1 1 0 0 1 0 2 1 2 0 2 1 1 1 0 2 2 1 1 0 2 2 2 0 1 1\n",
            " 1 1 2 2 1 2 1 2 0 1 2 0 1 2 0 1 0 1 2 0 2 2 0 2 0 2 1 2 2 1 0 0 0 1 1 1 2\n",
            " 0 0 1 1 0 1 1 1 0 1 0 2 0 0 0 2 1 0 0 1 2 1 1 1 2 1 0 0 0 2 0 2 1 2 2 1 0\n",
            " 2 0 2 1 0 1 0 0 1 1 0 1 0 0 2 1 1 0 0 0 0 0 0 2 0 2 1 1 1 1 1 2 0 0 1 2 1\n",
            " 2 0 2 2 0 2 2 1 2 1 1 0 1 0 0 0 1 0 0 0 1 1 0 0 0 2 0 2 2 0 2 2 2 2 1 1 2\n",
            " 0 1 2 2 2 2 2 0 2 0 1 2 2 1 0 0 2 0 2 1 0 0 2 0 1 2 1 2 0 2 0 0 1 0 2 0 0\n",
            " 1 1 0 0 1 0 0 1 2 2 1 2 2 1 1 2 0 2 1 2 1 1 2 1 0 2 0 1 0 2 2 0 1 2 0 1 0\n",
            " 2 0 0 0 0 2 2 2 0 0 1 1 0 1 2 0 0 2 1 2 0 0 0 1 0 0 0 2 2 0 1 2 1 0 1 2 2\n",
            " 2 1 1 0 2 0 1 1 0 0 0 1 1 1 0 1 2 2 2 0 2 1 1 2 1 1 0 0 2 0 1 1 2 2 0 1 1\n",
            " 0 0 2 2 2 2 0 2 0 2 1 1 1 1 2 0 1 2 0 0 1 1 0 2 2 2 2 1 2 0 2 0 2 2 0 0 2\n",
            " 2 0 1 1 2 1 0 2 0 2 1 0 2 1 2 2 2 1 0 2 1 1 1 1 2 2 1 1 2 2 2 2 1 1 0 1 0\n",
            " 2 0 2 0 0 0 2 1 1 0 1 2 1 2 0 0 1 1 1 2 0 1 1 0 1 2 0 2 1 0 2 1 2 0 0 1 2\n",
            " 0 1 0 1 2 0 1 2 1 0]\n",
            "[0 2 1 0 1 0 2 2 2 1 2 1 2 0 2 2 1 2 2 0 1 1 2 0 0 0 2 1 2 1 1 0 0 2 0 0 2\n",
            " 2 0 2 2 0 0 0 0 0 1 0 2 1 1 1 2 0 0 0 1 0 0 1 1 1 2 2 2 2 1 2 0 0 1 0 2 1\n",
            " 2 2 2 0 0 2 1 1 2 1 0 2 2 1 0 0 0 1 0 1 2 0 2 0 0 0 0 0 0 0 1 0 1 1 0 0 0\n",
            " 1 1 2 2 0 0 0 0 2 2 1 0 1 1 2 1 2 1 0 1 1 2 1 0 2 2 1 1 2 0 1 2 0 0 2 0 2\n",
            " 0 2 1 0 2 2 1 1 0 0 0 1 2 1 0 0 0 1 1 2 1 0 0 0 1 2 1 1 0 1 1 1 1 0 0 1 0\n",
            " 1 2 1 2 1 0 2 1 2 2 2 0 2 0 0 1 2 0 0 0 0 0 1 0 0 0 1 1 1 1 2 2 0 1 2 0 1\n",
            " 0 2 1 2 0 0 1 2 1 1 1 1 2 1 0 1 0 0 2 1 2 2 0 0 0 1 2 2 1 0 2 1 0 0 1 0 0\n",
            " 0 0 0 0 1 0 2 2 0 0 0 1 2 2 2 0 1 0 1 0 0 2 1 2 0 2 1 2 2 2 2 0 1 2 1 1 2\n",
            " 0 2 2 1 0 1 0 2 2 2 1 1 1 1 2 1 2 2 0 0 0 0 1 1 1 0 2 2 1 1 0 0 2 1 2 1 1\n",
            " 1 1 0 1 0 0 2 0 2 1 2 1 1 0 0 1 2 1 2 0 2 2 1 1 0 0 1 0 2 1 2 2 1 1 1 2 1\n",
            " 2 1 1 1 2 0 0 1 1 1 0 2 1 0 0 2 1 1 0 1 0 2 1 0 2 1 0 2 1 1 2 1 1 2 0 1 0\n",
            " 0 2 1 0 0 2 2 0 1 2 2 1 0 0 2 1 0 2 1 0 2 0 0 2 2 1 0 1 0 1 1 1 1 0 1 2 1\n",
            " 2 2 2 2 2 0 2 0 2 2 1 2 1 0 2 2 1 2 2 1 2 1 0 0 2 2 1 1 0 2 1 0 0 2 0 0 2\n",
            " 2 1 2 2 0 2 2 0 2 0 0 0 0 1 0 2 0 0 0 1 2 0 0 0 1 1 2 0 2 0 1 2 1 1 1 0 0\n",
            " 1 1 0 0 1 1 0 1 2 0 0 0 2 0 1 2 2 1 1 2 1 1 2 1 2 0 2 1 2 1 0 2 2 2 0 1 0\n",
            " 0 0 2 0 2 2 0 1 0 1 1 1 1 1 2 0 2 0 2 0 1 2 0 1 1 2 0 0 0 0 1 0 0 0 2 0 2\n",
            " 2 0 0 0 0 2 2 1 1 1 0 1 0 1 0 0 2 0 2 2 0 0 0 2 0 1 0 1 0 1 1 1 0 2 1 0 1\n",
            " 2 0 0 0 1 0 0 0 1 1 1 0 0 1 0 2 0 0 0 2 2 2 2 0 1 1 2 0 2 1 2 0 0 2 1 0 0\n",
            " 2 2 1 1 2 1 2 0 0 0 1 0 2 1 2 2 2 1 0 2 1 1 1 1 0 0 1 0 2 2 0 0 1 1 1 0 0\n",
            " 1 0 0 2 2 2 0 1 2 2 2 2 1 2 0 0 1 2 2 0 1 1 1 1 0 2 2 0 1 0 2 2 2 2 1 1 0\n",
            " 0 1 1 1 0 0 1 2 2 1]\n"
          ]
        }
      ]
    },
    {
      "cell_type": "code",
      "source": [],
      "metadata": {
        "id": "-EsewUqoORZB"
      },
      "execution_count": null,
      "outputs": []
    }
  ]
}