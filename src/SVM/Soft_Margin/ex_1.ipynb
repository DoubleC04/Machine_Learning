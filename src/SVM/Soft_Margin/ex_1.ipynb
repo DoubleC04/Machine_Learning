{
 "cells": [
  {
   "cell_type": "code",
   "execution_count": 13,
   "id": "45518d57",
   "metadata": {},
   "outputs": [],
   "source": [
    "import numpy as np\n",
    "import matplotlib.pyplot as plt\n",
    "from cvxopt import matrix, solvers\n",
    "from scipy.spatial.distance import cdist\n",
    "from matplotlib.backends.backend_pdf import PdfPages\n",
    "\n",
    "from sklearn.svm import SVC\n",
    "from sklearn.metrics import accuracy_score, confusion_matrix\n",
    "\n",
    "np.random.seed(21)"
   ]
  },
  {
   "cell_type": "code",
   "execution_count": 2,
   "id": "47b4a359",
   "metadata": {},
   "outputs": [],
   "source": [
    "means = [[2, 2], [4, 1]]\n",
    "cov = [[.3, .2], [.2, .3]]\n",
    "N = 100\n",
    "X0 = np.random.multivariate_normal(means[0], cov, N)\n",
    "X1 = np.random.multivariate_normal(means[1], cov, N)\n",
    "X1[-1, :] = [2.7, 2]\n",
    "X0[-1, :] = [4.5, 1.2]\n",
    "X = np.concatenate((X0.T, X1.T), axis = 1)\n",
    "y = np.concatenate((np.ones((1, N)), -1*np.ones((1, N))), axis = 1)"
   ]
  },
  {
   "cell_type": "code",
   "execution_count": null,
   "id": "e1259ab8",
   "metadata": {},
   "outputs": [
    {
     "data": {
      "image/png": "[encoded data removed]",
      "text/plain": [
       "<Figure size 500x500 with 1 Axes>"
      ]
     },
     "metadata": {},
     "output_type": "display_data"
    }
   ],
   "source": [
    "fig, ax = plt.subplots(figsize=(5, 5))\n",
    "ani = plt.cla()\n",
    "#plot points\n",
    "ani = plt.plot(X0.T[0, :], X0.T[1, :], 'b^', markersize = 5, alpha = .8)\n",
    "ani = plt.plot(X1.T[0, :], X1.T[1, :], 'ro', markersize = 5, alpha = .8)\n",
    "ani = plt.axis([-1 , 6, -1, 6])\n",
    "plt.show()"
   ]
  },
  {
   "cell_type": "markdown",
   "id": "a659c518",
   "metadata": {},
   "source": [
    "### Bài toán ràng buộc"
   ]
  },
  {
   "cell_type": "code",
   "execution_count": null,
   "id": "0d76e686",
   "metadata": {},
   "outputs": [
    {
     "name": "stdout",
     "output_type": "stream",
     "text": [
      "lambda = \n",
      " [[2.18955004e-08 4.84181238e-08 2.58111529e+01 2.37911252e-08\n",
      "  1.95738969e-08 1.19804345e-08 2.70655192e-08 2.56140559e-08\n",
      "  1.78887349e-08 2.10448956e-08 5.00017695e-08 9.99999990e+01\n",
      "  1.93376368e-08 1.38098929e-08 1.50693518e-08 1.21136359e-08\n",
      "  7.13945086e+01 1.21997851e-08 1.35494953e-08 1.81157564e-08\n",
      "  1.81084856e-08 1.05030805e-08 2.69537483e-08 4.80151283e-08\n",
      "  8.71541482e-08 1.47237173e-08 1.53795653e-08 1.49561180e-08\n",
      "  1.20423454e-08 1.09304466e-08 1.44332415e-08 2.70134059e-08\n",
      "  1.34362730e-08 2.24332293e-08 1.54527054e-08 1.79328848e-08\n",
      "  1.61078576e-07 8.45050292e-09 8.57949716e-09 2.72318461e-08\n",
      "  4.42248659e-08 1.84795368e-08 1.44190070e-08 1.39005335e-08\n",
      "  4.41891223e-08 5.70901194e-08 1.03458235e-08 1.69037185e-08\n",
      "  8.89421826e-09 5.18374275e-08 3.06528399e-08 1.64750271e-08\n",
      "  1.46587526e-08 1.48942040e-08 4.66157897e-08 1.80565701e-08\n",
      "  4.35399908e-08 4.48252489e-08 2.55017600e-08 4.78086000e-08\n",
      "  1.32432988e-08 1.91342196e-08 3.57399267e-08 2.28847737e-08\n",
      "  1.32218728e-08 5.33879392e-08 1.39067568e-08 2.43030678e-08\n",
      "  1.68422664e-08 1.61504197e-08 2.04421890e-08 1.61629424e-08\n",
      "  2.10932452e-08 2.91826786e-08 2.13747790e-08 1.54192660e-08\n",
      "  7.70824859e-09 1.62135155e-08 3.13574812e-08 4.05925702e-06\n",
      "  2.50589341e-08 1.35934120e-08 2.33753463e-08 1.91238965e-08\n",
      "  1.34346327e-08 1.67913042e-08 1.75227229e-07 1.83465920e-08\n",
      "  4.12083111e-08 2.49286422e-08 4.36130312e-08 1.15121452e-08\n",
      "  2.63472530e-08 1.73111622e-08 2.07414965e-08 1.31243514e-08\n",
      "  4.56892331e-08 1.64512341e-08 1.66272607e-08 1.00000000e+02\n",
      "  1.52308836e-08 1.09442047e-08 2.22430668e-08 1.19767939e-08\n",
      "  2.80042369e-08 1.15348900e-08 2.56996205e-08 3.14539244e-08\n",
      "  1.09416427e-08 1.94542995e-08 1.63934485e-08 4.12560653e-08\n",
      "  2.77983418e-08 1.63911124e-08 8.91788867e-09 3.37110073e-08\n",
      "  9.41263466e-09 1.17294171e-08 1.98361762e-08 1.34858701e-08\n",
      "  2.29379496e-08 2.03117772e-08 1.41380557e-08 6.95684461e-08\n",
      "  5.32605513e-08 1.10522293e-08 5.94809038e-08 1.37736282e-08\n",
      "  1.31559997e-08 1.59617406e-08 1.63641568e-08 1.71122350e-08\n",
      "  1.33994061e-08 1.33884521e-08 1.21163159e-08 1.28373837e-08\n",
      "  1.70111821e-08 1.39094935e-08 1.97075000e-08 1.84896362e-08\n",
      "  2.02947753e-08 8.72213991e-09 1.37732852e-08 9.72056675e+01\n",
      "  1.25541789e-08 3.15883371e-08 1.40788264e-08 1.88746318e-08\n",
      "  2.07247171e-08 1.95784967e-08 1.25902638e-08 1.40857523e-08\n",
      "  1.63306040e-08 2.89470847e-08 1.69783110e-08 1.44789011e-08\n",
      "  2.17729170e-08 2.45669789e-08 3.75701499e-08 4.62423967e-08\n",
      "  3.39337995e-08 1.64429516e-08 3.21984240e-08 7.68857409e-08\n",
      "  3.51653961e-08 9.99999974e+01 2.89423306e-08 2.44520463e-08\n",
      "  1.36103837e-08 1.05877379e-08 2.33319207e-08 1.48844019e-08\n",
      "  3.95563585e-08 1.06353748e-08 3.94434195e-08 3.11455896e-08\n",
      "  1.56482993e-08 2.81082652e-08 7.31653953e-09 1.28610025e-08\n",
      "  2.39371740e-08 1.39725031e-08 2.48894176e-08 9.46717916e-09\n",
      "  2.16428373e-08 2.34285964e-08 2.78668325e-08 1.84853752e-08\n",
      "  2.20552141e-08 1.07102173e-08 1.73302811e-08 2.15349017e-08\n",
      "  2.30774770e-08 2.96636986e-08 2.03843930e-08 1.46392624e-08\n",
      "  1.60581321e-08 2.49465135e-08 1.71380046e-08 1.00000000e+02]]\n"
     ]
    }
   ],
   "source": [
    "C = 100\n",
    "# build K\n",
    "V = np.concatenate((X0.T, -X1.T), axis = 1)\n",
    "# K ~ P in lib cvxopt.qp\n",
    "K = matrix(V.T.dot(V))\n",
    "\n",
    "q = matrix(-np.ones((2*N, 1)))\n",
    "# build A, b, G, h\n",
    "G = matrix(np.vstack((-np.eye(2*N), np.eye(2*N))))\n",
    "\n",
    "h = matrix(np.vstack((np.zeros((2*N, 1)), C*np.ones((2*N, 1)))))\n",
    "A = matrix(y.reshape((-1, 2*N)))\n",
    "b = matrix(np.zeros((1, 1)))\n",
    "solvers.options['show_progress'] = False\n",
    "sol = solvers.qp(K, q, G, h, A, b)\n",
    "\n",
    "l = np.array(sol['x'])\n",
    "print('lambda = \\n', l.T)"
   ]
  },
  {
   "cell_type": "code",
   "execution_count": 8,
   "id": "217954d2",
   "metadata": {},
   "outputs": [
    {
     "name": "stdout",
     "output_type": "stream",
     "text": [
      "[[-1.42831153  1.45023448]] 2.0656712488943185\n"
     ]
    }
   ],
   "source": [
    "S = np.where(l > 1e-5)[0] # support set\n",
    "S2 = np.where(l < .999*C)[0]\n",
    "\n",
    "M = list(int(val) for val in S if val in S2) # intersection of two lists\n",
    "\n",
    "XT = X.T # we need each column to be one data point in this alg\n",
    "VS = V[:, S]\n",
    "lS = l[S]\n",
    "yM = y[0][M]\n",
    "XM = XT[M, :]\n",
    "\n",
    "w_dual = VS.dot(lS).reshape(-1, 1)\n",
    "b_dual = np.mean(yM - XM.dot(w_dual))\n",
    "print(w_dual.T, b_dual)"
   ]
  },
  {
   "cell_type": "code",
   "execution_count": 15,
   "id": "cfd1f824",
   "metadata": {},
   "outputs": [],
   "source": [
    "def predict(b, w, X):\n",
    "    return np.sign(w.T @ X + b).flatten()"
   ]
  },
  {
   "cell_type": "code",
   "execution_count": 22,
   "id": "0a0741fc",
   "metadata": {},
   "outputs": [
    {
     "name": "stdout",
     "output_type": "stream",
     "text": [
      "Accuracy Score: 0.99\n",
      "Confusion Matrix: [[99  1]\n",
      " [ 1 99]]\n"
     ]
    }
   ],
   "source": [
    "y_pred_dual = predict(b_dual, w_dual, X)\n",
    "y_true = y.flatten()\n",
    "\n",
    "print(\"Accuracy Score:\", accuracy_score(y_true, y_pred_dual))\n",
    "print(\"Confusion Matrix:\", confusion_matrix(y_true, y_pred_dual))"
   ]
  },
  {
   "cell_type": "markdown",
   "id": "6aae26f3",
   "metadata": {},
   "source": [
    "### Bài toán không ràng buộc"
   ]
  },
  {
   "cell_type": "code",
   "execution_count": 9,
   "id": "81f39f74",
   "metadata": {},
   "outputs": [],
   "source": [
    "X0_bar = np.vstack((X0.T, np.ones((1, N)))) # extended data\n",
    "X1_bar = np.vstack((X1.T, np.ones((1, N)))) # extended data\n",
    "Z = np.hstack((X0_bar, - X1_bar)) # as in (22)\n",
    "\n",
    "lam = 1./C\n",
    "\n",
    "def cost(w):\n",
    "    u = w.T.dot(Z) # as in (23)\n",
    "    return (np.sum(np.maximum(0, 1 - u)) + .5*lam*np.sum(w*w)) - .5*lam*w[-1]*w[-1] # no bias\n",
    "def grad(w):\n",
    "    u = w.T.dot(Z) # as in (23)\n",
    "    H = np.where(u < 1)[1]\n",
    "    ZS = Z[:, H]\n",
    "    g = (-np.sum(ZS, axis = 1, keepdims = True) + lam*w)\n",
    "    g[-1] -= lam*w[-1] # no weight decay on bias\n",
    "    return g\n",
    "\n",
    "eps = 1e-6"
   ]
  },
  {
   "cell_type": "code",
   "execution_count": 10,
   "id": "27f4a7c2",
   "metadata": {},
   "outputs": [],
   "source": [
    "def grad_descent(w0, eta):\n",
    "    w = w0\n",
    "    it = 0\n",
    "    while it < 100000:\n",
    "        it = it + 1\n",
    "        g = grad(w)\n",
    "        w -= eta*g\n",
    "        if (it % 10000) == 1:\n",
    "            print('iter %d' %it + ' cost: %f' %cost(w))\n",
    "        if np.linalg.norm(g) < 1e-5:\n",
    "            break\n",
    "    return w"
   ]
  },
  {
   "cell_type": "code",
   "execution_count": 11,
   "id": "05ef6bdf",
   "metadata": {},
   "outputs": [
    {
     "name": "stderr",
     "output_type": "stream",
     "text": [
      "C:\\Users\\MY PC\\AppData\\Local\\Temp\\ipykernel_26956\\2275045128.py:9: DeprecationWarning: Conversion of an array with ndim > 0 to a scalar is deprecated, and will error in future. Ensure you extract a single element from your array before performing this operation. (Deprecated NumPy 1.25.)\n",
      "  print('iter %d' %it + ' cost: %f' %cost(w))\n"
     ]
    },
    {
     "name": "stdout",
     "output_type": "stream",
     "text": [
      "iter 1 cost: 832.954650\n",
      "iter 10001 cost: 5.932562\n",
      "iter 20001 cost: 5.924600\n",
      "iter 30001 cost: 5.924484\n",
      "iter 40001 cost: 5.924364\n",
      "iter 50001 cost: 5.931944\n",
      "iter 60001 cost: 5.925364\n",
      "iter 70001 cost: 5.925248\n",
      "iter 80001 cost: 5.924290\n",
      "iter 90001 cost: 5.924485\n",
      "[[-1.41988542  1.44001227]] [2.0637578]\n"
     ]
    }
   ],
   "source": [
    "w0 = np.random.randn(X0_bar.shape[0], 1)\n",
    "w = grad_descent(w0, 0.001)\n",
    "w_hinge = w[:-1].reshape(-1, 1)\n",
    "b_hinge = w[-1]\n",
    "print(w_hinge.T, b_hinge)"
   ]
  },
  {
   "cell_type": "code",
   "execution_count": 17,
   "id": "1d1225a4",
   "metadata": {},
   "outputs": [
    {
     "name": "stdout",
     "output_type": "stream",
     "text": [
      "Accuracy Score: 0.99\n",
      "Confusion Matrix: [[99  1]\n",
      " [ 1 99]]\n"
     ]
    }
   ],
   "source": [
    "y_pred_hinge = predict(b_hinge, w_hinge, X)\n",
    "\n",
    "print(\"Accuracy Score:\", accuracy_score(y_true, y_pred_hinge))\n",
    "print(\"Confusion Matrix:\", confusion_matrix(y_true, y_pred_hinge))"
   ]
  },
  {
   "cell_type": "markdown",
   "id": "c8a56766",
   "metadata": {},
   "source": [
    "### Sử dụng sklearn"
   ]
  },
  {
   "cell_type": "code",
   "execution_count": 12,
   "id": "697a04be",
   "metadata": {},
   "outputs": [
    {
     "name": "stdout",
     "output_type": "stream",
     "text": [
      "w =  [[-1.42778364  1.44987365]]\n",
      "b =  [2.06475458]\n"
     ]
    }
   ],
   "source": [
    "# Copy and put code for generate data here\n",
    "y1 = y.reshape((2*N,))\n",
    "X1 = X.T # each sample is one row\n",
    "clf = SVC(kernel = 'linear', C = 100) # use the same C\n",
    "# if C is small, method will be “SoftMagin SVM”,\n",
    "# if C is large enough, method is near to hard margin\n",
    "clf.fit(X1, y1)\n",
    "\n",
    "w = clf.coef_\n",
    "w0 = clf.intercept_\n",
    "print('w = ', w)\n",
    "print('b = ', w0)"
   ]
  },
  {
   "cell_type": "code",
   "execution_count": 20,
   "id": "e1b72b6f",
   "metadata": {},
   "outputs": [
    {
     "name": "stdout",
     "output_type": "stream",
     "text": [
      "Accuracy Score: 0.99\n",
      "Confusion Matrix: [[99  1]\n",
      " [ 1 99]]\n"
     ]
    }
   ],
   "source": [
    "y_pred = clf.predict(X.T)\n",
    "\n",
    "print(\"Accuracy Score:\", accuracy_score(y_true, y_pred))\n",
    "print(\"Confusion Matrix:\", confusion_matrix(y_true, y_pred))"
   ]
  },
  {
   "cell_type": "markdown",
   "id": "8838f466",
   "metadata": {},
   "source": [
    "### C = 1000"
   ]
  },
  {
   "cell_type": "code",
   "execution_count": 29,
   "id": "a48aa087",
   "metadata": {},
   "outputs": [
    {
     "name": "stdout",
     "output_type": "stream",
     "text": [
      "\n",
      "--------------C = 1000--------------\n",
      "w =  [[-1.42706137  1.45148718]]\n",
      "b =  [2.06017003]\n",
      "Accuracy Score: 0.99\n",
      "Confusion Matrix: [[99  1]\n",
      " [ 1 99]]\n",
      "\n",
      "--------------C = 200--------------\n",
      "w =  [[-1.4275913   1.45062282]]\n",
      "b =  [2.06302265]\n",
      "Accuracy Score: 0.99\n",
      "Confusion Matrix: [[99  1]\n",
      " [ 1 99]]\n",
      "\n",
      "--------------C = 10--------------\n",
      "w =  [[-1.31258548  1.33275939]]\n",
      "b =  [1.97921644]\n",
      "Accuracy Score: 0.99\n",
      "Confusion Matrix: [[99  1]\n",
      " [ 1 99]]\n",
      "\n",
      "--------------C = 0.5--------------\n",
      "w =  [[-1.26577876  1.12483886]]\n",
      "b =  [2.11317636]\n",
      "Accuracy Score: 0.99\n",
      "Confusion Matrix: [[99  1]\n",
      " [ 1 99]]\n"
     ]
    }
   ],
   "source": [
    "c_list = [1000, 200, 10, 0.5]\n",
    "\n",
    "for c in c_list:\n",
    "    print(f\"\\n--------------C = {c}--------------\")\n",
    "    y1 = y.reshape((2*N,))\n",
    "    X1 = X.T \n",
    "    clf = SVC(kernel = 'linear', C = c) \n",
    "    # if C is small, method will be “SoftMagin SVM”,\n",
    "    # if C is large enough, method is near to hard margin\n",
    "    clf.fit(X1, y1)\n",
    "\n",
    "    w = clf.coef_\n",
    "    w0 = clf.intercept_\n",
    "    print('w = ', w)\n",
    "    print('b = ', w0)\n",
    "    \n",
    "    y_pred = clf.predict(X.T)\n",
    "\n",
    "    print(\"Accuracy Score:\", accuracy_score(y_true, y_pred))\n",
    "    print(\"Confusion Matrix:\", confusion_matrix(y_true, y_pred))"
   ]
  },
  {
   "cell_type": "code",
   "execution_count": null,
   "id": "8dbe14d6",
   "metadata": {},
   "outputs": [
    {
     "name": "stdout",
     "output_type": "stream",
     "text": [
      "Accuracy Score: 0.99\n",
      "Confusion Matrix: [[99  1]\n",
      " [ 1 99]]\n"
     ]
    }
   ],
   "source": []
  },
  {
   "cell_type": "code",
   "execution_count": null,
   "id": "ed95bbad",
   "metadata": {},
   "outputs": [],
   "source": []
  },
  {
   "cell_type": "code",
   "execution_count": null,
   "id": "11187375",
   "metadata": {},
   "outputs": [],
   "source": []
  },
  {
   "cell_type": "code",
   "execution_count": null,
   "id": "8e002608",
   "metadata": {},
   "outputs": [],
   "source": []
  },
  {
   "cell_type": "code",
   "execution_count": null,
   "id": "44e411b8",
   "metadata": {},
   "outputs": [],
   "source": []
  },
  {
   "cell_type": "code",
   "execution_count": null,
   "id": "f948c9e4",
   "metadata": {},
   "outputs": [],
   "source": []
  },
  {
   "cell_type": "code",
   "execution_count": null,
   "id": "b86ddd1c",
   "metadata": {},
   "outputs": [],
   "source": []
  },
  {
   "cell_type": "code",
   "execution_count": null,
   "id": "e3537517",
   "metadata": {},
   "outputs": [],
   "source": []
  }
 ],
 "metadata": {
  "kernelspec": {
   "display_name": "venv",
   "language": "python",
   "name": "python3"
  },
  "language_info": {
   "codemirror_mode": {
    "name": "ipython",
    "version": 3
   },
   "file_extension": ".py",
   "mimetype": "text/x-python",
   "name": "python",
   "nbconvert_exporter": "python",
   "pygments_lexer": "ipython3",
   "version": "3.12.2"
  }
 },
 "nbformat": 4,
 "nbformat_minor": 5
}
