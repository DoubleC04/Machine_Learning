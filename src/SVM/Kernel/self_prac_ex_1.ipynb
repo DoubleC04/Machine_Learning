{
 "cells": [
  {
   "cell_type": "code",
   "execution_count": 3,
   "id": "e274c669",
   "metadata": {},
   "outputs": [],
   "source": [
    "import scipy.io as sio\n",
    "from sklearn.svm import SVC\n",
    "from sklearn.metrics import accuracy_score"
   ]
  },
  {
   "cell_type": "code",
   "execution_count": 4,
   "id": "8b3cdb21",
   "metadata": {},
   "outputs": [
    {
     "name": "stdout",
     "output_type": "stream",
     "text": [
      "(700, 300)\n"
     ]
    }
   ],
   "source": [
    "A = sio.loadmat('../../../data/SVM/ARgender.mat')\n",
    "X_train = A['Y_train'].T\n",
    "X_test = A['Y_test'].T\n",
    "print(X_train.shape)\n",
    "N = 700\n",
    "y_train = A['label_train'].reshape(N)\n",
    "y_test = A['label_test'].reshape(N)"
   ]
  },
  {
   "cell_type": "code",
   "execution_count": null,
   "id": "99a35ac9",
   "metadata": {},
   "outputs": [
    {
     "name": "stdout",
     "output_type": "stream",
     "text": [
      "Accuracy with kernel 'linear': 0.9028571428571428\n",
      "Accuracy with kernel 'sigmoid': 0.8942857142857142\n",
      "Accuracy with kernel 'poly': 0.9228571428571428\n",
      "Accuracy with kernel 'rbf': 0.9085714285714286\n"
     ]
    }
   ],
   "source": [
    "# fit the model\n",
    "for kernel in ('linear','sigmoid', 'poly', 'rbf'):\n",
    "    clf = SVC(kernel=kernel, gamma=1, coef0 = 1)\n",
    "    clf.fit(X_train, y_train)\n",
    "    \n",
    "    y_pred = clf.predict(X_test)\n",
    "    \n",
    "    print(f\"Accuracy with kernel '{kernel}':\", accuracy_score(y_test, y_pred))\n",
    "\n",
    "    "
   ]
  },
  {
   "cell_type": "code",
   "execution_count": null,
   "id": "3d6f4367",
   "metadata": {},
   "outputs": [],
   "source": []
  },
  {
   "cell_type": "code",
   "execution_count": null,
   "id": "94e29f78",
   "metadata": {},
   "outputs": [],
   "source": []
  },
  {
   "cell_type": "code",
   "execution_count": null,
   "id": "2c170ed2",
   "metadata": {},
   "outputs": [],
   "source": []
  }
 ],
 "metadata": {
  "kernelspec": {
   "display_name": "venv",
   "language": "python",
   "name": "python3"
  },
  "language_info": {
   "codemirror_mode": {
    "name": "ipython",
    "version": 3
   },
   "file_extension": ".py",
   "mimetype": "text/x-python",
   "name": "python",
   "nbconvert_exporter": "python",
   "pygments_lexer": "ipython3",
   "version": "3.12.2"
  }
 },
 "nbformat": 4,
 "nbformat_minor": 5
}
