{
 "cells": [
  {
   "cell_type": "code",
   "execution_count": 1,
   "id": "c60effea",
   "metadata": {},
   "outputs": [],
   "source": [
    "import numpy as np\n",
    "import pandas as pd\n",
    "\n",
    "from sklearn.metrics import r2_score, mean_squared_error\n",
    "from sklearn.linear_model import LinearRegression"
   ]
  },
  {
   "cell_type": "code",
   "execution_count": 7,
   "id": "c5eaf304",
   "metadata": {},
   "outputs": [],
   "source": [
    "# cost or loss function\n",
    "def cost(Y, Yhat):\n",
    "    return np.mean((Yhat - Y) ** 2)"
   ]
  },
  {
   "cell_type": "code",
   "execution_count": 8,
   "id": "a372d9fc",
   "metadata": {},
   "outputs": [
    {
     "data": {
      "text/html": [
       "<div>\n",
       "<style scoped>\n",
       "    .dataframe tbody tr th:only-of-type {\n",
       "        vertical-align: middle;\n",
       "    }\n",
       "\n",
       "    .dataframe tbody tr th {\n",
       "        vertical-align: top;\n",
       "    }\n",
       "\n",
       "    .dataframe thead th {\n",
       "        text-align: right;\n",
       "    }\n",
       "</style>\n",
       "<table border=\"1\" class=\"dataframe\">\n",
       "  <thead>\n",
       "    <tr style=\"text-align: right;\">\n",
       "      <th></th>\n",
       "      <th>ID</th>\n",
       "      <th>TUOI</th>\n",
       "      <th>BMI</th>\n",
       "      <th>HA</th>\n",
       "      <th>GLUCOSE</th>\n",
       "      <th>CHOLESTEROL</th>\n",
       "      <th>BEDAYNTM</th>\n",
       "    </tr>\n",
       "  </thead>\n",
       "  <tbody>\n",
       "    <tr>\n",
       "      <th>0</th>\n",
       "      <td>1</td>\n",
       "      <td>56</td>\n",
       "      <td>21</td>\n",
       "      <td>160</td>\n",
       "      <td>14.0</td>\n",
       "      <td>6.00</td>\n",
       "      <td>1.95</td>\n",
       "    </tr>\n",
       "    <tr>\n",
       "      <th>1</th>\n",
       "      <td>2</td>\n",
       "      <td>76</td>\n",
       "      <td>18</td>\n",
       "      <td>150</td>\n",
       "      <td>12.0</td>\n",
       "      <td>4.97</td>\n",
       "      <td>1.33</td>\n",
       "    </tr>\n",
       "    <tr>\n",
       "      <th>2</th>\n",
       "      <td>3</td>\n",
       "      <td>63</td>\n",
       "      <td>16</td>\n",
       "      <td>160</td>\n",
       "      <td>4.4</td>\n",
       "      <td>6.39</td>\n",
       "      <td>0.83</td>\n",
       "    </tr>\n",
       "    <tr>\n",
       "      <th>3</th>\n",
       "      <td>4</td>\n",
       "      <td>78</td>\n",
       "      <td>20</td>\n",
       "      <td>100</td>\n",
       "      <td>4.0</td>\n",
       "      <td>7.00</td>\n",
       "      <td>2.00</td>\n",
       "    </tr>\n",
       "    <tr>\n",
       "      <th>4</th>\n",
       "      <td>5</td>\n",
       "      <td>87</td>\n",
       "      <td>20</td>\n",
       "      <td>110</td>\n",
       "      <td>4.6</td>\n",
       "      <td>4.10</td>\n",
       "      <td>1.30</td>\n",
       "    </tr>\n",
       "  </tbody>\n",
       "</table>\n",
       "</div>"
      ],
      "text/plain": [
       "   ID  TUOI  BMI   HA  GLUCOSE  CHOLESTEROL  BEDAYNTM\n",
       "0   1    56   21  160     14.0         6.00      1.95\n",
       "1   2    76   18  150     12.0         4.97      1.33\n",
       "2   3    63   16  160      4.4         6.39      0.83\n",
       "3   4    78   20  100      4.0         7.00      2.00\n",
       "4   5    87   20  110      4.6         4.10      1.30"
      ]
     },
     "execution_count": 8,
     "metadata": {},
     "output_type": "execute_result"
    }
   ],
   "source": [
    "path = '../../data/KNN_Linear_Regression/vidu4_lin_reg.txt'\n",
    "\n",
    "df = pd.read_csv(path, sep=\" \")\n",
    "df.head()"
   ]
  },
  {
   "cell_type": "code",
   "execution_count": 9,
   "id": "7b5410f8",
   "metadata": {},
   "outputs": [],
   "source": [
    "X = df.drop(['ID', 'BEDAYNTM'], axis=1)\n",
    "y = df['BEDAYNTM']\n",
    "\n",
    "X_train = X[:80]\n",
    "y_train = y[:80]\n",
    "\n",
    "X_test = X[80:]\n",
    "y_test = y[80:]"
   ]
  },
  {
   "cell_type": "code",
   "execution_count": 14,
   "id": "cf41b297",
   "metadata": {},
   "outputs": [],
   "source": [
    "y_train = y_train.to_numpy().reshape(-1, 1)\n",
    "y_test = y_test.to_numpy().reshape(-1, 1)"
   ]
  },
  {
   "cell_type": "code",
   "execution_count": 15,
   "id": "fdc61885",
   "metadata": {},
   "outputs": [
    {
     "name": "stdout",
     "output_type": "stream",
     "text": [
      "iter 0, loss: 1.153158\n",
      "iter 1000, loss: 0.151161\n",
      "iter 2000, loss: 0.151270\n",
      "iter 3000, loss: 0.151394\n",
      "iter 4000, loss: 0.151515\n",
      "iter 5000, loss: 0.151641\n",
      "iter 6000, loss: 0.151752\n",
      "iter 7000, loss: 0.151921\n",
      "iter 8000, loss: 0.152012\n",
      "iter 9000, loss: 0.152110\n"
     ]
    }
   ],
   "source": [
    "d0 = 5\n",
    "d1 = h = 100 # size of hidden layer\n",
    "d2 = C = 1\n",
    "# initialize parameters randomly\n",
    "W1 = 0.01*np.random.randn(d0, d1)\n",
    "b1 = np.zeros((d1, 1))\n",
    "W2 = 0.01*np.random.randn(d1, d2)\n",
    "b2 = np.zeros((d2, 1))\n",
    "\n",
    "N = X_train.T.shape[1]\n",
    "eta = 0.001 # learning rate\n",
    "\n",
    "for i in range(10000):\n",
    "    ## Feedforward\n",
    "    Z1 = np.dot(W1.T, X_train.T) + b1\n",
    "    A1 = np.where(Z1 > 0, Z1, 0.01 * Z1)  # LeakyReLU\n",
    "    Z2 = np.dot(W2.T, A1) + b2\n",
    "    Yhat = Z2\n",
    "\n",
    "    # print loss after each 1000 iterations\n",
    "    if i %1000 == 0:\n",
    "        # compute the loss: average cross-entropy loss\n",
    "        loss = cost(y_train, Yhat)\n",
    "        print(\"iter %d, loss: %f\" %(i, loss))\n",
    "\n",
    "    # backpropagation\n",
    "    E2 = (Yhat - y_train.T)/N\n",
    "    dW2 = np.dot(A1, E2.T)\n",
    "    db2 = np.sum(E2, axis = 1, keepdims = True)\n",
    "    E1 = np.dot(W2, E2)\n",
    "    E1 = np.where(Z1 > 0, E1, 0.01 * E1)  # Gradient of LeakyReLU\n",
    "    dW1 = np.dot(X_train.T, E1.T)\n",
    "    db1 = np.sum(E1, axis = 1, keepdims = True)\n",
    "    \n",
    "    # Gradient clipping (To avoid booming gradient)\n",
    "    clip_value = 1.0\n",
    "    dW1 = np.clip(dW1, -clip_value, clip_value)\n",
    "    dW2 = np.clip(dW2, -clip_value, clip_value)\n",
    "    db1 = np.clip(db1, -clip_value, clip_value)\n",
    "    db2 = np.clip(db2, -clip_value, clip_value)\n",
    "    \n",
    "    # Gradient Descent update\n",
    "    W1 += -eta*dW1\n",
    "    b1 += -eta*db1\n",
    "    W2 += -eta*dW2\n",
    "    b2 += -eta*db2"
   ]
  },
  {
   "cell_type": "code",
   "execution_count": 19,
   "id": "0e9910bd",
   "metadata": {},
   "outputs": [
    {
     "data": {
      "text/plain": [
       "array([[1.11497719, 1.23998669, 1.07354795, 1.08679278, 1.20380262,\n",
       "        1.18877061, 1.01981125, 1.04947974, 1.18006742, 1.23083979,\n",
       "        0.67018851, 1.14544376, 1.22453133, 1.02368053, 0.97461217,\n",
       "        0.74332005, 1.05975262, 1.22566149, 1.06605535, 1.06686756,\n",
       "        1.25728034, 1.16697728, 1.37735595, 0.80889336, 1.36306982,\n",
       "        1.21070689, 0.99490963, 0.94867508, 1.26021516, 0.96376519,\n",
       "        1.02069571, 1.13204354, 1.13611234, 0.99688824, 0.85768182,\n",
       "        1.19945584, 1.03741155, 1.06089705, 1.14798274, 1.09071093,\n",
       "        1.32982296, 1.02360686, 0.76585105, 0.98519522, 1.02839671,\n",
       "        1.23730652, 0.9256423 , 0.97945776, 1.01762779, 0.74853045,\n",
       "        1.01135444, 1.13011086, 1.03044775, 1.09680799, 1.22701591,\n",
       "        1.14640831, 0.79531051, 1.0421316 , 0.78324817, 1.08130627,\n",
       "        0.98489927, 1.07130752, 0.97317969, 1.08298122, 0.93630852,\n",
       "        0.88488432, 1.00248139, 1.07940235, 0.87386834, 1.05629865,\n",
       "        1.16836865, 1.46101701, 1.12893455, 0.92446614, 0.75207865,\n",
       "        1.00338076, 1.02275069, 1.21224032, 1.1329452 , 1.15370167]])"
      ]
     },
     "execution_count": 19,
     "metadata": {},
     "output_type": "execute_result"
    }
   ],
   "source": [
    "Z1 = np.dot(W1.T, X_train.T) + b1\n",
    "A1 = np.maximum(Z1, 0)\n",
    "Z2 = np.dot(W2.T, A1) + b2\n",
    "\n",
    "Z2"
   ]
  },
  {
   "cell_type": "code",
   "execution_count": 20,
   "id": "ae758628",
   "metadata": {},
   "outputs": [
    {
     "name": "stdout",
     "output_type": "stream",
     "text": [
      "R square: 0.1973020716166839\n",
      "MSE: 0.10353487604071536\n"
     ]
    }
   ],
   "source": [
    "print(\"R square:\", r2_score(y_train, Z2[0]))\n",
    "print(\"MSE:\", mean_squared_error(y_train, Z2[0]))"
   ]
  },
  {
   "cell_type": "code",
   "execution_count": 21,
   "id": "a46bc318",
   "metadata": {},
   "outputs": [
    {
     "data": {
      "text/plain": [
       "array([[0.89754097, 0.79275009, 1.20561969, 0.94371207, 0.95009381,\n",
       "        1.04758867, 1.21050124, 1.06368438, 0.99936876, 0.68683721,\n",
       "        0.79799435, 0.75365748, 1.17834715, 1.05542705, 0.97537861,\n",
       "        1.01857953, 1.16276825, 1.18606181, 1.31855509, 1.28324927]])"
      ]
     },
     "execution_count": 21,
     "metadata": {},
     "output_type": "execute_result"
    }
   ],
   "source": [
    "Z1 = np.dot(W1.T, X_test.T) + b1\n",
    "A1 = np.maximum(Z1, 0)\n",
    "Z2 = np.dot(W2.T, A1) + b2\n",
    "\n",
    "Z2"
   ]
  },
  {
   "cell_type": "code",
   "execution_count": 22,
   "id": "fccb1303",
   "metadata": {},
   "outputs": [
    {
     "name": "stdout",
     "output_type": "stream",
     "text": [
      "R square: 0.20765114323224465\n",
      "MSE: 0.22939509648218898\n"
     ]
    }
   ],
   "source": [
    "print(\"R square:\", r2_score(y_test, Z2[0]))\n",
    "print(\"MSE:\", mean_squared_error(y_test, Z2[0]))"
   ]
  },
  {
   "cell_type": "code",
   "execution_count": 23,
   "id": "ef9abc41",
   "metadata": {},
   "outputs": [
    {
     "name": "stdout",
     "output_type": "stream",
     "text": [
      "R square: 0.21453893938640334\n",
      "MSE: 0.22740099167615907\n"
     ]
    }
   ],
   "source": [
    "linR = LinearRegression()\n",
    "\n",
    "linR.fit(X_train, y_train)\n",
    "\n",
    "y_pred = linR.predict(X_test)\n",
    "\n",
    "print(\"R square:\", r2_score(y_test, y_pred))\n",
    "print(\"MSE:\", mean_squared_error(y_test, y_pred))"
   ]
  },
  {
   "cell_type": "code",
   "execution_count": null,
   "id": "f093abaf",
   "metadata": {},
   "outputs": [],
   "source": []
  }
 ],
 "metadata": {
  "kernelspec": {
   "display_name": "venv",
   "language": "python",
   "name": "python3"
  },
  "language_info": {
   "codemirror_mode": {
    "name": "ipython",
    "version": 3
   },
   "file_extension": ".py",
   "mimetype": "text/x-python",
   "name": "python",
   "nbconvert_exporter": "python",
   "pygments_lexer": "ipython3",
   "version": "3.12.2"
  }
 },
 "nbformat": 4,
 "nbformat_minor": 5
}
