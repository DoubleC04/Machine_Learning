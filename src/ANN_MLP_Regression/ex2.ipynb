{
 "cells": [
  {
   "cell_type": "code",
   "execution_count": 1,
   "id": "c60effea",
   "metadata": {},
   "outputs": [],
   "source": [
    "import numpy as np\n",
    "import pandas as pd\n",
    "\n",
    "from sklearn.metrics import r2_score, mean_squared_error\n",
    "from sklearn.linear_model import LinearRegression"
   ]
  },
  {
   "cell_type": "code",
   "execution_count": 2,
   "id": "c5eaf304",
   "metadata": {},
   "outputs": [],
   "source": [
    "# cost or loss function\n",
    "def cost(Y, Yhat):\n",
    "    return np.mean((Yhat - Y) ** 2)"
   ]
  },
  {
   "cell_type": "code",
   "execution_count": 3,
   "id": "a372d9fc",
   "metadata": {},
   "outputs": [
    {
     "data": {
      "text/html": [
       "<div>\n",
       "<style scoped>\n",
       "    .dataframe tbody tr th:only-of-type {\n",
       "        vertical-align: middle;\n",
       "    }\n",
       "\n",
       "    .dataframe tbody tr th {\n",
       "        vertical-align: top;\n",
       "    }\n",
       "\n",
       "    .dataframe thead th {\n",
       "        text-align: right;\n",
       "    }\n",
       "</style>\n",
       "<table border=\"1\" class=\"dataframe\">\n",
       "  <thead>\n",
       "    <tr style=\"text-align: right;\">\n",
       "      <th></th>\n",
       "      <th>ID</th>\n",
       "      <th>TUOI</th>\n",
       "      <th>BMI</th>\n",
       "      <th>HA</th>\n",
       "      <th>GLUCOSE</th>\n",
       "      <th>CHOLESTEROL</th>\n",
       "      <th>BEDAYNTM</th>\n",
       "    </tr>\n",
       "  </thead>\n",
       "  <tbody>\n",
       "    <tr>\n",
       "      <th>0</th>\n",
       "      <td>1</td>\n",
       "      <td>56</td>\n",
       "      <td>21</td>\n",
       "      <td>160</td>\n",
       "      <td>14.0</td>\n",
       "      <td>6.00</td>\n",
       "      <td>1.95</td>\n",
       "    </tr>\n",
       "    <tr>\n",
       "      <th>1</th>\n",
       "      <td>2</td>\n",
       "      <td>76</td>\n",
       "      <td>18</td>\n",
       "      <td>150</td>\n",
       "      <td>12.0</td>\n",
       "      <td>4.97</td>\n",
       "      <td>1.33</td>\n",
       "    </tr>\n",
       "    <tr>\n",
       "      <th>2</th>\n",
       "      <td>3</td>\n",
       "      <td>63</td>\n",
       "      <td>16</td>\n",
       "      <td>160</td>\n",
       "      <td>4.4</td>\n",
       "      <td>6.39</td>\n",
       "      <td>0.83</td>\n",
       "    </tr>\n",
       "    <tr>\n",
       "      <th>3</th>\n",
       "      <td>4</td>\n",
       "      <td>78</td>\n",
       "      <td>20</td>\n",
       "      <td>100</td>\n",
       "      <td>4.0</td>\n",
       "      <td>7.00</td>\n",
       "      <td>2.00</td>\n",
       "    </tr>\n",
       "    <tr>\n",
       "      <th>4</th>\n",
       "      <td>5</td>\n",
       "      <td>87</td>\n",
       "      <td>20</td>\n",
       "      <td>110</td>\n",
       "      <td>4.6</td>\n",
       "      <td>4.10</td>\n",
       "      <td>1.30</td>\n",
       "    </tr>\n",
       "  </tbody>\n",
       "</table>\n",
       "</div>"
      ],
      "text/plain": [
       "   ID  TUOI  BMI   HA  GLUCOSE  CHOLESTEROL  BEDAYNTM\n",
       "0   1    56   21  160     14.0         6.00      1.95\n",
       "1   2    76   18  150     12.0         4.97      1.33\n",
       "2   3    63   16  160      4.4         6.39      0.83\n",
       "3   4    78   20  100      4.0         7.00      2.00\n",
       "4   5    87   20  110      4.6         4.10      1.30"
      ]
     },
     "execution_count": 3,
     "metadata": {},
     "output_type": "execute_result"
    }
   ],
   "source": [
    "path = '../../data/KNN_Linear_Regression/vidu4_lin_reg.txt'\n",
    "\n",
    "df = pd.read_csv(path, sep=\" \")\n",
    "df.head()"
   ]
  },
  {
   "cell_type": "code",
   "execution_count": 4,
   "id": "7b5410f8",
   "metadata": {},
   "outputs": [],
   "source": [
    "X = df.drop(['ID', 'BEDAYNTM'], axis=1)\n",
    "y = df['BEDAYNTM']\n",
    "\n",
    "X_train = X[:80]\n",
    "y_train = y[:80]\n",
    "\n",
    "X_test = X[80:]\n",
    "y_test = y[80:]"
   ]
  },
  {
   "cell_type": "code",
   "execution_count": 5,
   "id": "cf41b297",
   "metadata": {},
   "outputs": [],
   "source": [
    "y_train = y_train.to_numpy().reshape(-1, 1)\n",
    "y_test = y_test.to_numpy().reshape(-1, 1)"
   ]
  },
  {
   "cell_type": "markdown",
   "id": "1b025e9d",
   "metadata": {},
   "source": [
    "**Huấn luyện mô hình `ANN` với dữ liệu tập Train**"
   ]
  },
  {
   "cell_type": "code",
   "execution_count": 6,
   "id": "fdc61885",
   "metadata": {},
   "outputs": [
    {
     "name": "stdout",
     "output_type": "stream",
     "text": [
      "iter 0, loss: 1.010095\n",
      "iter 1000, loss: 0.152525\n",
      "iter 2000, loss: 0.152228\n",
      "iter 3000, loss: 0.152043\n",
      "iter 4000, loss: 0.151956\n",
      "iter 5000, loss: 0.151910\n",
      "iter 6000, loss: 0.151891\n",
      "iter 7000, loss: 0.151872\n",
      "iter 8000, loss: 0.151845\n",
      "iter 9000, loss: 0.151823\n"
     ]
    }
   ],
   "source": [
    "d0 = 5\n",
    "d1 = h = 100 # size of hidden layer\n",
    "d2 = C = 1\n",
    "# initialize parameters randomly\n",
    "W1 = 0.01*np.random.randn(d0, d1)\n",
    "b1 = np.zeros((d1, 1))\n",
    "W2 = 0.01*np.random.randn(d1, d2)\n",
    "b2 = np.zeros((d2, 1))\n",
    "\n",
    "N = X_train.T.shape[1]\n",
    "eta = 0.001 # learning rate\n",
    "\n",
    "for i in range(10000):\n",
    "    ## Feedforward\n",
    "    Z1 = np.dot(W1.T, X_train.T) + b1\n",
    "    A1 = np.where(Z1 > 0, Z1, 0.01 * Z1)  # LeakyReLU\n",
    "    Z2 = np.dot(W2.T, A1) + b2\n",
    "    Yhat = Z2\n",
    "\n",
    "    # print loss after each 1000 iterations\n",
    "    if i %1000 == 0:\n",
    "        # compute the loss: average cross-entropy loss\n",
    "        loss = cost(y_train, Yhat)\n",
    "        print(\"iter %d, loss: %f\" %(i, loss))\n",
    "\n",
    "    # backpropagation\n",
    "    E2 = (Yhat - y_train.T)/N\n",
    "    dW2 = np.dot(A1, E2.T)\n",
    "    db2 = np.sum(E2, axis = 1, keepdims = True)\n",
    "    E1 = np.dot(W2, E2)\n",
    "    E1 = np.where(Z1 > 0, E1, 0.01 * E1)  # Gradient of LeakyReLU\n",
    "    dW1 = np.dot(X_train.T, E1.T)\n",
    "    db1 = np.sum(E1, axis = 1, keepdims = True)\n",
    "    \n",
    "    # Gradient clipping (To avoid booming gradient)\n",
    "    clip_value = 1.0\n",
    "    dW1 = np.clip(dW1, -clip_value, clip_value)\n",
    "    dW2 = np.clip(dW2, -clip_value, clip_value)\n",
    "    db1 = np.clip(db1, -clip_value, clip_value)\n",
    "    db2 = np.clip(db2, -clip_value, clip_value)\n",
    "    \n",
    "    # Gradient Descent update\n",
    "    W1 += -eta*dW1\n",
    "    b1 += -eta*db1\n",
    "    W2 += -eta*dW2\n",
    "    b2 += -eta*db2"
   ]
  },
  {
   "cell_type": "markdown",
   "id": "a96621fc",
   "metadata": {},
   "source": [
    "**Dự đoán của mô hình với dữ liệu trong tập Train**"
   ]
  },
  {
   "cell_type": "code",
   "execution_count": 7,
   "id": "0e9910bd",
   "metadata": {},
   "outputs": [
    {
     "data": {
      "text/plain": [
       "array([[1.12082839, 1.24601952, 1.0868554 , 1.0878102 , 1.19604745,\n",
       "        1.17547033, 1.02277586, 1.05398375, 1.17159478, 1.22952681,\n",
       "        0.67345556, 1.14943356, 1.2203613 , 1.0306111 , 0.98057657,\n",
       "        0.74384184, 1.06850931, 1.22792687, 1.06068595, 1.06975716,\n",
       "        1.25396264, 1.17698511, 1.36018921, 0.80959447, 1.34543186,\n",
       "        1.21268292, 1.00506598, 0.95631103, 1.26018994, 0.96352228,\n",
       "        1.02598717, 1.13040661, 1.14361081, 0.99944447, 0.8680264 ,\n",
       "        1.20500185, 1.04187736, 1.0666443 , 1.16356392, 1.10377833,\n",
       "        1.33487152, 1.03606611, 0.76597022, 0.98452737, 1.0173377 ,\n",
       "        1.21657976, 0.92779374, 0.98527958, 1.02356837, 0.75357098,\n",
       "        1.01366941, 1.12439719, 1.02811936, 1.10651459, 1.21909649,\n",
       "        1.12866882, 0.79185092, 1.04414977, 0.74939202, 1.0745346 ,\n",
       "        0.99203311, 1.0693366 , 0.97805633, 1.09374101, 0.94531887,\n",
       "        0.89337238, 1.00360539, 1.0908511 , 0.88185608, 1.0640148 ,\n",
       "        1.17395933, 1.460774  , 1.13279713, 0.93051627, 0.75010373,\n",
       "        1.00194935, 1.02955646, 1.21270591, 1.12463045, 1.15536144]])"
      ]
     },
     "execution_count": 7,
     "metadata": {},
     "output_type": "execute_result"
    }
   ],
   "source": [
    "Z1 = np.dot(W1.T, X_train.T) + b1\n",
    "A1 = np.maximum(Z1, 0)\n",
    "Z2 = np.dot(W2.T, A1) + b2\n",
    "\n",
    "Z2"
   ]
  },
  {
   "cell_type": "markdown",
   "id": "6e5f6280",
   "metadata": {},
   "source": [
    "**Đánh giá độ chính xác**\n",
    "\n",
    "* R square = 0.1908 cho thấy các biến độc lập giải thích được khoảng 19% sự biến thiên của biến phụ thuộc.\n",
    "\n",
    "* MSE = 0.1043 là khá cao khi xét trong khoảng giá trị dự đoán."
   ]
  },
  {
   "cell_type": "code",
   "execution_count": 8,
   "id": "ae758628",
   "metadata": {},
   "outputs": [
    {
     "name": "stdout",
     "output_type": "stream",
     "text": [
      "R square: 0.19083418968762578\n",
      "MSE: 0.10436912679693662\n"
     ]
    }
   ],
   "source": [
    "print(\"R square:\", r2_score(y_train, Z2[0]))\n",
    "print(\"MSE:\", mean_squared_error(y_train, Z2[0]))"
   ]
  },
  {
   "cell_type": "markdown",
   "id": "5b6094b0",
   "metadata": {},
   "source": [
    "**Dự đoán của mô hình với dữ liệu trong tập Test**"
   ]
  },
  {
   "cell_type": "code",
   "execution_count": 9,
   "id": "a46bc318",
   "metadata": {},
   "outputs": [
    {
     "data": {
      "text/plain": [
       "array([[0.90563399, 0.79352247, 1.21404992, 0.95355705, 0.95810554,\n",
       "        1.05056676, 1.20995994, 1.050404  , 0.99740187, 0.68808774,\n",
       "        0.79975729, 0.76034558, 1.18836302, 1.06836671, 0.98866149,\n",
       "        1.03041837, 1.15396368, 1.19221038, 1.3060959 , 1.28071263]])"
      ]
     },
     "execution_count": 9,
     "metadata": {},
     "output_type": "execute_result"
    }
   ],
   "source": [
    "Z1 = np.dot(W1.T, X_test.T) + b1\n",
    "A1 = np.maximum(Z1, 0)\n",
    "Z2 = np.dot(W2.T, A1) + b2\n",
    "\n",
    "Z2"
   ]
  },
  {
   "cell_type": "markdown",
   "id": "9cd8fe7a",
   "metadata": {},
   "source": [
    "**Đánh giá độ chính xác**\n",
    "\n",
    "* R square = 0.2154 cho thấy các biến độc lập giải thích được khoảng 21% sự biến thiên của biến phụ thuộc.\n",
    "\n",
    "* MSE = 0.2271 tăng lên rất nhiều so với MSE khi đánh giá với tập Train.\n",
    "\n",
    "=> Cho thấy mô hình đang bị overfitting với dữ liệu tập Train."
   ]
  },
  {
   "cell_type": "code",
   "execution_count": 10,
   "id": "fccb1303",
   "metadata": {},
   "outputs": [
    {
     "name": "stdout",
     "output_type": "stream",
     "text": [
      "R square: 0.21549617489199424\n",
      "MSE: 0.2271238597925378\n"
     ]
    }
   ],
   "source": [
    "print(\"R square:\", r2_score(y_test, Z2[0]))\n",
    "print(\"MSE:\", mean_squared_error(y_test, Z2[0]))"
   ]
  },
  {
   "cell_type": "markdown",
   "id": "3720e9eb",
   "metadata": {},
   "source": [
    "**Sử dụng hồi quy tuyến tính**"
   ]
  },
  {
   "cell_type": "code",
   "execution_count": 11,
   "id": "ef9abc41",
   "metadata": {},
   "outputs": [
    {
     "name": "stdout",
     "output_type": "stream",
     "text": [
      "R square: 0.21453893938640334\n",
      "MSE: 0.22740099167615907\n"
     ]
    }
   ],
   "source": [
    "linR = LinearRegression()\n",
    "\n",
    "linR.fit(X_train, y_train)\n",
    "\n",
    "y_pred = linR.predict(X_test)\n",
    "\n",
    "print(\"R square:\", r2_score(y_test, y_pred))\n",
    "print(\"MSE:\", mean_squared_error(y_test, y_pred))"
   ]
  },
  {
   "cell_type": "markdown",
   "id": "28150e43",
   "metadata": {},
   "source": [
    "**So sánh độ chính xác của `Linear Regression` và `ANN`**\n",
    "\n",
    "* R square và MSE của mô hình hồi quy tuyến tính tương đương với R square của mô hình ANN khi dự đoán với tập Test.\n"
   ]
  },
  {
   "cell_type": "code",
   "execution_count": null,
   "id": "f093abaf",
   "metadata": {},
   "outputs": [],
   "source": []
  }
 ],
 "metadata": {
  "kernelspec": {
   "display_name": "venv",
   "language": "python",
   "name": "python3"
  },
  "language_info": {
   "codemirror_mode": {
    "name": "ipython",
    "version": 3
   },
   "file_extension": ".py",
   "mimetype": "text/x-python",
   "name": "python",
   "nbconvert_exporter": "python",
   "pygments_lexer": "ipython3",
   "version": "3.12.2"
  }
 },
 "nbformat": 4,
 "nbformat_minor": 5
}
