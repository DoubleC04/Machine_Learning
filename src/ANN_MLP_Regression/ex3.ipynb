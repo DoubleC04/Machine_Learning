{
 "cells": [
  {
   "cell_type": "code",
   "execution_count": 1,
   "id": "0f3fc7aa",
   "metadata": {},
   "outputs": [],
   "source": [
    "import numpy as np\n",
    "import pandas as pd\n",
    "\n",
    "from sklearn.linear_model import LinearRegression\n",
    "from sklearn.metrics import mean_squared_error"
   ]
  },
  {
   "cell_type": "code",
   "execution_count": 2,
   "id": "7f1239b8",
   "metadata": {},
   "outputs": [],
   "source": [
    "# cost or loss function\n",
    "def cost(Y, Yhat):\n",
    "    return np.mean((Yhat - Y) ** 2)"
   ]
  },
  {
   "cell_type": "code",
   "execution_count": 3,
   "id": "41e4b588",
   "metadata": {},
   "outputs": [
    {
     "data": {
      "text/html": [
       "<div>\n",
       "<style scoped>\n",
       "    .dataframe tbody tr th:only-of-type {\n",
       "        vertical-align: middle;\n",
       "    }\n",
       "\n",
       "    .dataframe tbody tr th {\n",
       "        vertical-align: top;\n",
       "    }\n",
       "\n",
       "    .dataframe thead th {\n",
       "        text-align: right;\n",
       "    }\n",
       "</style>\n",
       "<table border=\"1\" class=\"dataframe\">\n",
       "  <thead>\n",
       "    <tr style=\"text-align: right;\">\n",
       "      <th></th>\n",
       "      <th>No</th>\n",
       "      <th>X1 transaction date</th>\n",
       "      <th>X2 house age</th>\n",
       "      <th>X3 distance to the nearest MRT station</th>\n",
       "      <th>X4 number of convenience stores</th>\n",
       "      <th>X5 latitude</th>\n",
       "      <th>X6 longitude</th>\n",
       "      <th>Y house price of unit area</th>\n",
       "    </tr>\n",
       "  </thead>\n",
       "  <tbody>\n",
       "    <tr>\n",
       "      <th>0</th>\n",
       "      <td>1</td>\n",
       "      <td>2012.917</td>\n",
       "      <td>32.0</td>\n",
       "      <td>84.87882</td>\n",
       "      <td>10</td>\n",
       "      <td>24.98298</td>\n",
       "      <td>121.54024</td>\n",
       "      <td>37.9</td>\n",
       "    </tr>\n",
       "    <tr>\n",
       "      <th>1</th>\n",
       "      <td>2</td>\n",
       "      <td>2012.917</td>\n",
       "      <td>19.5</td>\n",
       "      <td>306.59470</td>\n",
       "      <td>9</td>\n",
       "      <td>24.98034</td>\n",
       "      <td>121.53951</td>\n",
       "      <td>42.2</td>\n",
       "    </tr>\n",
       "    <tr>\n",
       "      <th>2</th>\n",
       "      <td>3</td>\n",
       "      <td>2013.583</td>\n",
       "      <td>13.3</td>\n",
       "      <td>561.98450</td>\n",
       "      <td>5</td>\n",
       "      <td>24.98746</td>\n",
       "      <td>121.54391</td>\n",
       "      <td>47.3</td>\n",
       "    </tr>\n",
       "    <tr>\n",
       "      <th>3</th>\n",
       "      <td>4</td>\n",
       "      <td>2013.500</td>\n",
       "      <td>13.3</td>\n",
       "      <td>561.98450</td>\n",
       "      <td>5</td>\n",
       "      <td>24.98746</td>\n",
       "      <td>121.54391</td>\n",
       "      <td>54.8</td>\n",
       "    </tr>\n",
       "    <tr>\n",
       "      <th>4</th>\n",
       "      <td>5</td>\n",
       "      <td>2012.833</td>\n",
       "      <td>5.0</td>\n",
       "      <td>390.56840</td>\n",
       "      <td>5</td>\n",
       "      <td>24.97937</td>\n",
       "      <td>121.54245</td>\n",
       "      <td>43.1</td>\n",
       "    </tr>\n",
       "  </tbody>\n",
       "</table>\n",
       "</div>"
      ],
      "text/plain": [
       "   No  X1 transaction date  ...  X6 longitude  Y house price of unit area\n",
       "0   1             2012.917  ...     121.54024                        37.9\n",
       "1   2             2012.917  ...     121.53951                        42.2\n",
       "2   3             2013.583  ...     121.54391                        47.3\n",
       "3   4             2013.500  ...     121.54391                        54.8\n",
       "4   5             2012.833  ...     121.54245                        43.1\n",
       "\n",
       "[5 rows x 8 columns]"
      ]
     },
     "execution_count": 3,
     "metadata": {},
     "output_type": "execute_result"
    }
   ],
   "source": [
    "path = '../../data/KNN_Linear_Regression/real_estate.csv'\n",
    "\n",
    "df = pd.read_csv(path)\n",
    "df.head()"
   ]
  },
  {
   "cell_type": "code",
   "execution_count": 4,
   "id": "634859a4",
   "metadata": {},
   "outputs": [],
   "source": [
    "X = df.drop(['No', 'Y house price of unit area'], axis=1)\n",
    "y = df['Y house price of unit area']\n",
    "\n",
    "X_train = X[:350]\n",
    "y_train = y[:350]\n",
    "\n",
    "X_test = X[350:]\n",
    "y_test = y[350:]\n",
    "\n",
    "y_train = y_train.to_numpy().reshape(-1, 1)\n",
    "y_test = y_test.to_numpy().reshape(-1, 1)"
   ]
  },
  {
   "cell_type": "markdown",
   "id": "9db05677",
   "metadata": {},
   "source": [
    "**Huấn luyện mô hình ANN với dữ liệu tập Train**"
   ]
  },
  {
   "cell_type": "code",
   "execution_count": 5,
   "id": "8777ac7f",
   "metadata": {},
   "outputs": [
    {
     "name": "stdout",
     "output_type": "stream",
     "text": [
      "iter 0, loss: 1619.422158\n",
      "iter 1000, loss: 295.998531\n",
      "iter 2000, loss: 299.180491\n",
      "iter 3000, loss: 301.723951\n",
      "iter 4000, loss: 303.189345\n",
      "iter 5000, loss: 303.889088\n",
      "iter 6000, loss: 304.157836\n",
      "iter 7000, loss: 304.311610\n",
      "iter 8000, loss: 304.402162\n",
      "iter 9000, loss: 304.532492\n"
     ]
    }
   ],
   "source": [
    "d0 = 6\n",
    "d1 = h = 100 # size of hidden layer\n",
    "d2 = C = 1\n",
    "# initialize parameters randomly\n",
    "W1 = 0.01*np.random.randn(d0, d1)\n",
    "b1 = np.zeros((d1, 1))\n",
    "W2 = 0.01*np.random.randn(d1, d2)\n",
    "b2 = np.zeros((d2, 1))\n",
    "\n",
    "N = X_train.T.shape[1]\n",
    "eta = 0.0001 # learning rate\n",
    "\n",
    "for i in range(10000):\n",
    "    ## Feedforward\n",
    "    Z1 = np.dot(W1.T, X_train.T) + b1\n",
    "    A1 = np.where(Z1 > 0, Z1, 0.01 * Z1)  # LeakyReLU\n",
    "    Z2 = np.dot(W2.T, A1) + b2\n",
    "    Yhat = Z2\n",
    "\n",
    "    # print loss after each 1000 iterations\n",
    "    if i %1000 == 0:\n",
    "        # compute the loss: average cross-entropy loss\n",
    "        loss = cost(y_train, Yhat)\n",
    "        print(\"iter %d, loss: %f\" %(i, loss))\n",
    "\n",
    "    # backpropagation\n",
    "    E2 = (Yhat - y_train.T)/N\n",
    "    dW2 = np.dot(A1, E2.T)\n",
    "    db2 = np.sum(E2, axis = 1, keepdims = True)\n",
    "    E1 = np.dot(W2, E2)\n",
    "    E1 = np.where(Z1 > 0, E1, 0.01 * E1)  # Gradient of LeakyReLU\n",
    "    dW1 = np.dot(X_train.T, E1.T)\n",
    "    db1 = np.sum(E1, axis = 1, keepdims = True)\n",
    "    \n",
    "    # Gradient clipping (To avoid booming gradient)\n",
    "    clip_value = 1.0\n",
    "    dW1 = np.clip(dW1, -clip_value, clip_value)\n",
    "    dW2 = np.clip(dW2, -clip_value, clip_value)\n",
    "    db1 = np.clip(db1, -clip_value, clip_value)\n",
    "    db2 = np.clip(db2, -clip_value, clip_value)\n",
    "    \n",
    "    # Gradient Descent update\n",
    "    W1 += -eta*dW1\n",
    "    b1 += -eta*db1\n",
    "    W2 += -eta*dW2\n",
    "    b2 += -eta*db2"
   ]
  },
  {
   "cell_type": "markdown",
   "id": "9f4fb297",
   "metadata": {},
   "source": [
    "**Dự đoán của mô hình với dữ liệu tập Validation**"
   ]
  },
  {
   "cell_type": "code",
   "execution_count": 6,
   "id": "4928a135",
   "metadata": {},
   "outputs": [
    {
     "data": {
      "text/plain": [
       "array([[41.96357739, 25.75312647, 22.07847278, 25.84087266, 26.70103715,\n",
       "        46.62580896, 48.310085  , 48.78280111, 51.35861872, 24.7123093 ,\n",
       "        46.07251665, 39.66036648, 30.80807107, 45.76125999, 34.02766924,\n",
       "        23.38684415, 25.09072732, 24.92590449, 43.38421364, 23.08597189,\n",
       "        45.59801821, 48.06487088, 44.07576299, 49.50241604, 46.08294698,\n",
       "        26.09952623, 25.30383785, 53.79028097, 34.17025009, 49.50902029,\n",
       "        46.06232515, 51.26930394, 20.26121731, 37.59803667, 19.01568018,\n",
       "        49.82576329, 51.28092905, 23.98399376, 24.55133797, 43.16715309,\n",
       "        39.85292267, 26.01245019, 35.70488579, 30.84796604, 16.27412519,\n",
       "        39.44277799, 26.56605613, 28.15542196, 25.30383785, 48.59054023,\n",
       "        38.77031043, 25.18258148, 48.21948144, 44.89904281, 45.48712687,\n",
       "        47.27255524, 47.50723623, 24.77083621, 23.4016113 , 19.36465131,\n",
       "        52.74621577, 42.8959496 , 51.47783519, 52.54135845]])"
      ]
     },
     "execution_count": 6,
     "metadata": {},
     "output_type": "execute_result"
    }
   ],
   "source": [
    "Z1 = np.dot(W1.T, X_test.T) + b1\n",
    "A1 = np.maximum(Z1, 0)\n",
    "Z2 = np.dot(W2.T, A1) + b2\n",
    "\n",
    "Z2"
   ]
  },
  {
   "cell_type": "markdown",
   "id": "8ee25028",
   "metadata": {},
   "source": [
    "**Trung bình bình phương sai số khi dùng ANN**"
   ]
  },
  {
   "cell_type": "code",
   "execution_count": 7,
   "id": "d573e4f0",
   "metadata": {},
   "outputs": [
    {
     "name": "stdout",
     "output_type": "stream",
     "text": [
      "MSE: 55.27148609519361\n"
     ]
    }
   ],
   "source": [
    "print(\"MSE:\", mean_squared_error(y_test, Z2[0]))"
   ]
  },
  {
   "cell_type": "markdown",
   "id": "7ac09901",
   "metadata": {},
   "source": [
    "**Khởi tạo và huấn luyện mô hình Linear Regression**"
   ]
  },
  {
   "cell_type": "code",
   "execution_count": 8,
   "id": "20e6dbbc",
   "metadata": {},
   "outputs": [],
   "source": [
    "linR = LinearRegression()\n",
    "\n",
    "linR.fit(X_train, y_train)\n",
    "\n",
    "y_pred = linR.predict(X_test)"
   ]
  },
  {
   "cell_type": "markdown",
   "id": "e80e45d3",
   "metadata": {},
   "source": [
    "**Trung bình bình phương sai số khi dùng Linear Regression**"
   ]
  },
  {
   "cell_type": "code",
   "execution_count": 9,
   "id": "fe29dbc5",
   "metadata": {},
   "outputs": [
    {
     "name": "stdout",
     "output_type": "stream",
     "text": [
      "MSE: 65.18991450477287\n"
     ]
    }
   ],
   "source": [
    "print(\"MSE:\", mean_squared_error(y_test, y_pred))"
   ]
  },
  {
   "cell_type": "markdown",
   "id": "6bec74cb",
   "metadata": {},
   "source": [
    "**So sánh giữa ANN và Linear Regression:**\n",
    "\n",
    "* MSE của ANN nhỏ hơn của Linear Regression.\n",
    "\n",
    "=> Sai số trung bình của Linear Regression lớn hơn của ANN.\n",
    "\n",
    "=> Mô hình ANN dự đoán tốt hơn."
   ]
  }
 ],
 "metadata": {
  "kernelspec": {
   "display_name": "venv",
   "language": "python",
   "name": "python3"
  },
  "language_info": {
   "codemirror_mode": {
    "name": "ipython",
    "version": 3
   },
   "file_extension": ".py",
   "mimetype": "text/x-python",
   "name": "python",
   "nbconvert_exporter": "python",
   "pygments_lexer": "ipython3",
   "version": "3.12.2"
  }
 },
 "nbformat": 4,
 "nbformat_minor": 5
}
