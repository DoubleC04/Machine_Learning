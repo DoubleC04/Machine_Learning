{
 "cells": [
  {
   "cell_type": "code",
   "execution_count": 1,
   "metadata": {},
   "outputs": [],
   "source": [
    "import pandas as pd\n",
    "import warnings\n",
    "\n",
    "from sklearn.preprocessing import OneHotEncoder\n",
    "from sklearn.metrics import mean_squared_error\n",
    "from sklearn.linear_model import Perceptron, LinearRegression, LogisticRegression\n",
    "from sklearn.naive_bayes import GaussianNB\n",
    "\n",
    "warnings.filterwarnings('ignore')"
   ]
  },
  {
   "cell_type": "code",
   "execution_count": 2,
   "metadata": {},
   "outputs": [
    {
     "data": {
      "text/html": [
       "<div>\n",
       "<style scoped>\n",
       "    .dataframe tbody tr th:only-of-type {\n",
       "        vertical-align: middle;\n",
       "    }\n",
       "\n",
       "    .dataframe tbody tr th {\n",
       "        vertical-align: top;\n",
       "    }\n",
       "\n",
       "    .dataframe thead th {\n",
       "        text-align: right;\n",
       "    }\n",
       "</style>\n",
       "<table border=\"1\" class=\"dataframe\">\n",
       "  <thead>\n",
       "    <tr style=\"text-align: right;\">\n",
       "      <th></th>\n",
       "      <th>CustomerID</th>\n",
       "      <th>Shopping Basket</th>\n",
       "      <th>Gender</th>\n",
       "      <th>Age</th>\n",
       "      <th>Store Type</th>\n",
       "      <th>Value Products</th>\n",
       "      <th>Brand Products</th>\n",
       "      <th>Top Fresco Products</th>\n",
       "    </tr>\n",
       "  </thead>\n",
       "  <tbody>\n",
       "    <tr>\n",
       "      <th>0</th>\n",
       "      <td>20358063</td>\n",
       "      <td>48.81</td>\n",
       "      <td>Male</td>\n",
       "      <td>26</td>\n",
       "      <td>Convenient Stores</td>\n",
       "      <td>8</td>\n",
       "      <td>2</td>\n",
       "      <td>1</td>\n",
       "    </tr>\n",
       "    <tr>\n",
       "      <th>1</th>\n",
       "      <td>24635139</td>\n",
       "      <td>33.44</td>\n",
       "      <td>Female</td>\n",
       "      <td>33</td>\n",
       "      <td>Superstore</td>\n",
       "      <td>6</td>\n",
       "      <td>5</td>\n",
       "      <td>1</td>\n",
       "    </tr>\n",
       "    <tr>\n",
       "      <th>2</th>\n",
       "      <td>27584479</td>\n",
       "      <td>131.57</td>\n",
       "      <td>Male</td>\n",
       "      <td>56</td>\n",
       "      <td>Online</td>\n",
       "      <td>35</td>\n",
       "      <td>8</td>\n",
       "      <td>12</td>\n",
       "    </tr>\n",
       "    <tr>\n",
       "      <th>3</th>\n",
       "      <td>28008212</td>\n",
       "      <td>20.02</td>\n",
       "      <td>Male</td>\n",
       "      <td>27</td>\n",
       "      <td>Convenient Stores</td>\n",
       "      <td>0</td>\n",
       "      <td>1</td>\n",
       "      <td>1</td>\n",
       "    </tr>\n",
       "    <tr>\n",
       "      <th>4</th>\n",
       "      <td>29130973</td>\n",
       "      <td>95.54</td>\n",
       "      <td>Female</td>\n",
       "      <td>55</td>\n",
       "      <td>Online</td>\n",
       "      <td>38</td>\n",
       "      <td>18</td>\n",
       "      <td>20</td>\n",
       "    </tr>\n",
       "  </tbody>\n",
       "</table>\n",
       "</div>"
      ],
      "text/plain": [
       "   CustomerID  Shopping Basket  Gender  Age         Store Type  \\\n",
       "0    20358063            48.81    Male   26  Convenient Stores   \n",
       "1    24635139            33.44  Female   33         Superstore   \n",
       "2    27584479           131.57    Male   56             Online   \n",
       "3    28008212            20.02    Male   27  Convenient Stores   \n",
       "4    29130973            95.54  Female   55             Online   \n",
       "\n",
       "   Value Products  Brand Products  Top Fresco Products  \n",
       "0               8               2                    1  \n",
       "1               6               5                    1  \n",
       "2              35               8                   12  \n",
       "3               0               1                    1  \n",
       "4              38              18                   20  "
      ]
     },
     "execution_count": 2,
     "metadata": {},
     "output_type": "execute_result"
    }
   ],
   "source": [
    "path = '../../data/Perceptron/Analysis-Portfolio-Task-Data.csv'\n",
    "\n",
    "df = pd.read_csv(path)\n",
    "df.head()"
   ]
  },
  {
   "cell_type": "markdown",
   "metadata": {},
   "source": [
    "Chuẩn hóa data"
   ]
  },
  {
   "cell_type": "code",
   "execution_count": 3,
   "metadata": {},
   "outputs": [
    {
     "data": {
      "text/html": [
       "<div>\n",
       "<style scoped>\n",
       "    .dataframe tbody tr th:only-of-type {\n",
       "        vertical-align: middle;\n",
       "    }\n",
       "\n",
       "    .dataframe tbody tr th {\n",
       "        vertical-align: top;\n",
       "    }\n",
       "\n",
       "    .dataframe thead th {\n",
       "        text-align: right;\n",
       "    }\n",
       "</style>\n",
       "<table border=\"1\" class=\"dataframe\">\n",
       "  <thead>\n",
       "    <tr style=\"text-align: right;\">\n",
       "      <th></th>\n",
       "      <th>Shopping Basket</th>\n",
       "      <th>Gender</th>\n",
       "      <th>Age</th>\n",
       "      <th>Store Type</th>\n",
       "      <th>Value Products</th>\n",
       "      <th>Brand Products</th>\n",
       "      <th>Top Fresco Products</th>\n",
       "    </tr>\n",
       "  </thead>\n",
       "  <tbody>\n",
       "    <tr>\n",
       "      <th>0</th>\n",
       "      <td>48.81</td>\n",
       "      <td>1</td>\n",
       "      <td>26</td>\n",
       "      <td>Convenient Stores</td>\n",
       "      <td>8</td>\n",
       "      <td>2</td>\n",
       "      <td>1</td>\n",
       "    </tr>\n",
       "    <tr>\n",
       "      <th>1</th>\n",
       "      <td>33.44</td>\n",
       "      <td>0</td>\n",
       "      <td>33</td>\n",
       "      <td>Superstore</td>\n",
       "      <td>6</td>\n",
       "      <td>5</td>\n",
       "      <td>1</td>\n",
       "    </tr>\n",
       "    <tr>\n",
       "      <th>2</th>\n",
       "      <td>131.57</td>\n",
       "      <td>1</td>\n",
       "      <td>56</td>\n",
       "      <td>Online</td>\n",
       "      <td>35</td>\n",
       "      <td>8</td>\n",
       "      <td>12</td>\n",
       "    </tr>\n",
       "    <tr>\n",
       "      <th>3</th>\n",
       "      <td>20.02</td>\n",
       "      <td>1</td>\n",
       "      <td>27</td>\n",
       "      <td>Convenient Stores</td>\n",
       "      <td>0</td>\n",
       "      <td>1</td>\n",
       "      <td>1</td>\n",
       "    </tr>\n",
       "    <tr>\n",
       "      <th>4</th>\n",
       "      <td>95.54</td>\n",
       "      <td>0</td>\n",
       "      <td>55</td>\n",
       "      <td>Online</td>\n",
       "      <td>38</td>\n",
       "      <td>18</td>\n",
       "      <td>20</td>\n",
       "    </tr>\n",
       "    <tr>\n",
       "      <th>...</th>\n",
       "      <td>...</td>\n",
       "      <td>...</td>\n",
       "      <td>...</td>\n",
       "      <td>...</td>\n",
       "      <td>...</td>\n",
       "      <td>...</td>\n",
       "      <td>...</td>\n",
       "    </tr>\n",
       "    <tr>\n",
       "      <th>70</th>\n",
       "      <td>75.23</td>\n",
       "      <td>0</td>\n",
       "      <td>53</td>\n",
       "      <td>Superstore</td>\n",
       "      <td>9</td>\n",
       "      <td>14</td>\n",
       "      <td>5</td>\n",
       "    </tr>\n",
       "    <tr>\n",
       "      <th>71</th>\n",
       "      <td>97.21</td>\n",
       "      <td>0</td>\n",
       "      <td>43</td>\n",
       "      <td>Superstore</td>\n",
       "      <td>18</td>\n",
       "      <td>9</td>\n",
       "      <td>10</td>\n",
       "    </tr>\n",
       "    <tr>\n",
       "      <th>72</th>\n",
       "      <td>77.65</td>\n",
       "      <td>0</td>\n",
       "      <td>46</td>\n",
       "      <td>Superstore</td>\n",
       "      <td>10</td>\n",
       "      <td>10</td>\n",
       "      <td>9</td>\n",
       "    </tr>\n",
       "    <tr>\n",
       "      <th>73</th>\n",
       "      <td>128.67</td>\n",
       "      <td>0</td>\n",
       "      <td>48</td>\n",
       "      <td>Superstore</td>\n",
       "      <td>41</td>\n",
       "      <td>15</td>\n",
       "      <td>19</td>\n",
       "    </tr>\n",
       "    <tr>\n",
       "      <th>74</th>\n",
       "      <td>137.39</td>\n",
       "      <td>1</td>\n",
       "      <td>47</td>\n",
       "      <td>Online</td>\n",
       "      <td>26</td>\n",
       "      <td>16</td>\n",
       "      <td>9</td>\n",
       "    </tr>\n",
       "  </tbody>\n",
       "</table>\n",
       "<p>75 rows × 7 columns</p>\n",
       "</div>"
      ],
      "text/plain": [
       "    Shopping Basket  Gender  Age         Store Type  Value Products  \\\n",
       "0             48.81       1   26  Convenient Stores               8   \n",
       "1             33.44       0   33         Superstore               6   \n",
       "2            131.57       1   56             Online              35   \n",
       "3             20.02       1   27  Convenient Stores               0   \n",
       "4             95.54       0   55             Online              38   \n",
       "..              ...     ...  ...                ...             ...   \n",
       "70            75.23       0   53         Superstore               9   \n",
       "71            97.21       0   43         Superstore              18   \n",
       "72            77.65       0   46         Superstore              10   \n",
       "73           128.67       0   48         Superstore              41   \n",
       "74           137.39       1   47             Online              26   \n",
       "\n",
       "    Brand Products  Top Fresco Products  \n",
       "0                2                    1  \n",
       "1                5                    1  \n",
       "2                8                   12  \n",
       "3                1                    1  \n",
       "4               18                   20  \n",
       "..             ...                  ...  \n",
       "70              14                    5  \n",
       "71               9                   10  \n",
       "72              10                    9  \n",
       "73              15                   19  \n",
       "74              16                    9  \n",
       "\n",
       "[75 rows x 7 columns]"
      ]
     },
     "execution_count": 3,
     "metadata": {},
     "output_type": "execute_result"
    }
   ],
   "source": [
    "df1 = df.drop(columns=['CustomerID'])\n",
    "\n",
    "df1['Gender'] = df1['Gender'].map({'Male': 1, 'Female': 0})\n",
    "\n",
    "df1"
   ]
  },
  {
   "cell_type": "code",
   "execution_count": 4,
   "metadata": {},
   "outputs": [
    {
     "data": {
      "text/html": [
       "<div>\n",
       "<style scoped>\n",
       "    .dataframe tbody tr th:only-of-type {\n",
       "        vertical-align: middle;\n",
       "    }\n",
       "\n",
       "    .dataframe tbody tr th {\n",
       "        vertical-align: top;\n",
       "    }\n",
       "\n",
       "    .dataframe thead th {\n",
       "        text-align: right;\n",
       "    }\n",
       "</style>\n",
       "<table border=\"1\" class=\"dataframe\">\n",
       "  <thead>\n",
       "    <tr style=\"text-align: right;\">\n",
       "      <th></th>\n",
       "      <th>Shopping Basket</th>\n",
       "      <th>Gender</th>\n",
       "      <th>Age</th>\n",
       "      <th>Value Products</th>\n",
       "      <th>Brand Products</th>\n",
       "      <th>Top Fresco Products</th>\n",
       "      <th>Store Type_Convenient Stores</th>\n",
       "      <th>Store Type_Online</th>\n",
       "      <th>Store Type_Superstore</th>\n",
       "    </tr>\n",
       "  </thead>\n",
       "  <tbody>\n",
       "    <tr>\n",
       "      <th>0</th>\n",
       "      <td>48.81</td>\n",
       "      <td>1</td>\n",
       "      <td>26</td>\n",
       "      <td>8</td>\n",
       "      <td>2</td>\n",
       "      <td>1</td>\n",
       "      <td>1.0</td>\n",
       "      <td>0.0</td>\n",
       "      <td>0.0</td>\n",
       "    </tr>\n",
       "    <tr>\n",
       "      <th>1</th>\n",
       "      <td>33.44</td>\n",
       "      <td>0</td>\n",
       "      <td>33</td>\n",
       "      <td>6</td>\n",
       "      <td>5</td>\n",
       "      <td>1</td>\n",
       "      <td>0.0</td>\n",
       "      <td>0.0</td>\n",
       "      <td>1.0</td>\n",
       "    </tr>\n",
       "    <tr>\n",
       "      <th>2</th>\n",
       "      <td>131.57</td>\n",
       "      <td>1</td>\n",
       "      <td>56</td>\n",
       "      <td>35</td>\n",
       "      <td>8</td>\n",
       "      <td>12</td>\n",
       "      <td>0.0</td>\n",
       "      <td>1.0</td>\n",
       "      <td>0.0</td>\n",
       "    </tr>\n",
       "    <tr>\n",
       "      <th>3</th>\n",
       "      <td>20.02</td>\n",
       "      <td>1</td>\n",
       "      <td>27</td>\n",
       "      <td>0</td>\n",
       "      <td>1</td>\n",
       "      <td>1</td>\n",
       "      <td>1.0</td>\n",
       "      <td>0.0</td>\n",
       "      <td>0.0</td>\n",
       "    </tr>\n",
       "    <tr>\n",
       "      <th>4</th>\n",
       "      <td>95.54</td>\n",
       "      <td>0</td>\n",
       "      <td>55</td>\n",
       "      <td>38</td>\n",
       "      <td>18</td>\n",
       "      <td>20</td>\n",
       "      <td>0.0</td>\n",
       "      <td>1.0</td>\n",
       "      <td>0.0</td>\n",
       "    </tr>\n",
       "  </tbody>\n",
       "</table>\n",
       "</div>"
      ],
      "text/plain": [
       "   Shopping Basket  Gender  Age  Value Products  Brand Products  \\\n",
       "0            48.81       1   26               8               2   \n",
       "1            33.44       0   33               6               5   \n",
       "2           131.57       1   56              35               8   \n",
       "3            20.02       1   27               0               1   \n",
       "4            95.54       0   55              38              18   \n",
       "\n",
       "   Top Fresco Products  Store Type_Convenient Stores  Store Type_Online  \\\n",
       "0                    1                           1.0                0.0   \n",
       "1                    1                           0.0                0.0   \n",
       "2                   12                           0.0                1.0   \n",
       "3                    1                           1.0                0.0   \n",
       "4                   20                           0.0                1.0   \n",
       "\n",
       "   Store Type_Superstore  \n",
       "0                    0.0  \n",
       "1                    1.0  \n",
       "2                    0.0  \n",
       "3                    0.0  \n",
       "4                    0.0  "
      ]
     },
     "execution_count": 4,
     "metadata": {},
     "output_type": "execute_result"
    }
   ],
   "source": [
    "ohe = OneHotEncoder(sparse_output=False)\n",
    "\n",
    "encoded_data = ohe.fit_transform(df1[['Store Type']])\n",
    "\n",
    "encoded_df = pd.DataFrame(encoded_data, columns=ohe.get_feature_names_out(['Store Type']))\n",
    "\n",
    "df2 = pd.concat([df1, encoded_df], axis=1)\n",
    "df2.drop('Store Type', axis=1, inplace=True)\n",
    "\n",
    "df2.head()"
   ]
  },
  {
   "cell_type": "code",
   "execution_count": 5,
   "metadata": {},
   "outputs": [],
   "source": [
    "X = df2.drop('Shopping Basket', axis=1)\n",
    "y = df2['Shopping Basket']"
   ]
  },
  {
   "cell_type": "markdown",
   "metadata": {},
   "source": [
    "Chia train, test. 60 dữ liệu đầu là tập train còn lại là tập test"
   ]
  },
  {
   "cell_type": "code",
   "execution_count": 7,
   "metadata": {},
   "outputs": [],
   "source": [
    "X_train = X[:60]\n",
    "y_train = y[:60]\n",
    "\n",
    "X_test = X[60:]\n",
    "y_test = y[60:]"
   ]
  },
  {
   "cell_type": "markdown",
   "metadata": {},
   "source": [
    "Linear Regression"
   ]
  },
  {
   "cell_type": "code",
   "execution_count": 8,
   "metadata": {},
   "outputs": [
    {
     "name": "stdout",
     "output_type": "stream",
     "text": [
      "MSE: 307.26306108613477\n"
     ]
    }
   ],
   "source": [
    "linR = LinearRegression()\n",
    "\n",
    "linR.fit(X_train, y_train)\n",
    "\n",
    "y_pred = linR.predict(X_test)\n",
    "\n",
    "print('MSE:', mean_squared_error(y_test, y_pred))"
   ]
  },
  {
   "cell_type": "markdown",
   "metadata": {},
   "source": [
    "Hệ số của Hồi quy tuyến tính"
   ]
  },
  {
   "cell_type": "code",
   "execution_count": 9,
   "metadata": {},
   "outputs": [
    {
     "name": "stdout",
     "output_type": "stream",
     "text": [
      "Weights: [-2.98339794  0.11344949  0.96418484  0.98721574  2.42324084 -8.06933149\n",
      "  9.63391355 -1.56458206]\n",
      "Bias: 16.48606819782274\n"
     ]
    }
   ],
   "source": [
    "print('Weights:', linR.coef_)\n",
    "print('Bias:', linR.intercept_)"
   ]
  },
  {
   "cell_type": "markdown",
   "metadata": {},
   "source": [
    "Coi các bản ghi có Shopping Basket > 50 là thuộc lớp 1 và còn lại là class 0"
   ]
  },
  {
   "cell_type": "code",
   "execution_count": 10,
   "metadata": {},
   "outputs": [
    {
     "data": {
      "text/html": [
       "<div>\n",
       "<style scoped>\n",
       "    .dataframe tbody tr th:only-of-type {\n",
       "        vertical-align: middle;\n",
       "    }\n",
       "\n",
       "    .dataframe tbody tr th {\n",
       "        vertical-align: top;\n",
       "    }\n",
       "\n",
       "    .dataframe thead th {\n",
       "        text-align: right;\n",
       "    }\n",
       "</style>\n",
       "<table border=\"1\" class=\"dataframe\">\n",
       "  <thead>\n",
       "    <tr style=\"text-align: right;\">\n",
       "      <th></th>\n",
       "      <th>Shopping Basket</th>\n",
       "      <th>Gender</th>\n",
       "      <th>Age</th>\n",
       "      <th>Value Products</th>\n",
       "      <th>Brand Products</th>\n",
       "      <th>Top Fresco Products</th>\n",
       "      <th>Store Type_Convenient Stores</th>\n",
       "      <th>Store Type_Online</th>\n",
       "      <th>Store Type_Superstore</th>\n",
       "    </tr>\n",
       "  </thead>\n",
       "  <tbody>\n",
       "    <tr>\n",
       "      <th>0</th>\n",
       "      <td>0</td>\n",
       "      <td>1</td>\n",
       "      <td>26</td>\n",
       "      <td>8</td>\n",
       "      <td>2</td>\n",
       "      <td>1</td>\n",
       "      <td>1.0</td>\n",
       "      <td>0.0</td>\n",
       "      <td>0.0</td>\n",
       "    </tr>\n",
       "    <tr>\n",
       "      <th>1</th>\n",
       "      <td>0</td>\n",
       "      <td>0</td>\n",
       "      <td>33</td>\n",
       "      <td>6</td>\n",
       "      <td>5</td>\n",
       "      <td>1</td>\n",
       "      <td>0.0</td>\n",
       "      <td>0.0</td>\n",
       "      <td>1.0</td>\n",
       "    </tr>\n",
       "    <tr>\n",
       "      <th>2</th>\n",
       "      <td>1</td>\n",
       "      <td>1</td>\n",
       "      <td>56</td>\n",
       "      <td>35</td>\n",
       "      <td>8</td>\n",
       "      <td>12</td>\n",
       "      <td>0.0</td>\n",
       "      <td>1.0</td>\n",
       "      <td>0.0</td>\n",
       "    </tr>\n",
       "    <tr>\n",
       "      <th>3</th>\n",
       "      <td>0</td>\n",
       "      <td>1</td>\n",
       "      <td>27</td>\n",
       "      <td>0</td>\n",
       "      <td>1</td>\n",
       "      <td>1</td>\n",
       "      <td>1.0</td>\n",
       "      <td>0.0</td>\n",
       "      <td>0.0</td>\n",
       "    </tr>\n",
       "    <tr>\n",
       "      <th>4</th>\n",
       "      <td>1</td>\n",
       "      <td>0</td>\n",
       "      <td>55</td>\n",
       "      <td>38</td>\n",
       "      <td>18</td>\n",
       "      <td>20</td>\n",
       "      <td>0.0</td>\n",
       "      <td>1.0</td>\n",
       "      <td>0.0</td>\n",
       "    </tr>\n",
       "  </tbody>\n",
       "</table>\n",
       "</div>"
      ],
      "text/plain": [
       "   Shopping Basket  Gender  Age  Value Products  Brand Products  \\\n",
       "0                0       1   26               8               2   \n",
       "1                0       0   33               6               5   \n",
       "2                1       1   56              35               8   \n",
       "3                0       1   27               0               1   \n",
       "4                1       0   55              38              18   \n",
       "\n",
       "   Top Fresco Products  Store Type_Convenient Stores  Store Type_Online  \\\n",
       "0                    1                           1.0                0.0   \n",
       "1                    1                           0.0                0.0   \n",
       "2                   12                           0.0                1.0   \n",
       "3                    1                           1.0                0.0   \n",
       "4                   20                           0.0                1.0   \n",
       "\n",
       "   Store Type_Superstore  \n",
       "0                    0.0  \n",
       "1                    1.0  \n",
       "2                    0.0  \n",
       "3                    0.0  \n",
       "4                    0.0  "
      ]
     },
     "execution_count": 10,
     "metadata": {},
     "output_type": "execute_result"
    }
   ],
   "source": [
    "df3 = df2.copy()\n",
    "\n",
    "df3['Shopping Basket'] = df3['Shopping Basket'].apply(lambda x: 1 if x > 50 else 0)\n",
    "df3.head()"
   ]
  },
  {
   "cell_type": "code",
   "execution_count": 11,
   "metadata": {},
   "outputs": [],
   "source": [
    "X_n = df3.drop('Shopping Basket', axis=1)\n",
    "y_n = df3['Shopping Basket']\n",
    "\n",
    "X_train_n = X_n[:60]\n",
    "y_train_n = y_n[:60]\n",
    "\n",
    "X_test_n = X_n[60:]\n",
    "y_test_n = y_n[60:]"
   ]
  },
  {
   "cell_type": "markdown",
   "metadata": {},
   "source": [
    "Khởi tạo Perceptron dùng sklearn"
   ]
  },
  {
   "cell_type": "code",
   "execution_count": 12,
   "metadata": {},
   "outputs": [],
   "source": [
    "perceptron = Perceptron(max_iter=6000, eta0=0.01, tol=1e-6)\n",
    "logR = LogisticRegression()\n",
    "nb = GaussianNB()"
   ]
  },
  {
   "cell_type": "code",
   "execution_count": 18,
   "metadata": {},
   "outputs": [
    {
     "data": {
      "text/plain": [
       "0.6"
      ]
     },
     "execution_count": 18,
     "metadata": {},
     "output_type": "execute_result"
    }
   ],
   "source": [
    "perceptron.fit(X_train_n, y_train_n)\n",
    "perceptron.score(X_test_n, y_test_n)"
   ]
  },
  {
   "cell_type": "code",
   "execution_count": 14,
   "metadata": {},
   "outputs": [
    {
     "name": "stdout",
     "output_type": "stream",
     "text": [
      "Weights: [[-0.18 -0.89  0.88  1.47  0.23 -0.87  0.35 -0.14]]\n",
      "Bias: [-0.66]\n"
     ]
    }
   ],
   "source": [
    "print('Weights:', perceptron.coef_)\n",
    "print('Bias:', perceptron.intercept_)"
   ]
  },
  {
   "cell_type": "code",
   "execution_count": 19,
   "metadata": {},
   "outputs": [
    {
     "data": {
      "text/plain": [
       "1.0"
      ]
     },
     "execution_count": 19,
     "metadata": {},
     "output_type": "execute_result"
    }
   ],
   "source": [
    "logR.fit(X_train_n, y_train_n)\n",
    "logR.score(X_test_n, y_test_n)"
   ]
  },
  {
   "cell_type": "code",
   "execution_count": 16,
   "metadata": {},
   "outputs": [
    {
     "name": "stdout",
     "output_type": "stream",
     "text": [
      "Weights: [[ 0.26228639  0.10098251  0.34728351  0.56089289 -0.08545311 -0.7031885\n",
      "   0.43840208  0.26390166]]\n",
      "Bias: [-11.0415277]\n"
     ]
    }
   ],
   "source": [
    "print('Weights:', logR.coef_)\n",
    "print('Bias:', logR.intercept_)"
   ]
  },
  {
   "cell_type": "code",
   "execution_count": 20,
   "metadata": {},
   "outputs": [
    {
     "data": {
      "text/plain": [
       "0.8666666666666667"
      ]
     },
     "execution_count": 20,
     "metadata": {},
     "output_type": "execute_result"
    }
   ],
   "source": [
    "nb.fit(X_train_n, y_train_n)\n",
    "nb.score(X_test_n, y_test_n)"
   ]
  },
  {
   "cell_type": "markdown",
   "metadata": {},
   "source": [
    "Độ chính xác của Logistic Regression là cao nhất (1.0) tiếp đến là Naive Bayes (0.866666667) và cuối cùng là Perceptron (0.6)\n",
    "\n",
    "Perceptron có độ chính xác thấp vì dữ liệu không có dạng tuyến tính."
   ]
  }
 ],
 "metadata": {
  "kernelspec": {
   "display_name": "venv",
   "language": "python",
   "name": "python3"
  },
  "language_info": {
   "codemirror_mode": {
    "name": "ipython",
    "version": 3
   },
   "file_extension": ".py",
   "mimetype": "text/x-python",
   "name": "python",
   "nbconvert_exporter": "python",
   "pygments_lexer": "ipython3",
   "version": "3.12.2"
  }
 },
 "nbformat": 4,
 "nbformat_minor": 2
}
