{
 "cells": [
  {
   "cell_type": "code",
   "execution_count": 27,
   "metadata": {},
   "outputs": [],
   "source": [
    "import pandas as pd\n",
    "import numpy as np\n",
    "import matplotlib.pyplot as plt"
   ]
  },
  {
   "cell_type": "code",
   "execution_count": 36,
   "metadata": {},
   "outputs": [
    {
     "data": {
      "text/html": [
       "<div>\n",
       "<style scoped>\n",
       "    .dataframe tbody tr th:only-of-type {\n",
       "        vertical-align: middle;\n",
       "    }\n",
       "\n",
       "    .dataframe tbody tr th {\n",
       "        vertical-align: top;\n",
       "    }\n",
       "\n",
       "    .dataframe thead th {\n",
       "        text-align: right;\n",
       "    }\n",
       "</style>\n",
       "<table border=\"1\" class=\"dataframe\">\n",
       "  <thead>\n",
       "    <tr style=\"text-align: right;\">\n",
       "      <th></th>\n",
       "      <th>TUOI</th>\n",
       "      <th>BMI</th>\n",
       "      <th>HA</th>\n",
       "      <th>GLUCOSE</th>\n",
       "      <th>CHOLESTEROL</th>\n",
       "      <th>BEDAYNTM</th>\n",
       "    </tr>\n",
       "  </thead>\n",
       "  <tbody>\n",
       "    <tr>\n",
       "      <th>0</th>\n",
       "      <td>56</td>\n",
       "      <td>21</td>\n",
       "      <td>160</td>\n",
       "      <td>14.0</td>\n",
       "      <td>6.00</td>\n",
       "      <td>1.95</td>\n",
       "    </tr>\n",
       "    <tr>\n",
       "      <th>1</th>\n",
       "      <td>76</td>\n",
       "      <td>18</td>\n",
       "      <td>150</td>\n",
       "      <td>12.0</td>\n",
       "      <td>4.97</td>\n",
       "      <td>1.33</td>\n",
       "    </tr>\n",
       "    <tr>\n",
       "      <th>2</th>\n",
       "      <td>63</td>\n",
       "      <td>16</td>\n",
       "      <td>160</td>\n",
       "      <td>4.4</td>\n",
       "      <td>6.39</td>\n",
       "      <td>0.83</td>\n",
       "    </tr>\n",
       "    <tr>\n",
       "      <th>3</th>\n",
       "      <td>78</td>\n",
       "      <td>20</td>\n",
       "      <td>100</td>\n",
       "      <td>4.0</td>\n",
       "      <td>7.00</td>\n",
       "      <td>2.00</td>\n",
       "    </tr>\n",
       "    <tr>\n",
       "      <th>4</th>\n",
       "      <td>87</td>\n",
       "      <td>20</td>\n",
       "      <td>110</td>\n",
       "      <td>4.6</td>\n",
       "      <td>4.10</td>\n",
       "      <td>1.30</td>\n",
       "    </tr>\n",
       "  </tbody>\n",
       "</table>\n",
       "</div>"
      ],
      "text/plain": [
       "   TUOI  BMI   HA  GLUCOSE  CHOLESTEROL  BEDAYNTM\n",
       "0    56   21  160     14.0         6.00      1.95\n",
       "1    76   18  150     12.0         4.97      1.33\n",
       "2    63   16  160      4.4         6.39      0.83\n",
       "3    78   20  100      4.0         7.00      2.00\n",
       "4    87   20  110      4.6         4.10      1.30"
      ]
     },
     "execution_count": 36,
     "metadata": {},
     "output_type": "execute_result"
    }
   ],
   "source": [
    "file_path = '../../data/Prac2/vidu4_lin_reg.txt'\n",
    "df = pd.read_csv(file_path, sep=' ')\n",
    "df = df.drop('ID', axis=1)\n",
    "df.head()"
   ]
  },
  {
   "cell_type": "code",
   "execution_count": 37,
   "metadata": {},
   "outputs": [],
   "source": [
    "X = df.drop('BEDAYNTM', axis=1)\n",
    "y = df['BEDAYNTM']"
   ]
  },
  {
   "cell_type": "code",
   "execution_count": 38,
   "metadata": {},
   "outputs": [
    {
     "data": {
      "text/plain": [
       "(100, 2)"
      ]
     },
     "execution_count": 38,
     "metadata": {},
     "output_type": "execute_result"
    }
   ],
   "source": [
    "from sklearn.decomposition import PCA\n",
    "\n",
    "pca = PCA(n_components=0.8)\n",
    "transformed = pd.DataFrame(pca.fit_transform(X), columns=['PC1', 'PC2'])\n",
    "transformed.shape\n"
   ]
  },
  {
   "cell_type": "code",
   "execution_count": 39,
   "metadata": {},
   "outputs": [
    {
     "data": {
      "text/html": [
       "<div>\n",
       "<style scoped>\n",
       "    .dataframe tbody tr th:only-of-type {\n",
       "        vertical-align: middle;\n",
       "    }\n",
       "\n",
       "    .dataframe tbody tr th {\n",
       "        vertical-align: top;\n",
       "    }\n",
       "\n",
       "    .dataframe thead th {\n",
       "        text-align: right;\n",
       "    }\n",
       "</style>\n",
       "<table border=\"1\" class=\"dataframe\">\n",
       "  <thead>\n",
       "    <tr style=\"text-align: right;\">\n",
       "      <th></th>\n",
       "      <th>PC1</th>\n",
       "      <th>PC2</th>\n",
       "    </tr>\n",
       "  </thead>\n",
       "  <tbody>\n",
       "    <tr>\n",
       "      <th>0</th>\n",
       "      <td>19.599753</td>\n",
       "      <td>-4.400157</td>\n",
       "    </tr>\n",
       "    <tr>\n",
       "      <th>1</th>\n",
       "      <td>7.530437</td>\n",
       "      <td>14.350353</td>\n",
       "    </tr>\n",
       "    <tr>\n",
       "      <th>2</th>\n",
       "      <td>18.805429</td>\n",
       "      <td>2.219338</td>\n",
       "    </tr>\n",
       "    <tr>\n",
       "      <th>3</th>\n",
       "      <td>-42.381665</td>\n",
       "      <td>10.886906</td>\n",
       "    </tr>\n",
       "    <tr>\n",
       "      <th>4</th>\n",
       "      <td>-33.396946</td>\n",
       "      <td>20.842330</td>\n",
       "    </tr>\n",
       "  </tbody>\n",
       "</table>\n",
       "</div>"
      ],
      "text/plain": [
       "         PC1        PC2\n",
       "0  19.599753  -4.400157\n",
       "1   7.530437  14.350353\n",
       "2  18.805429   2.219338\n",
       "3 -42.381665  10.886906\n",
       "4 -33.396946  20.842330"
      ]
     },
     "execution_count": 39,
     "metadata": {},
     "output_type": "execute_result"
    }
   ],
   "source": [
    "transformed.head()"
   ]
  },
  {
   "cell_type": "code",
   "execution_count": 40,
   "metadata": {},
   "outputs": [
    {
     "data": {
      "image/png": "[encoded data removed]",
      "text/plain": [
       "<Figure size 800x600 with 1 Axes>"
      ]
     },
     "metadata": {},
     "output_type": "display_data"
    }
   ],
   "source": [
    "plt.figure(figsize=(8, 6))\n",
    "plt.scatter(transformed[\"PC1\"], transformed[\"PC2\"], color='blue', alpha=0.7, edgecolors='k', label=\"Dữ liệu\")\n",
    "plt.xlabel(\"X-axis\")\n",
    "plt.ylabel(\"Y-axis\")\n",
    "plt.legend()\n",
    "plt.grid(True)\n",
    "plt.show()"
   ]
  },
  {
   "cell_type": "code",
   "execution_count": 67,
   "metadata": {},
   "outputs": [],
   "source": [
    "from sklearn.model_selection import train_test_split\n",
    "\n",
    "X_train, X_test, y_train, y_test = train_test_split(X, y, test_size=0.2, random_state=1)"
   ]
  },
  {
   "cell_type": "code",
   "execution_count": 68,
   "metadata": {},
   "outputs": [
    {
     "name": "stdout",
     "output_type": "stream",
     "text": [
      "0.139886628276073\n"
     ]
    },
    {
     "data": {
      "text/plain": [
       "array([0.9166755 , 0.94909308, 0.98246474, 0.74463805, 1.11737829,\n",
       "       1.26907756, 1.06224428, 1.23822755, 1.15607301, 0.889008  ,\n",
       "       1.24964926, 1.16229533, 0.77599632, 1.0979777 , 1.07620652,\n",
       "       1.19459133, 1.08627558, 0.99364958, 1.13972887, 0.6374861 ])"
      ]
     },
     "execution_count": 68,
     "metadata": {},
     "output_type": "execute_result"
    }
   ],
   "source": [
    "from sklearn.linear_model import LinearRegression\n",
    "from sklearn.metrics import mean_squared_error\n",
    "\n",
    "linR = LinearRegression()\n",
    "\n",
    "linR.fit(X_train, y_train)\n",
    "y_pred = linR.predict(X_test)\n",
    "print(linR.score(X_test, y_test))\n",
    "# print(mean_squared_error(y_test, y_pred))\n",
    "y_pred"
   ]
  },
  {
   "cell_type": "code",
   "execution_count": 70,
   "metadata": {},
   "outputs": [
    {
     "name": "stdout",
     "output_type": "stream",
     "text": [
      "0.13446249084295037\n"
     ]
    },
    {
     "data": {
      "text/plain": [
       "array([0.91934826, 0.99583556, 1.01821277, 0.77663454, 1.04125017,\n",
       "       1.12249887, 1.06189476, 1.19805524, 1.11759982, 0.89818118,\n",
       "       1.21641767, 1.1726335 , 0.76776539, 1.06261411, 1.17161819,\n",
       "       1.19333129, 1.11919497, 1.06207728, 1.19317855, 0.6559833 ])"
      ]
     },
     "execution_count": 70,
     "metadata": {},
     "output_type": "execute_result"
    }
   ],
   "source": [
    "X_train_pca, X_test_pca, y_train, y_test = train_test_split(transformed, y, test_size=0.2, random_state=1)\n",
    "\n",
    "linR.fit(X_train_pca, y_train)\n",
    "print(linR.score(X_test_pca, y_test))\n",
    "y_pred_pca = linR.predict(X_test_pca)\n",
    "# print(mean_squared_error(y_test, y_pred))\n",
    "y_pred_pca"
   ]
  },
  {
   "cell_type": "markdown",
   "metadata": {},
   "source": [
    "**R² trước khi giảm chiều dữ liệu (0.1399)**\n",
    "\n",
    "* Giá trị R² = 0.1399 cho thấy mô hình hồi quy tuyến tính chỉ giải thích được khoảng 13.99% phương sai của dữ liệu.\n",
    "* Đây là một kết quả khá thấp, cho thấy mô hình chưa thực sự phù hợp với dữ liệu và có thể còn nhiều biến chưa được khai thác hiệu quả.\n",
    "\n",
    "**R² sau khi giảm chiều bằng PCA (0.1345)**\n",
    "\n",
    "* Sau khi giảm số chiều dữ liệu bằng PCA, giá trị R² giảm xuống còn 0.1345.\n",
    "* Điều này cho thấy việc giảm chiều có ảnh hưởng tiêu cực đến độ chính xác của mô hình.\n",
    "* Nguyên nhân có thể là do PCA đã loại bỏ một số thông tin quan trọng, làm mất đi khả năng dự đoán của mô hình."
   ]
  },
  {
   "cell_type": "code",
   "execution_count": null,
   "metadata": {},
   "outputs": [],
   "source": []
  }
 ],
 "metadata": {
  "kernelspec": {
   "display_name": "venv",
   "language": "python",
   "name": "python3"
  },
  "language_info": {
   "codemirror_mode": {
    "name": "ipython",
    "version": 3
   },
   "file_extension": ".py",
   "mimetype": "text/x-python",
   "name": "python",
   "nbconvert_exporter": "python",
   "pygments_lexer": "ipython3",
   "version": "3.12.2"
  }
 },
 "nbformat": 4,
 "nbformat_minor": 2
}
