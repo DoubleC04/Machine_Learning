{
 "cells": [
  {
   "cell_type": "code",
   "execution_count": 4,
   "metadata": {},
   "outputs": [],
   "source": [
    "import numpy as np\n",
    "import matplotlib.pyplot as plt"
   ]
  },
  {
   "cell_type": "code",
   "execution_count": 5,
   "metadata": {},
   "outputs": [],
   "source": [
    "# randomly generate data\n",
    "N = 500 # number of training sample\n",
    "d = 2 # data dimension\n",
    "C = 3 # number of classes (for c = 0, 1, 2)\n",
    "means = [[2, 2], [8, 3], [3, 6]] # centeroid of each class dataset\n",
    "cov = [[1, 0], [0, 1]]\n",
    "\n",
    "# generate 3 classes of datasets\n",
    "X0 = np.random.multivariate_normal(means[0], cov, N)\n",
    "X1 = np.random.multivariate_normal(means[1], cov, N)\n",
    "X2 = np.random.multivariate_normal(means[2], cov, N)\n",
    "\n",
    "# each column is a datapoint (arrange 3 vectors X1 X2 X3 then transpose matrix)\n",
    "X = np.concatenate((X0, X1, X2), axis = 0).T\n",
    "\n",
    "# extended data by add row ONES (equivalent to 1) at first place\n",
    "X = np.concatenate((np.ones((1, 3*N)), X), axis = 0)\n",
    "\n",
    "# Generate label for data points of each class (0, 1, 2)\n",
    "# with first 500 will belong to class 0, second 500 => 1 and last 500=> class 2\n",
    "original_label = np.asarray([0]*N + [1]*N + [2]*N).T"
   ]
  },
  {
   "cell_type": "code",
   "execution_count": 6,
   "metadata": {},
   "outputs": [],
   "source": [
    "from sklearn.model_selection import train_test_split\n",
    "\n",
    "X_train, X_test, y_train, y_test = train_test_split(X.T, original_label, test_size=0.2, random_state=1)"
   ]
  },
  {
   "cell_type": "code",
   "execution_count": 7,
   "metadata": {},
   "outputs": [],
   "source": [
    "X_train = X_train.T\n",
    "X_test = X_test.T\n",
    "y_train = y_train.T\n",
    "y_test = y_test.T"
   ]
  },
  {
   "cell_type": "code",
   "execution_count": 8,
   "metadata": {},
   "outputs": [],
   "source": [
    "from scipy import sparse\n",
    "def convert_labels(y, C = C):\n",
    "    \"\"\"\n",
    "    convert 1d label to a matrix label: each column of this\n",
    "    matrix coresponding to 1 element in y. In i-th column of Y,\n",
    "    only one non-zeros element located in the y[i]-th position,\n",
    "    and = 1 ex: y = [0, 2, 1, 0], and 3 classes then return\n",
    "\n",
    "    [[1, 0, 0, 1],\n",
    "    [0, 0, 1, 0],\n",
    "    [0, 1, 0, 0]]\n",
    "    \"\"\"\n",
    "    Y = sparse.coo_matrix((np.ones_like(y),\n",
    "    (y, np.arange(len(y)))), shape = (C, len(y))).toarray()\n",
    "    return Y\n",
    "\n",
    "# Y = convert_labels(y, C)"
   ]
  },
  {
   "cell_type": "code",
   "execution_count": 9,
   "metadata": {},
   "outputs": [],
   "source": [
    "def softmax_stable(Z):\n",
    "    \"\"\"\n",
    "    Compute softmax values for each sets of scores in Z.\n",
    "    each column of Z is a set of score.\n",
    "    \"\"\"\n",
    "    e_Z = np.exp(Z - np.max(Z, axis = 0, keepdims = True))\n",
    "    A = e_Z / e_Z.sum(axis = 0)\n",
    "    return A"
   ]
  },
  {
   "cell_type": "code",
   "execution_count": 10,
   "metadata": {},
   "outputs": [],
   "source": [
    "def softmax(Z):\n",
    "    \"\"\"\n",
    "    #Compute softmax values for each sets of scores in V.\n",
    "    #each column of V is a set of score.\n",
    "    \"\"\"\n",
    "    e_Z = np.exp(Z)\n",
    "    A = e_Z / e_Z.sum(axis = 0)\n",
    "    return A"
   ]
  },
  {
   "cell_type": "code",
   "execution_count": 11,
   "metadata": {},
   "outputs": [],
   "source": [
    "def softmax_regression(X, y, W_init, eta, tol = 1e-4, max_count = 10000):\n",
    "    W = [W_init]\n",
    "    C = W_init.shape[1]\n",
    "    Y = convert_labels(y, C)\n",
    "    it = 0\n",
    "    N = X.shape[1]\n",
    "    d = X.shape[0]\n",
    "\n",
    "    count = 0\n",
    "    check_w_after = 20\n",
    "    while count < max_count:\n",
    "        # mix data\n",
    "        mix_id = np.random.permutation(N)\n",
    "        for i in mix_id:\n",
    "            xi = X[:, i].reshape(d, 1)\n",
    "            yi = Y[:, i].reshape(C, 1)\n",
    "            ai = softmax(np.dot(W[-1].T, xi))\n",
    "            W_new = W[-1] + eta*xi.dot((yi - ai).T)\n",
    "            count += 1\n",
    "            # stopping criteria\n",
    "            if count%check_w_after == 0:\n",
    "                if np.linalg.norm(W_new - W[-check_w_after]) < tol:\n",
    "                    return W\n",
    "            W.append(W_new)\n",
    "    return W"
   ]
  },
  {
   "cell_type": "code",
   "execution_count": 12,
   "metadata": {},
   "outputs": [],
   "source": [
    "# cost or loss function\n",
    "def cost(X, Y, W):\n",
    "    A = softmax(W.T.dot(X))\n",
    "    return -np.sum(Y*np.log(A))\n",
    "\n",
    "# Predict that X belong to which class (1..C now indexed as 0..C-1 )\n",
    "def pred(W, X):\n",
    "    \"\"\"\n",
    "    predict output of each columns of X\n",
    "    Class of each x_i is determined by location of max probability\n",
    "    Note that class are indexed by [0, 1, 2, ...., C-1]\n",
    "    \"\"\"\n",
    "    A = softmax_stable(W.T.dot(X))\n",
    "    return np.argmax(A, axis = 0)\n",
    "\n",
    "# W[-1] is the solution, W is all history of weights"
   ]
  },
  {
   "cell_type": "code",
   "execution_count": 13,
   "metadata": {},
   "outputs": [
    {
     "name": "stdout",
     "output_type": "stream",
     "text": [
      "[[ 8.06859782 -3.70987466 -4.38548934]\n",
      " [-1.14832227  1.45132234 -0.84479877]\n",
      " [-1.07528849 -1.16813741  1.82807875]]\n"
     ]
    }
   ],
   "source": [
    "eta = .05\n",
    "d = X_train.shape[0]\n",
    "W_init = np.random.randn(X_train.shape[0], C)\n",
    "W = softmax_regression(X_train, y_train, W_init, eta)\n",
    "print(W[-1])"
   ]
  },
  {
   "cell_type": "code",
   "execution_count": 14,
   "metadata": {},
   "outputs": [
    {
     "name": "stdout",
     "output_type": "stream",
     "text": [
      "(1, 270400)\n"
     ]
    }
   ],
   "source": [
    "#Visualize\n",
    "xm = np.arange(-2, 11, 0.025)\n",
    "xlen = len(xm)\n",
    "ym = np.arange(-3, 10, 0.025)\n",
    "ylen = len(ym)\n",
    "xx, yy = np.meshgrid(xm, ym)\n",
    "print(np.ones((1, xx.size)).shape)\n"
   ]
  },
  {
   "cell_type": "code",
   "execution_count": 15,
   "metadata": {},
   "outputs": [
    {
     "name": "stdout",
     "output_type": "stream",
     "text": [
      "(3, 270400)\n"
     ]
    }
   ],
   "source": [
    "xx1 = xx.ravel().reshape(1, xx.size)\n",
    "yy1 = yy.ravel().reshape(1, yy.size)\n",
    "XX = np.concatenate((np.ones((1, xx.size)), xx1, yy1), axis = 0)\n",
    "print(XX.shape)\n"
   ]
  },
  {
   "cell_type": "code",
   "execution_count": 16,
   "metadata": {},
   "outputs": [
    {
     "data": {
      "text/plain": [
       "array([[0.9460689 , 3.0015126 , 2.18091608, ..., 3.45670297, 2.29677316,\n",
       "        1.42334514],\n",
       "       [0.6379931 , 1.79674052, 2.19938591, ..., 8.03380293, 8.84557774,\n",
       "        4.50649017]], shape=(2, 1500))"
      ]
     },
     "metadata": {},
     "output_type": "display_data"
    },
    {
     "data": {
      "text/plain": [
       "array([0, 0, 0, ..., 2, 2, 2], shape=(1500,))"
      ]
     },
     "metadata": {},
     "output_type": "display_data"
    },
    {
     "data": {
      "image/png": "[encoded data removed]",
      "text/plain": [
       "<Figure size 640x480 with 1 Axes>"
      ]
     },
     "metadata": {},
     "output_type": "display_data"
    }
   ],
   "source": [
    "Z = pred(W[-1], XX)\n",
    "Z = Z.reshape(xx.shape)\n",
    "CS = plt.contourf(xx, yy, Z, 200, cmap='jet', alpha = .1)\n",
    "plt.xlim(-2, 11)\n",
    "plt.ylim(-3, 10)\n",
    "plt.xticks(())\n",
    "plt.yticks(())\n",
    "\n",
    "display(X[1:, :], original_label)\n",
    "plt.savefig('ex1.png', bbox_inches='tight', dpi = 300)\n",
    "plt.show()"
   ]
  },
  {
   "cell_type": "code",
   "execution_count": 17,
   "metadata": {},
   "outputs": [
    {
     "data": {
      "text/plain": [
       "array([2, 0, 2, 0, 2, 1, 2, 2, 2, 0, 1, 0, 2, 0, 1, 2, 0, 1, 2, 0, 2, 2,\n",
       "       2, 1, 0, 2, 2, 1, 2, 1, 2, 0, 2, 0, 0, 2, 2, 0, 0, 2, 1, 1, 1, 1,\n",
       "       1, 1, 2, 1, 2, 0, 2, 2, 2, 0, 1, 2, 0, 2, 0, 1, 2, 2, 1, 0, 2, 0,\n",
       "       0, 0, 2, 1, 2, 0, 1, 1, 1, 2, 2, 0, 0, 2, 0, 2, 1, 2, 1, 2, 2, 0,\n",
       "       0, 0, 1, 1, 0, 1, 0, 1, 1, 1, 0, 0, 2, 2, 2, 1, 0, 1, 1, 0, 1, 2,\n",
       "       2, 1, 1, 1, 0, 0, 0, 0, 2, 1, 1, 2, 1, 2, 0, 2, 1, 1, 0, 2, 0, 0,\n",
       "       0, 1, 0, 2, 0, 0, 1, 2, 2, 2, 2, 0, 1, 1, 2, 0, 2, 0, 1, 1, 0, 0,\n",
       "       1, 2, 1, 1, 1, 2, 1, 1, 0, 1, 1, 0, 1, 1, 1, 1, 0, 2, 2, 1, 2, 1,\n",
       "       1, 1, 0, 0, 0, 2, 1, 0, 1, 1, 0, 2, 2, 1, 1, 0, 1, 2, 2, 0, 2, 1,\n",
       "       0, 1, 2, 0, 2, 2, 0, 1, 2, 0, 1, 1, 1, 2, 2, 1, 0, 1, 1, 0, 1, 0,\n",
       "       1, 2, 1, 2, 2, 1, 1, 0, 0, 1, 2, 1, 0, 1, 1, 2, 0, 0, 0, 2, 0, 0,\n",
       "       1, 2, 0, 0, 0, 1, 1, 1, 0, 0, 0, 0, 1, 1, 2, 1, 1, 2, 2, 1, 0, 1,\n",
       "       0, 0, 1, 1, 0, 2, 2, 0, 2, 0, 2, 2, 0, 1, 2, 1, 0, 1, 2, 0, 1, 1,\n",
       "       2, 2, 2, 1, 2, 2, 1, 0, 1, 2, 2, 2, 0, 0])"
      ]
     },
     "execution_count": 17,
     "metadata": {},
     "output_type": "execute_result"
    }
   ],
   "source": [
    "y_pred = pred(W[-1], X_test)\n",
    "y_pred"
   ]
  },
  {
   "cell_type": "code",
   "execution_count": 18,
   "metadata": {},
   "outputs": [
    {
     "name": "stdout",
     "output_type": "stream",
     "text": [
      "0.9833333333333333\n"
     ]
    }
   ],
   "source": [
    "from sklearn.metrics import accuracy_score, confusion_matrix\n",
    "\n",
    "print(accuracy_score(y_test, y_pred))"
   ]
  },
  {
   "cell_type": "code",
   "execution_count": 19,
   "metadata": {},
   "outputs": [
    {
     "data": {
      "text/plain": [
       "array([[ 93,   1,   1],\n",
       "       [  0, 106,   1],\n",
       "       [  2,   0,  96]])"
      ]
     },
     "execution_count": 19,
     "metadata": {},
     "output_type": "execute_result"
    }
   ],
   "source": [
    "cm = confusion_matrix(y_test, y_pred)\n",
    "cm"
   ]
  },
  {
   "cell_type": "code",
   "execution_count": 20,
   "metadata": {},
   "outputs": [
    {
     "data": {
      "text/plain": [
       "<Axes: >"
      ]
     },
     "execution_count": 20,
     "metadata": {},
     "output_type": "execute_result"
    },
    {
     "data": {
      "image/png": "[encoded data removed]",
      "text/plain": [
       "<Figure size 600x800 with 2 Axes>"
      ]
     },
     "metadata": {},
     "output_type": "display_data"
    }
   ],
   "source": [
    "import seaborn as sns\n",
    "\n",
    "plt.figure(figsize=(6,8))\n",
    "sns.heatmap(cm, annot=True)"
   ]
  },
  {
   "cell_type": "code",
   "execution_count": null,
   "metadata": {},
   "outputs": [],
   "source": []
  }
 ],
 "metadata": {
  "kernelspec": {
   "display_name": "venv",
   "language": "python",
   "name": "python3"
  },
  "language_info": {
   "codemirror_mode": {
    "name": "ipython",
    "version": 3
   },
   "file_extension": ".py",
   "mimetype": "text/x-python",
   "name": "python",
   "nbconvert_exporter": "python",
   "pygments_lexer": "ipython3",
   "version": "3.12.2"
  }
 },
 "nbformat": 4,
 "nbformat_minor": 2
}
