{
 "cells": [
  {
   "cell_type": "code",
   "execution_count": 1,
   "id": "5dbcf8c6",
   "metadata": {},
   "outputs": [],
   "source": [
    "import numpy as np\n",
    "import pandas as pd\n",
    "from numpy import random\n",
    "import matplotlib.pyplot as plt\n",
    "from matplotlib.patches import Ellipse\n",
    "import matplotlib.transforms as transforms\n",
    "from scipy.stats import multivariate_normal\n",
    "\n",
    "from sklearn.metrics import silhouette_score, accuracy_score\n",
    "from sklearn.preprocessing import StandardScaler"
   ]
  },
  {
   "cell_type": "code",
   "execution_count": 2,
   "id": "8aa2e81a",
   "metadata": {},
   "outputs": [],
   "source": [
    "class GMM():\n",
    "    def __init__(self, k, dim, init_mu=None, init_sigma=None, init_pi=None, colors=None):\n",
    "        '''\n",
    "        Define a model with known number of clusters and dimensions.\n",
    "        input:\n",
    "            - k: Number of Gaussian clusters\n",
    "            - dim: Dimension \n",
    "            - init_mu: initial value of mean of clusters (k, dim)\n",
    "                       (default) random from uniform[-10, 10]\n",
    "            - init_sigma: initial value of covariance matrix of clusters (k, dim, dim)\n",
    "                          (default) Identity matrix for each cluster\n",
    "            - init_pi: initial value of cluster weights (k,)\n",
    "                       (default) equal value to all cluster i.e. 1/k\n",
    "            - colors: Color valu for plotting each cluster (k, 3)\n",
    "                      (default) random from uniform[0, 1]\n",
    "        '''\n",
    "        self.k = k\n",
    "        self.dim = dim\n",
    "        if(init_mu is None):\n",
    "            init_mu = random.rand(k, dim)*20 - 10\n",
    "        self.mu = init_mu\n",
    "        if(init_sigma is None):\n",
    "            init_sigma = np.zeros((k, dim, dim))\n",
    "            for i in range(k):\n",
    "                init_sigma[i] = np.eye(dim)\n",
    "        self.sigma = init_sigma\n",
    "        if(init_pi is None):\n",
    "            init_pi = np.ones(self.k)/self.k\n",
    "        self.pi = init_pi\n",
    "        if(colors is None):\n",
    "            colors = random.rand(k, 3)\n",
    "            for i in range(k):\n",
    "                colors[i, 2] = i/k\n",
    "        self.colors = colors\n",
    "    \n",
    "    def init_em(self, X):\n",
    "        '''\n",
    "        Initialization for EM algorithm.\n",
    "        input:\n",
    "            - X: data (batch_size, dim)\n",
    "        '''\n",
    "        self.data = X\n",
    "        self.num_points = X.shape[0]\n",
    "        self.z = np.zeros((self.num_points, self.k))\n",
    "    \n",
    "    def e_step(self):\n",
    "        '''\n",
    "        E-step of EM algorithm.\n",
    "        '''\n",
    "        for i in range(self.k):\n",
    "            self.z[:, i] = self.pi[i] * multivariate_normal.pdf(self.data, mean=self.mu[i], cov=self.sigma[i], allow_singular=True)\n",
    "        self.z /= self.z.sum(axis=1, keepdims=True)\n",
    "    \n",
    "    def m_step(self):\n",
    "        '''\n",
    "        M-step of EM algorithm.\n",
    "        '''\n",
    "        sum_z = self.z.sum(axis=0)\n",
    "        self.pi = sum_z / self.num_points\n",
    "        self.mu = np.matmul(self.z.T, self.data)\n",
    "        self.mu /= sum_z[:, None]\n",
    "        for i in range(self.k):\n",
    "            j = np.expand_dims(self.data, axis=1) - self.mu[i]\n",
    "            s = np.matmul(j.transpose([0, 2, 1]), j)\n",
    "            self.sigma[i] = np.matmul(s.transpose(1, 2, 0), self.z[:, i] )\n",
    "            self.sigma[i] /= sum_z[i]\n",
    "            \n",
    "    def log_likelihood(self, X):\n",
    "        '''\n",
    "        Compute the log-likelihood of X under current parameters\n",
    "        input:\n",
    "            - X: Data (batch_size, dim)\n",
    "        output:\n",
    "            - log-likelihood of X: Sum_n Sum_k log(pi_k * N( X_n | mu_k, sigma_k ))\n",
    "        '''\n",
    "        ll = []\n",
    "        for d in X:\n",
    "            tot = 0\n",
    "            for i in range(self.k):\n",
    "                tot += self.pi[i] * multivariate_normal.pdf(d, mean=self.mu[i], cov=self.sigma[i], allow_singular=True)\n",
    "            ll.append(np.log(tot))\n",
    "        return np.sum(ll)\n",
    "    \n",
    "    def plot_gaussian(self, mean, cov, ax, n_std=3.0, facecolor='none', **kwargs):\n",
    "        '''\n",
    "        Utility function to plot one Gaussian from mean and covariance.\n",
    "        '''\n",
    "        pearson = cov[0, 1]/np.sqrt(cov[0, 0] * cov[1, 1])\n",
    "        ell_radius_x = np.sqrt(1 + pearson)\n",
    "        ell_radius_y = np.sqrt(1 - pearson)\n",
    "        ellipse = Ellipse((0, 0),\n",
    "            width=ell_radius_x * 2,\n",
    "            height=ell_radius_y * 2,\n",
    "            facecolor=facecolor,\n",
    "            **kwargs)\n",
    "        scale_x = np.sqrt(cov[0, 0]) * n_std\n",
    "        mean_x = mean[0]\n",
    "        scale_y = np.sqrt(cov[1, 1]) * n_std\n",
    "        mean_y = mean[1]\n",
    "        transf = transforms.Affine2D() \\\n",
    "            .rotate_deg(45) \\\n",
    "            .scale(scale_x, scale_y) \\\n",
    "            .translate(mean_x, mean_y)\n",
    "        ellipse.set_transform(transf + ax.transData)\n",
    "        return ax.add_patch(ellipse)\n",
    "\n",
    "    def draw(self, ax, n_std=2.0, facecolor='none', **kwargs):\n",
    "        '''\n",
    "        Function to draw the Gaussians.\n",
    "        Note: Only for two-dimensionl dataset\n",
    "        '''\n",
    "        if(self.dim != 2):\n",
    "            print(\"Drawing available only for 2D case.\")\n",
    "            return\n",
    "        for i in range(self.k):\n",
    "            self.plot_gaussian(self.mu[i], self.sigma[i], ax, n_std=n_std, edgecolor=self.colors[i], **kwargs)"
   ]
  },
  {
   "cell_type": "code",
   "execution_count": 3,
   "id": "5bd3d504",
   "metadata": {},
   "outputs": [],
   "source": [
    "def gen_data(k=3, dim=2, points_per_cluster=200, lim=[-10, 10]):\n",
    "    '''\n",
    "    Generates data from a random mixture of Gaussians in a given range.\n",
    "    Will also plot the points in case of 2D.\n",
    "    input:\n",
    "        - k: Number of Gaussian clusters\n",
    "        - dim: Dimension of generated points\n",
    "        - points_per_cluster: Number of points to be generated for each cluster\n",
    "        - lim: Range of mean values\n",
    "    output:\n",
    "        - X: Generated points (points_per_cluster*k, dim)\n",
    "    '''\n",
    "    x = []\n",
    "    mean = random.rand(k, dim)*(lim[1]-lim[0]) + lim[0]\n",
    "    for i in range(k):\n",
    "        cov = random.rand(dim, dim+10)\n",
    "        cov = np.matmul(cov, cov.T)\n",
    "        _x = np.random.multivariate_normal(mean[i], cov, points_per_cluster)\n",
    "        x += list(_x)\n",
    "    x = np.array(x)\n",
    "    if(dim == 2):\n",
    "        fig = plt.figure()\n",
    "        ax = fig.gca()\n",
    "        ax.scatter(x[:,0], x[:,1], s=3, alpha=0.4)\n",
    "        ax.autoscale(enable=True) \n",
    "    return x"
   ]
  },
  {
   "cell_type": "code",
   "execution_count": 4,
   "id": "cf59a883",
   "metadata": {},
   "outputs": [],
   "source": [
    "def plot(title):\n",
    "    '''\n",
    "    Draw the data points and the fitted mixture model.\n",
    "    input:\n",
    "        - title: title of plot and name with which it will be saved.\n",
    "    '''\n",
    "    fig = plt.figure(figsize=(8, 8))\n",
    "    ax = fig.gca()\n",
    "    ax.scatter(X[:, 0], X[:, 1], s=3, alpha=0.4)\n",
    "    ax.scatter(gmm.mu[:, 0], gmm.mu[:, 1], c=gmm.colors)\n",
    "    \n",
    "    gmm.draw(ax, lw=3)\n",
    "    ax.set_xlim((-22, 22))\n",
    "    ax.set_ylim((-22, 22))\n",
    "    \n",
    "    plt.title(title)\n",
    "    # plt.savefig(title.replace(':', '_'))\n",
    "    plt.show()\n",
    "    plt.clf()"
   ]
  },
  {
   "cell_type": "code",
   "execution_count": 5,
   "id": "79cb069c",
   "metadata": {},
   "outputs": [
    {
     "data": {
      "text/html": [
       "<div>\n",
       "<style scoped>\n",
       "    .dataframe tbody tr th:only-of-type {\n",
       "        vertical-align: middle;\n",
       "    }\n",
       "\n",
       "    .dataframe tbody tr th {\n",
       "        vertical-align: top;\n",
       "    }\n",
       "\n",
       "    .dataframe thead th {\n",
       "        text-align: right;\n",
       "    }\n",
       "</style>\n",
       "<table border=\"1\" class=\"dataframe\">\n",
       "  <thead>\n",
       "    <tr style=\"text-align: right;\">\n",
       "      <th></th>\n",
       "      <th>sepal.length</th>\n",
       "      <th>sepal.width</th>\n",
       "      <th>petal.length</th>\n",
       "      <th>petal.width</th>\n",
       "      <th>variety</th>\n",
       "    </tr>\n",
       "  </thead>\n",
       "  <tbody>\n",
       "    <tr>\n",
       "      <th>0</th>\n",
       "      <td>5.1</td>\n",
       "      <td>3.5</td>\n",
       "      <td>1.4</td>\n",
       "      <td>0.2</td>\n",
       "      <td>Setosa</td>\n",
       "    </tr>\n",
       "    <tr>\n",
       "      <th>1</th>\n",
       "      <td>4.9</td>\n",
       "      <td>3.0</td>\n",
       "      <td>1.4</td>\n",
       "      <td>0.2</td>\n",
       "      <td>Setosa</td>\n",
       "    </tr>\n",
       "    <tr>\n",
       "      <th>2</th>\n",
       "      <td>4.7</td>\n",
       "      <td>3.2</td>\n",
       "      <td>1.3</td>\n",
       "      <td>0.2</td>\n",
       "      <td>Setosa</td>\n",
       "    </tr>\n",
       "    <tr>\n",
       "      <th>3</th>\n",
       "      <td>4.6</td>\n",
       "      <td>3.1</td>\n",
       "      <td>1.5</td>\n",
       "      <td>0.2</td>\n",
       "      <td>Setosa</td>\n",
       "    </tr>\n",
       "    <tr>\n",
       "      <th>4</th>\n",
       "      <td>5.0</td>\n",
       "      <td>3.6</td>\n",
       "      <td>1.4</td>\n",
       "      <td>0.2</td>\n",
       "      <td>Setosa</td>\n",
       "    </tr>\n",
       "  </tbody>\n",
       "</table>\n",
       "</div>"
      ],
      "text/plain": [
       "   sepal.length  sepal.width  petal.length  petal.width variety\n",
       "0           5.1          3.5           1.4          0.2  Setosa\n",
       "1           4.9          3.0           1.4          0.2  Setosa\n",
       "2           4.7          3.2           1.3          0.2  Setosa\n",
       "3           4.6          3.1           1.5          0.2  Setosa\n",
       "4           5.0          3.6           1.4          0.2  Setosa"
      ]
     },
     "execution_count": 5,
     "metadata": {},
     "output_type": "execute_result"
    }
   ],
   "source": [
    "file_path = \"../../data/Naive_Bayes/iris.csv\"\n",
    "\n",
    "data_iris = pd.read_csv(file_path)\n",
    "\n",
    "data_iris.head()"
   ]
  },
  {
   "cell_type": "code",
   "execution_count": 6,
   "id": "b2fbc171",
   "metadata": {},
   "outputs": [
    {
     "data": {
      "text/html": [
       "<div>\n",
       "<style scoped>\n",
       "    .dataframe tbody tr th:only-of-type {\n",
       "        vertical-align: middle;\n",
       "    }\n",
       "\n",
       "    .dataframe tbody tr th {\n",
       "        vertical-align: top;\n",
       "    }\n",
       "\n",
       "    .dataframe thead th {\n",
       "        text-align: right;\n",
       "    }\n",
       "</style>\n",
       "<table border=\"1\" class=\"dataframe\">\n",
       "  <thead>\n",
       "    <tr style=\"text-align: right;\">\n",
       "      <th></th>\n",
       "      <th>sepal.length</th>\n",
       "      <th>sepal.width</th>\n",
       "      <th>petal.length</th>\n",
       "      <th>petal.width</th>\n",
       "    </tr>\n",
       "  </thead>\n",
       "  <tbody>\n",
       "    <tr>\n",
       "      <th>0</th>\n",
       "      <td>5.1</td>\n",
       "      <td>3.5</td>\n",
       "      <td>1.4</td>\n",
       "      <td>0.2</td>\n",
       "    </tr>\n",
       "    <tr>\n",
       "      <th>1</th>\n",
       "      <td>4.9</td>\n",
       "      <td>3.0</td>\n",
       "      <td>1.4</td>\n",
       "      <td>0.2</td>\n",
       "    </tr>\n",
       "    <tr>\n",
       "      <th>2</th>\n",
       "      <td>4.7</td>\n",
       "      <td>3.2</td>\n",
       "      <td>1.3</td>\n",
       "      <td>0.2</td>\n",
       "    </tr>\n",
       "    <tr>\n",
       "      <th>3</th>\n",
       "      <td>4.6</td>\n",
       "      <td>3.1</td>\n",
       "      <td>1.5</td>\n",
       "      <td>0.2</td>\n",
       "    </tr>\n",
       "    <tr>\n",
       "      <th>4</th>\n",
       "      <td>5.0</td>\n",
       "      <td>3.6</td>\n",
       "      <td>1.4</td>\n",
       "      <td>0.2</td>\n",
       "    </tr>\n",
       "  </tbody>\n",
       "</table>\n",
       "</div>"
      ],
      "text/plain": [
       "   sepal.length  sepal.width  petal.length  petal.width\n",
       "0           5.1          3.5           1.4          0.2\n",
       "1           4.9          3.0           1.4          0.2\n",
       "2           4.7          3.2           1.3          0.2\n",
       "3           4.6          3.1           1.5          0.2\n",
       "4           5.0          3.6           1.4          0.2"
      ]
     },
     "execution_count": 6,
     "metadata": {},
     "output_type": "execute_result"
    }
   ],
   "source": [
    "X_iris = data_iris.drop(\"variety\", axis=1)\n",
    "y_iris = data_iris['variety'].map({\"Setosa\": 0, \"Versicolor\": 1, \"Virginica\": 2})\n",
    "\n",
    "X_iris.head()"
   ]
  },
  {
   "cell_type": "code",
   "execution_count": 7,
   "id": "2ff6a354",
   "metadata": {},
   "outputs": [
    {
     "name": "stdout",
     "output_type": "stream",
     "text": [
      "(150, 4)\n"
     ]
    }
   ],
   "source": [
    "std = StandardScaler()\n",
    "X_std = std.fit_transform(X_iris)\n",
    "print(X_std.shape)"
   ]
  },
  {
   "cell_type": "code",
   "execution_count": 8,
   "id": "af674e6c",
   "metadata": {},
   "outputs": [],
   "source": [
    "X_std = np.array(X_std)"
   ]
  },
  {
   "cell_type": "code",
   "execution_count": 12,
   "id": "5353dd05",
   "metadata": {},
   "outputs": [],
   "source": [
    "gmm_iris = GMM(3, 4)"
   ]
  },
  {
   "cell_type": "code",
   "execution_count": 13,
   "id": "cd5965cb",
   "metadata": {},
   "outputs": [
    {
     "data": {
      "text/plain": [
       "array([[ 3.00639676,  5.29115876,  8.31944175,  4.48828334],\n",
       "       [ 4.9220819 , -4.84236641, -6.24729875,  3.38504159],\n",
       "       [-2.62399812, -8.30354298,  1.70213633,  2.398814  ]])"
      ]
     },
     "execution_count": 13,
     "metadata": {},
     "output_type": "execute_result"
    }
   ],
   "source": [
    "gmm_iris.mu"
   ]
  },
  {
   "cell_type": "code",
   "execution_count": 14,
   "id": "7d2a9384",
   "metadata": {},
   "outputs": [
    {
     "name": "stdout",
     "output_type": "stream",
     "text": [
      "Iteration: 1, log-likelihood: -456.0670\n",
      "Iteration: 2, log-likelihood: -415.5721\n",
      "Iteration: 3, log-likelihood: -362.4044\n",
      "Iteration: 4, log-likelihood: -336.9153\n",
      "Iteration: 5, log-likelihood: -320.1533\n",
      "Iteration: 6, log-likelihood: -306.9146\n",
      "Iteration: 7, log-likelihood: -306.2497\n",
      "Iteration: 8, log-likelihood: -306.2099\n",
      "Iteration: 9, log-likelihood: -306.1935\n",
      "Iteration: 10, log-likelihood: -306.1822\n",
      "Iteration: 11, log-likelihood: -306.1714\n",
      "Iteration: 12, log-likelihood: -306.1587\n",
      "Iteration: 13, log-likelihood: -306.1410\n",
      "Iteration: 14, log-likelihood: -306.1129\n",
      "Iteration: 15, log-likelihood: -306.0635\n",
      "Iteration: 16, log-likelihood: -305.9765\n",
      "Iteration: 17, log-likelihood: -305.8542\n",
      "Iteration: 18, log-likelihood: -305.7558\n",
      "Iteration: 19, log-likelihood: -305.7168\n",
      "Iteration: 20, log-likelihood: -305.7051\n"
     ]
    }
   ],
   "source": [
    "gmm_iris.init_em(X_std)\n",
    "\n",
    "num_iters = 20\n",
    "# Saving log-likelihood\n",
    "log_likelihood = [gmm_iris.log_likelihood(X_std)]\n",
    "\n",
    "for e in range(num_iters):\n",
    "    # E-step\n",
    "    gmm_iris.e_step()\n",
    "    # M-step\n",
    "    gmm_iris.m_step()\n",
    "    # Computing log-likelihood\n",
    "    log_likelihood.append(gmm_iris.log_likelihood(X_std))\n",
    "    print(\"Iteration: {}, log-likelihood: {:.4f}\".format(e+1, log_likelihood[-1]))\n",
    "    \n"
   ]
  },
  {
   "cell_type": "code",
   "execution_count": 15,
   "id": "22e94cfd",
   "metadata": {},
   "outputs": [
    {
     "name": "stdout",
     "output_type": "stream",
     "text": [
      "[1 1 1 1 1 1 1 1 1 1 1 1 1 1 1 1 1 1 1 1 1 1 1 1 1 1 1 1 1 1 1 1 1 1 1 1 1\n",
      " 1 1 1 1 1 1 1 1 1 1 1 1 1 2 2 2 2 2 2 2 2 2 2 2 2 2 2 2 2 2 2 2 2 2 2 2 2\n",
      " 2 2 2 2 2 2 2 2 2 2 2 2 2 2 2 2 2 2 2 2 2 2 2 2 2 2 0 2 2 2 0 2 2 2 2 0 2\n",
      " 2 0 2 0 0 2 0 2 2 0 2 2 2 0 2 2 2 2 2 2 0 0 2 2 2 0 2 2 0 0 0 2 0 0 0 2 2\n",
      " 0 2]\n"
     ]
    }
   ],
   "source": [
    "y_pred = np.argmax(gmm_iris.z, axis=1)\n",
    "print(y_pred)"
   ]
  },
  {
   "cell_type": "code",
   "execution_count": 18,
   "id": "3b7e7f1a",
   "metadata": {},
   "outputs": [
    {
     "name": "stdout",
     "output_type": "stream",
     "text": [
      "Silhouette score: 0.38679948366350964\n"
     ]
    }
   ],
   "source": [
    "print(\"Silhouette score:\", silhouette_score(X_std, y_pred))"
   ]
  },
  {
   "cell_type": "markdown",
   "id": "ba32992b",
   "metadata": {},
   "source": [
    "### Nhận xét:\n",
    "Giá trị **silhouette score** bằng `0.38679948366350964` cho thấy phân cụm có chất lượng trung bình, nhưng chưa thực sự tốt."
   ]
  },
  {
   "cell_type": "markdown",
   "id": "a8991123",
   "metadata": {},
   "source": []
  }
 ],
 "metadata": {
  "kernelspec": {
   "display_name": "venv",
   "language": "python",
   "name": "python3"
  },
  "language_info": {
   "codemirror_mode": {
    "name": "ipython",
    "version": 3
   },
   "file_extension": ".py",
   "mimetype": "text/x-python",
   "name": "python",
   "nbconvert_exporter": "python",
   "pygments_lexer": "ipython3",
   "version": "3.12.2"
  }
 },
 "nbformat": 4,
 "nbformat_minor": 5
}
