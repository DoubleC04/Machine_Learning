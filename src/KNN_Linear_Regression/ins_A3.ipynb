{
 "cells": [
  {
   "cell_type": "code",
   "execution_count": null,
   "metadata": {},
   "outputs": [],
   "source": [
    "import math\n",
    "import numpy as np\n",
    "\n",
    "\n",
    "path = \"../../data/Prac2/fuel.txt\"\n",
    "with open(path) as f:\n",
    "    lines = f.readlines()\n",
    "\n",
    "x_data = []\n",
    "y_data = []\n",
    "lines.pop(0)\n",
    "\n",
    "for line in lines:\n",
    "    splitted = line.replace('\\n', '').split(',')\n",
    "    splitted.pop(0)\n",
    "    splitted = list(map(float, splitted))\n",
    "    fuel = 1000 * splitted[1] / splitted[5]\n",
    "    dlic = 1000 * splitted[0] / splitted[5]\n",
    "    logMiles = math.log2(splitted[3])\n",
    "    y_data.append([fuel])\n",
    "    x_data.append([splitted[-1], dlic, splitted[2], logMiles])\n",
    "\n",
    "\n",
    "x_data = np.asarray(x_data)\n",
    "y_data = np.asarray(y_data)"
   ]
  },
  {
   "cell_type": "code",
   "execution_count": 19,
   "metadata": {},
   "outputs": [],
   "source": [
    "X_train = x_data[:40]\n",
    "y_train = y_data[:40]\n",
    "\n",
    "X_test = x_data[40:len(x_data)]\n",
    "y_test = y_data[40:len(y_data)]"
   ]
  },
  {
   "cell_type": "code",
   "execution_count": 23,
   "metadata": {},
   "outputs": [],
   "source": [
    "k = 6\n",
    "\n",
    "def distance(array, value):\n",
    "    array = np.array(array)\n",
    "    return np.linalg.norm(array - value, ord = 2, axis=0)\n",
    "\n",
    "def find_nearest_index(array, value, k):\n",
    "    array_D = distance(array, value)\n",
    "    \n",
    "    return np.argsort(array_D)[:k]"
   ]
  },
  {
   "cell_type": "code",
   "execution_count": 26,
   "metadata": {},
   "outputs": [
    {
     "name": "stdout",
     "output_type": "stream",
     "text": [
      "620.3278448859403  |  [711.73305769]\n",
      "620.3278448859403  |  [697.05277706]\n",
      "620.3278448859403  |  [638.23106095]\n",
      "620.3278448859403  |  [681.10013659]\n",
      "620.3278448859403  |  [591.49994589]\n",
      "620.3278448859403  |  [691.02271186]\n",
      "620.3278448859403  |  [681.03112144]\n",
      "620.3278448859403  |  [576.06974956]\n",
      "620.3278448859403  |  [562.4109333]\n",
      "620.3278448859403  |  [581.79371695]\n",
      "620.3278448859403  |  [842.79175243]\n"
     ]
    }
   ],
   "source": [
    "y_pred = np.zeros(len(y_test))\n",
    "\n",
    "for i in range(len(y_test)):\n",
    "    indexis = find_nearest_index(X_train, X_test[i], k)\n",
    "    for id in indexis:\n",
    "        y_pred[i] = y_pred[i] + y_train[id].item()\n",
    "    y_pred[i] = y_pred[i]/len(indexis)\n",
    "    print(y_pred[i], ' | ', y_test[i])"
   ]
  },
  {
   "cell_type": "code",
   "execution_count": 28,
   "metadata": {},
   "outputs": [
    {
     "name": "stdout",
     "output_type": "stream",
     "text": [
      "7641.5764831541455\n",
      "70.01861251545087\n",
      "-0.25160320573654027\n"
     ]
    }
   ],
   "source": [
    "from sklearn.metrics import mean_absolute_error, mean_squared_error, r2_score\n",
    "\n",
    "print(mean_squared_error(y_test, y_pred))\n",
    "print(mean_absolute_error(y_test, y_pred))\n",
    "print(r2_score(y_test, y_pred))"
   ]
  },
  {
   "cell_type": "code",
   "execution_count": null,
   "metadata": {},
   "outputs": [],
   "source": []
  }
 ],
 "metadata": {
  "kernelspec": {
   "display_name": "venv",
   "language": "python",
   "name": "python3"
  },
  "language_info": {
   "codemirror_mode": {
    "name": "ipython",
    "version": 3
   },
   "file_extension": ".py",
   "mimetype": "text/x-python",
   "name": "python",
   "nbconvert_exporter": "python",
   "pygments_lexer": "ipython3",
   "version": "3.12.2"
  }
 },
 "nbformat": 4,
 "nbformat_minor": 2
}
