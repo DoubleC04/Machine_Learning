{
 "cells": [
  {
   "cell_type": "code",
   "execution_count": 1,
   "metadata": {},
   "outputs": [],
   "source": [
    "import pandas as pd\n",
    "import numpy as np"
   ]
  },
  {
   "cell_type": "code",
   "execution_count": 2,
   "metadata": {},
   "outputs": [
    {
     "data": {
      "text/html": [
       "<div>\n",
       "<style scoped>\n",
       "    .dataframe tbody tr th:only-of-type {\n",
       "        vertical-align: middle;\n",
       "    }\n",
       "\n",
       "    .dataframe tbody tr th {\n",
       "        vertical-align: top;\n",
       "    }\n",
       "\n",
       "    .dataframe thead th {\n",
       "        text-align: right;\n",
       "    }\n",
       "</style>\n",
       "<table border=\"1\" class=\"dataframe\">\n",
       "  <thead>\n",
       "    <tr style=\"text-align: right;\">\n",
       "      <th></th>\n",
       "      <th>State</th>\n",
       "      <th>Drivers</th>\n",
       "      <th>FuelC</th>\n",
       "      <th>Income</th>\n",
       "      <th>Miles</th>\n",
       "      <th>MPC</th>\n",
       "      <th>Pop</th>\n",
       "      <th>Tax</th>\n",
       "    </tr>\n",
       "  </thead>\n",
       "  <tbody>\n",
       "    <tr>\n",
       "      <th>0</th>\n",
       "      <td>AL</td>\n",
       "      <td>3559897</td>\n",
       "      <td>2382507</td>\n",
       "      <td>23471</td>\n",
       "      <td>94440</td>\n",
       "      <td>12737.00</td>\n",
       "      <td>3451586</td>\n",
       "      <td>18.0</td>\n",
       "    </tr>\n",
       "    <tr>\n",
       "      <th>1</th>\n",
       "      <td>AK</td>\n",
       "      <td>472211</td>\n",
       "      <td>235400</td>\n",
       "      <td>30064</td>\n",
       "      <td>13628</td>\n",
       "      <td>7639.16</td>\n",
       "      <td>457728</td>\n",
       "      <td>8.0</td>\n",
       "    </tr>\n",
       "    <tr>\n",
       "      <th>2</th>\n",
       "      <td>AZ</td>\n",
       "      <td>3550367</td>\n",
       "      <td>2428430</td>\n",
       "      <td>25578</td>\n",
       "      <td>55245</td>\n",
       "      <td>9411.55</td>\n",
       "      <td>3907526</td>\n",
       "      <td>18.0</td>\n",
       "    </tr>\n",
       "    <tr>\n",
       "      <th>3</th>\n",
       "      <td>AR</td>\n",
       "      <td>1961883</td>\n",
       "      <td>1358174</td>\n",
       "      <td>22257</td>\n",
       "      <td>98132</td>\n",
       "      <td>11268.40</td>\n",
       "      <td>2072622</td>\n",
       "      <td>21.7</td>\n",
       "    </tr>\n",
       "    <tr>\n",
       "      <th>4</th>\n",
       "      <td>CA</td>\n",
       "      <td>21623793</td>\n",
       "      <td>14691753</td>\n",
       "      <td>32275</td>\n",
       "      <td>168771</td>\n",
       "      <td>8923.89</td>\n",
       "      <td>25599275</td>\n",
       "      <td>18.0</td>\n",
       "    </tr>\n",
       "  </tbody>\n",
       "</table>\n",
       "</div>"
      ],
      "text/plain": [
       "  State   Drivers     FuelC  Income   Miles       MPC       Pop   Tax\n",
       "0    AL   3559897   2382507   23471   94440  12737.00   3451586  18.0\n",
       "1    AK    472211    235400   30064   13628   7639.16    457728   8.0\n",
       "2    AZ   3550367   2428430   25578   55245   9411.55   3907526  18.0\n",
       "3    AR   1961883   1358174   22257   98132  11268.40   2072622  21.7\n",
       "4    CA  21623793  14691753   32275  168771   8923.89  25599275  18.0"
      ]
     },
     "execution_count": 2,
     "metadata": {},
     "output_type": "execute_result"
    }
   ],
   "source": [
    "file_path = '../../data/Prac2/fuel.txt'\n",
    "\n",
    "df = pd.read_csv(file_path)\n",
    "df.head()"
   ]
  },
  {
   "cell_type": "code",
   "execution_count": 3,
   "metadata": {},
   "outputs": [
    {
     "data": {
      "text/html": [
       "<div>\n",
       "<style scoped>\n",
       "    .dataframe tbody tr th:only-of-type {\n",
       "        vertical-align: middle;\n",
       "    }\n",
       "\n",
       "    .dataframe tbody tr th {\n",
       "        vertical-align: top;\n",
       "    }\n",
       "\n",
       "    .dataframe thead th {\n",
       "        text-align: right;\n",
       "    }\n",
       "</style>\n",
       "<table border=\"1\" class=\"dataframe\">\n",
       "  <thead>\n",
       "    <tr style=\"text-align: right;\">\n",
       "      <th></th>\n",
       "      <th>State</th>\n",
       "      <th>Drivers</th>\n",
       "      <th>FuelC</th>\n",
       "      <th>Income</th>\n",
       "      <th>Miles</th>\n",
       "      <th>MPC</th>\n",
       "      <th>Pop</th>\n",
       "      <th>Tax</th>\n",
       "      <th>Fuel</th>\n",
       "      <th>Dlic</th>\n",
       "      <th>logMiles</th>\n",
       "    </tr>\n",
       "  </thead>\n",
       "  <tbody>\n",
       "    <tr>\n",
       "      <th>0</th>\n",
       "      <td>AL</td>\n",
       "      <td>3559897</td>\n",
       "      <td>2382507</td>\n",
       "      <td>23471</td>\n",
       "      <td>94440</td>\n",
       "      <td>12737.00</td>\n",
       "      <td>3451586</td>\n",
       "      <td>18.0</td>\n",
       "      <td>690.264418</td>\n",
       "      <td>1031.380067</td>\n",
       "      <td>16.527110</td>\n",
       "    </tr>\n",
       "    <tr>\n",
       "      <th>1</th>\n",
       "      <td>AK</td>\n",
       "      <td>472211</td>\n",
       "      <td>235400</td>\n",
       "      <td>30064</td>\n",
       "      <td>13628</td>\n",
       "      <td>7639.16</td>\n",
       "      <td>457728</td>\n",
       "      <td>8.0</td>\n",
       "      <td>514.279223</td>\n",
       "      <td>1031.641062</td>\n",
       "      <td>13.734286</td>\n",
       "    </tr>\n",
       "    <tr>\n",
       "      <th>2</th>\n",
       "      <td>AZ</td>\n",
       "      <td>3550367</td>\n",
       "      <td>2428430</td>\n",
       "      <td>25578</td>\n",
       "      <td>55245</td>\n",
       "      <td>9411.55</td>\n",
       "      <td>3907526</td>\n",
       "      <td>18.0</td>\n",
       "      <td>621.475071</td>\n",
       "      <td>908.597153</td>\n",
       "      <td>15.753556</td>\n",
       "    </tr>\n",
       "    <tr>\n",
       "      <th>3</th>\n",
       "      <td>AR</td>\n",
       "      <td>1961883</td>\n",
       "      <td>1358174</td>\n",
       "      <td>22257</td>\n",
       "      <td>98132</td>\n",
       "      <td>11268.40</td>\n",
       "      <td>2072622</td>\n",
       "      <td>21.7</td>\n",
       "      <td>655.292668</td>\n",
       "      <td>946.570576</td>\n",
       "      <td>16.582436</td>\n",
       "    </tr>\n",
       "    <tr>\n",
       "      <th>4</th>\n",
       "      <td>CA</td>\n",
       "      <td>21623793</td>\n",
       "      <td>14691753</td>\n",
       "      <td>32275</td>\n",
       "      <td>168771</td>\n",
       "      <td>8923.89</td>\n",
       "      <td>25599275</td>\n",
       "      <td>18.0</td>\n",
       "      <td>573.912855</td>\n",
       "      <td>844.703336</td>\n",
       "      <td>17.364708</td>\n",
       "    </tr>\n",
       "  </tbody>\n",
       "</table>\n",
       "</div>"
      ],
      "text/plain": [
       "  State   Drivers     FuelC  Income   Miles       MPC       Pop   Tax  \\\n",
       "0    AL   3559897   2382507   23471   94440  12737.00   3451586  18.0   \n",
       "1    AK    472211    235400   30064   13628   7639.16    457728   8.0   \n",
       "2    AZ   3550367   2428430   25578   55245   9411.55   3907526  18.0   \n",
       "3    AR   1961883   1358174   22257   98132  11268.40   2072622  21.7   \n",
       "4    CA  21623793  14691753   32275  168771   8923.89  25599275  18.0   \n",
       "\n",
       "         Fuel         Dlic   logMiles  \n",
       "0  690.264418  1031.380067  16.527110  \n",
       "1  514.279223  1031.641062  13.734286  \n",
       "2  621.475071   908.597153  15.753556  \n",
       "3  655.292668   946.570576  16.582436  \n",
       "4  573.912855   844.703336  17.364708  "
      ]
     },
     "execution_count": 3,
     "metadata": {},
     "output_type": "execute_result"
    }
   ],
   "source": [
    "import math\n",
    "\n",
    "df['Fuel'] = 1000 * df['FuelC']/df['Pop']\n",
    "df['Dlic'] = 1000 * df['Drivers']/df['Pop']\n",
    "df['logMiles'] = df['Miles'].apply(lambda x: math.log2(x))\n",
    "\n",
    "df.head()"
   ]
  },
  {
   "cell_type": "code",
   "execution_count": 4,
   "metadata": {},
   "outputs": [
    {
     "data": {
      "text/html": [
       "<div>\n",
       "<style scoped>\n",
       "    .dataframe tbody tr th:only-of-type {\n",
       "        vertical-align: middle;\n",
       "    }\n",
       "\n",
       "    .dataframe tbody tr th {\n",
       "        vertical-align: top;\n",
       "    }\n",
       "\n",
       "    .dataframe thead th {\n",
       "        text-align: right;\n",
       "    }\n",
       "</style>\n",
       "<table border=\"1\" class=\"dataframe\">\n",
       "  <thead>\n",
       "    <tr style=\"text-align: right;\">\n",
       "      <th></th>\n",
       "      <th>Income</th>\n",
       "      <th>Tax</th>\n",
       "      <th>Fuel</th>\n",
       "      <th>Dlic</th>\n",
       "      <th>logMiles</th>\n",
       "    </tr>\n",
       "  </thead>\n",
       "  <tbody>\n",
       "    <tr>\n",
       "      <th>0</th>\n",
       "      <td>23471</td>\n",
       "      <td>18.0</td>\n",
       "      <td>690.264418</td>\n",
       "      <td>1031.380067</td>\n",
       "      <td>16.527110</td>\n",
       "    </tr>\n",
       "    <tr>\n",
       "      <th>1</th>\n",
       "      <td>30064</td>\n",
       "      <td>8.0</td>\n",
       "      <td>514.279223</td>\n",
       "      <td>1031.641062</td>\n",
       "      <td>13.734286</td>\n",
       "    </tr>\n",
       "    <tr>\n",
       "      <th>2</th>\n",
       "      <td>25578</td>\n",
       "      <td>18.0</td>\n",
       "      <td>621.475071</td>\n",
       "      <td>908.597153</td>\n",
       "      <td>15.753556</td>\n",
       "    </tr>\n",
       "    <tr>\n",
       "      <th>3</th>\n",
       "      <td>22257</td>\n",
       "      <td>21.7</td>\n",
       "      <td>655.292668</td>\n",
       "      <td>946.570576</td>\n",
       "      <td>16.582436</td>\n",
       "    </tr>\n",
       "    <tr>\n",
       "      <th>4</th>\n",
       "      <td>32275</td>\n",
       "      <td>18.0</td>\n",
       "      <td>573.912855</td>\n",
       "      <td>844.703336</td>\n",
       "      <td>17.364708</td>\n",
       "    </tr>\n",
       "  </tbody>\n",
       "</table>\n",
       "</div>"
      ],
      "text/plain": [
       "   Income   Tax        Fuel         Dlic   logMiles\n",
       "0   23471  18.0  690.264418  1031.380067  16.527110\n",
       "1   30064   8.0  514.279223  1031.641062  13.734286\n",
       "2   25578  18.0  621.475071   908.597153  15.753556\n",
       "3   22257  21.7  655.292668   946.570576  16.582436\n",
       "4   32275  18.0  573.912855   844.703336  17.364708"
      ]
     },
     "execution_count": 4,
     "metadata": {},
     "output_type": "execute_result"
    }
   ],
   "source": [
    "df1 = df.drop(columns=['FuelC', 'State', 'Miles', 'MPC', 'Pop', 'Drivers'])\n",
    "df1.head()"
   ]
  },
  {
   "cell_type": "code",
   "execution_count": 5,
   "metadata": {},
   "outputs": [
    {
     "data": {
      "text/html": [
       "<div>\n",
       "<style scoped>\n",
       "    .dataframe tbody tr th:only-of-type {\n",
       "        vertical-align: middle;\n",
       "    }\n",
       "\n",
       "    .dataframe tbody tr th {\n",
       "        vertical-align: top;\n",
       "    }\n",
       "\n",
       "    .dataframe thead th {\n",
       "        text-align: right;\n",
       "    }\n",
       "</style>\n",
       "<table border=\"1\" class=\"dataframe\">\n",
       "  <thead>\n",
       "    <tr style=\"text-align: right;\">\n",
       "      <th></th>\n",
       "      <th>Tax</th>\n",
       "      <th>Dlic</th>\n",
       "      <th>Income</th>\n",
       "      <th>logMiles</th>\n",
       "      <th>Fuel</th>\n",
       "    </tr>\n",
       "  </thead>\n",
       "  <tbody>\n",
       "    <tr>\n",
       "      <th>0</th>\n",
       "      <td>18.0</td>\n",
       "      <td>1031.380067</td>\n",
       "      <td>23471</td>\n",
       "      <td>16.527110</td>\n",
       "      <td>690.264418</td>\n",
       "    </tr>\n",
       "    <tr>\n",
       "      <th>1</th>\n",
       "      <td>8.0</td>\n",
       "      <td>1031.641062</td>\n",
       "      <td>30064</td>\n",
       "      <td>13.734286</td>\n",
       "      <td>514.279223</td>\n",
       "    </tr>\n",
       "    <tr>\n",
       "      <th>2</th>\n",
       "      <td>18.0</td>\n",
       "      <td>908.597153</td>\n",
       "      <td>25578</td>\n",
       "      <td>15.753556</td>\n",
       "      <td>621.475071</td>\n",
       "    </tr>\n",
       "    <tr>\n",
       "      <th>3</th>\n",
       "      <td>21.7</td>\n",
       "      <td>946.570576</td>\n",
       "      <td>22257</td>\n",
       "      <td>16.582436</td>\n",
       "      <td>655.292668</td>\n",
       "    </tr>\n",
       "    <tr>\n",
       "      <th>4</th>\n",
       "      <td>18.0</td>\n",
       "      <td>844.703336</td>\n",
       "      <td>32275</td>\n",
       "      <td>17.364708</td>\n",
       "      <td>573.912855</td>\n",
       "    </tr>\n",
       "  </tbody>\n",
       "</table>\n",
       "</div>"
      ],
      "text/plain": [
       "    Tax         Dlic  Income   logMiles        Fuel\n",
       "0  18.0  1031.380067   23471  16.527110  690.264418\n",
       "1   8.0  1031.641062   30064  13.734286  514.279223\n",
       "2  18.0   908.597153   25578  15.753556  621.475071\n",
       "3  21.7   946.570576   22257  16.582436  655.292668\n",
       "4  18.0   844.703336   32275  17.364708  573.912855"
      ]
     },
     "execution_count": 5,
     "metadata": {},
     "output_type": "execute_result"
    }
   ],
   "source": [
    "df1 = df1[['Tax', 'Dlic', 'Income', 'logMiles', 'Fuel']]\n",
    "df1.head()"
   ]
  },
  {
   "cell_type": "code",
   "execution_count": 6,
   "metadata": {},
   "outputs": [],
   "source": [
    "X = df1.drop('Fuel', axis='columns')\n",
    "y = df1['Fuel']"
   ]
  },
  {
   "cell_type": "code",
   "execution_count": 7,
   "metadata": {},
   "outputs": [],
   "source": [
    "X_train = X[:40]\n",
    "y_train = y[:40]\n",
    "\n",
    "X_test = X[40:]\n",
    "y_test = y[40:]"
   ]
  },
  {
   "cell_type": "markdown",
   "metadata": {},
   "source": [
    "## Using numpy"
   ]
  },
  {
   "cell_type": "code",
   "execution_count": 8,
   "metadata": {},
   "outputs": [],
   "source": [
    "def linear_regression(X_train, y_train):\n",
    "# \"\"\"\n",
    "# This function calculate linear regression base on X_train and y_train\n",
    "# :param X_train: vector\n",
    "# :param y_train: vector\n",
    "# :return: w (regression estimate)\n",
    "# \"\"\"\n",
    "    X_train = X_train.to_numpy()\n",
    "    y_train = y_train.to_numpy().reshape(-1, 1)\n",
    "\n",
    "    # add column 1\n",
    "    x_bars = np.concatenate((np.ones((X_train.shape[0], 1)), X_train), axis=1)\n",
    "\n",
    "    Q, R = np.linalg.qr(x_bars) # QR decomposition\n",
    "    R_pinv = np.linalg.pinv(R) # calculate inverse matrix of R\n",
    "    A = np.dot(R_pinv, Q.T) # apply formula\n",
    "\n",
    "    return np.dot(A, y_train)"
   ]
  },
  {
   "cell_type": "code",
   "execution_count": 9,
   "metadata": {},
   "outputs": [
    {
     "name": "stdout",
     "output_type": "stream",
     "text": [
      "           Intercept: 135.14202277840923\n",
      "                 Tax: -1.9030119273939228\n",
      "                Dlic: 0.41859239924045655\n",
      "              Income: -0.006229430094339298\n",
      "            LogMiles: 19.593855914053012\n"
     ]
    }
   ],
   "source": [
    "w = linear_regression(X_train, y_train) # get result\n",
    "w = w.T.tolist()\n",
    "\n",
    "line = ['Intercept', 'Tax', \"Dlic\", \"Income\", 'LogMiles']\n",
    "res = list(zip(line, w[0]))\n",
    "for o in res:\n",
    "    print(\"{: >20}: {: >10}\".format(*o))"
   ]
  },
  {
   "cell_type": "code",
   "execution_count": 10,
   "metadata": {},
   "outputs": [
    {
     "data": {
      "text/plain": [
       "[[135.14202277840923,\n",
       "  -1.9030119273939228,\n",
       "  0.41859239924045655,\n",
       "  -0.006229430094339298,\n",
       "  19.593855914053012]]"
      ]
     },
     "execution_count": 10,
     "metadata": {},
     "output_type": "execute_result"
    }
   ],
   "source": [
    "w"
   ]
  },
  {
   "cell_type": "code",
   "execution_count": 11,
   "metadata": {},
   "outputs": [],
   "source": [
    "def predict(weights, values):\n",
    "    result = weights[0]\n",
    "    \n",
    "    for i in range(len(values)):\n",
    "        result += weights[i+1] * values[i]\n",
    "        \n",
    "    return result\n",
    "        \n",
    "    "
   ]
  },
  {
   "cell_type": "code",
   "execution_count": 12,
   "metadata": {},
   "outputs": [
    {
     "data": {
      "text/plain": [
       "(11, 4)"
      ]
     },
     "execution_count": 12,
     "metadata": {},
     "output_type": "execute_result"
    }
   ],
   "source": [
    "X_test.shape"
   ]
  },
  {
   "cell_type": "code",
   "execution_count": 13,
   "metadata": {},
   "outputs": [
    {
     "name": "stdout",
     "output_type": "stream",
     "text": [
      "[1.60000000e+01 9.14852671e+02 2.43210000e+04 1.60138242e+01]\n",
      "[2.20000000e+01 9.43895904e+02 2.61150000e+04 1.63505249e+01]\n",
      "[2.00000000e+01 9.42044365e+02 2.62390000e+04 1.64223605e+01]\n",
      "[2.00000000e+01 8.35295555e+02 2.78710000e+04 1.81982868e+01]\n",
      "[2.45000000e+01 9.35788546e+02 2.39070000e+04 1.53652288e+01]\n",
      "[2.00000000e+01 1.07528820e+03 2.69010000e+04 1.38028193e+01]\n",
      "[1.75000000e+01 8.89919514e+02 3.11620000e+04 1.61098511e+01]\n",
      "[2.30000000e+01 9.30856246e+02 3.15280000e+04 1.63053671e+01]\n",
      "[2.56500000e+01 9.04893601e+02 2.19150000e+04 1.51751207e+01]\n",
      "[2.73000000e+01 8.82329081e+02 2.82320000e+04 1.67816543e+01]\n",
      "[1.40000000e+01 9.70752746e+02 2.72300000e+04 1.47361905e+01]\n"
     ]
    }
   ],
   "source": [
    "for val in X_test.values:\n",
    "    print(val)"
   ]
  },
  {
   "cell_type": "code",
   "execution_count": 14,
   "metadata": {},
   "outputs": [
    {
     "data": {
      "text/plain": [
       "array([649.91080195, 646.07167308, 649.73774387, 629.6843171 ,\n",
       "       632.36929804, 650.06180511, 595.88545846, 604.10563913,\n",
       "       625.93251769, 605.47408949, 633.96098858])"
      ]
     },
     "execution_count": 14,
     "metadata": {},
     "output_type": "execute_result"
    }
   ],
   "source": [
    "weights = w[0]\n",
    "y_pred = np.array([predict(weights, value) for value in X_test.values])\n",
    "\n",
    "y_pred"
   ]
  },
  {
   "cell_type": "code",
   "execution_count": 15,
   "metadata": {},
   "outputs": [
    {
     "name": "stdout",
     "output_type": "stream",
     "text": [
      "6253.362638613635\n",
      "60.61549039710437\n",
      "-0.02422958696755284\n"
     ]
    }
   ],
   "source": [
    "from sklearn.metrics import mean_squared_error, mean_absolute_error, r2_score\n",
    "\n",
    "print(mean_squared_error(y_test, y_pred))\n",
    "print(mean_absolute_error(y_test, y_pred))\n",
    "print(r2_score(y_test, y_pred))"
   ]
  },
  {
   "cell_type": "code",
   "execution_count": null,
   "metadata": {},
   "outputs": [],
   "source": []
  },
  {
   "cell_type": "code",
   "execution_count": null,
   "metadata": {},
   "outputs": [],
   "source": []
  },
  {
   "cell_type": "code",
   "execution_count": null,
   "metadata": {},
   "outputs": [],
   "source": []
  },
  {
   "cell_type": "code",
   "execution_count": null,
   "metadata": {},
   "outputs": [],
   "source": []
  },
  {
   "cell_type": "code",
   "execution_count": null,
   "metadata": {},
   "outputs": [],
   "source": []
  },
  {
   "cell_type": "code",
   "execution_count": null,
   "metadata": {},
   "outputs": [],
   "source": []
  },
  {
   "cell_type": "code",
   "execution_count": null,
   "metadata": {},
   "outputs": [],
   "source": []
  },
  {
   "cell_type": "code",
   "execution_count": null,
   "metadata": {},
   "outputs": [],
   "source": []
  }
 ],
 "metadata": {
  "kernelspec": {
   "display_name": "venv",
   "language": "python",
   "name": "python3"
  },
  "language_info": {
   "codemirror_mode": {
    "name": "ipython",
    "version": 3
   },
   "file_extension": ".py",
   "mimetype": "text/x-python",
   "name": "python",
   "nbconvert_exporter": "python",
   "pygments_lexer": "ipython3",
   "version": "3.12.2"
  }
 },
 "nbformat": 4,
 "nbformat_minor": 2
}
