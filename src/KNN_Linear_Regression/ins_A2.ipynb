{
 "cells": [
  {
   "cell_type": "code",
   "execution_count": 1,
   "metadata": {},
   "outputs": [],
   "source": [
    "import numpy as np\n",
    "import matplotlib.pyplot as plt"
   ]
  },
  {
   "cell_type": "code",
   "execution_count": 2,
   "metadata": {},
   "outputs": [],
   "source": [
    "# Temp (F degree)\n",
    "\n",
    "X = np.array([[194.5, 194.3, 197.9, 198.4, 199.4, 199.9, 200.9, 201.1, 201.4, 201.3, \n",
    "               203.6, 204.6, 209.5, 208.6, 210.7, 211.9, 212.2]]).T\n",
    "# Press (Atm)\n",
    "\n",
    "y = np.array([[20.79,20.79,22.4,22.67,23.15,23.35,23.89,23.99,24.02,24.01,25.14,26.57,\n",
    "               28.49,27.76,29.04,29.88,30.06]]).T"
   ]
  },
  {
   "cell_type": "code",
   "execution_count": 3,
   "metadata": {},
   "outputs": [
    {
     "data": {
      "text/plain": [
       "Text(0, 0.5, 'Pressure (Atm)')"
      ]
     },
     "execution_count": 3,
     "metadata": {},
     "output_type": "execute_result"
    },
    {
     "data": {
      "image/png": "[encoded data removed]",
      "text/plain": [
       "<Figure size 640x480 with 1 Axes>"
      ]
     },
     "metadata": {},
     "output_type": "display_data"
    }
   ],
   "source": [
    "# Visualize data\n",
    "plt.plot(X, y, 'ro')\n",
    "plt.axis([193, 213, 19, 31])\n",
    "plt.xlabel('Temperature (F)')\n",
    "plt.ylabel('Pressure (Atm)')"
   ]
  },
  {
   "cell_type": "code",
   "execution_count": 4,
   "metadata": {},
   "outputs": [],
   "source": [
    "X_train = X[:16]\n",
    "y_train = y[:16]\n",
    "\n",
    "data_len = len(X)\n",
    "X_test = X[16:data_len]\n",
    "y_test = y[16:data_len]"
   ]
  },
  {
   "cell_type": "code",
   "execution_count": 5,
   "metadata": {},
   "outputs": [],
   "source": [
    "k = 4\n",
    "\n",
    "def distance(array, value):\n",
    "    array = np.array(array)\n",
    "    return abs(array - value)\n",
    "\n",
    "def find_nearest_index(array, value, k):\n",
    "    array_D = distance(array, value)\n",
    "    \n",
    "    return np.argsort(array_D)[:k]"
   ]
  },
  {
   "cell_type": "code",
   "execution_count": 6,
   "metadata": {},
   "outputs": [
    {
     "name": "stdout",
     "output_type": "stream",
     "text": [
      "20.79  |  [30.06]\n"
     ]
    }
   ],
   "source": [
    "y_pred = np.zeros(len(y_test))\n",
    "\n",
    "for i in range(len(y_test)):\n",
    "    indexis = find_nearest_index(X_train, X_test[i], k)\n",
    "    for id in indexis:\n",
    "        y_pred[i] = y_pred[i] + y_train[id].item()\n",
    "    y_pred[i] = y_pred[i]/len(indexis)\n",
    "    print(y_pred[i], ' | ', y_test[i])"
   ]
  },
  {
   "cell_type": "code",
   "execution_count": null,
   "metadata": {},
   "outputs": [],
   "source": []
  }
 ],
 "metadata": {
  "kernelspec": {
   "display_name": "venv",
   "language": "python",
   "name": "python3"
  },
  "language_info": {
   "codemirror_mode": {
    "name": "ipython",
    "version": 3
   },
   "file_extension": ".py",
   "mimetype": "text/x-python",
   "name": "python",
   "nbconvert_exporter": "python",
   "pygments_lexer": "ipython3",
   "version": "3.12.2"
  }
 },
 "nbformat": 4,
 "nbformat_minor": 2
}
